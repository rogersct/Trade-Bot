{
 "cells": [
  {
   "cell_type": "code",
   "execution_count": 1,
   "metadata": {
    "scrolled": false
   },
   "outputs": [],
   "source": [
    "import numpy as np\n",
    "import pandas as pd\n",
    "pd.set_option('display.max_colwidth', None)\n",
    "import yfinance as yf\n",
    "import datetime\n",
    "from IPython.display import clear_output\n",
    "import pytz\n",
    "import timeit\n",
    "from time import sleep\n",
    "\n",
    "#import plotly.io as pio\n",
    "#pio.renderers.default = \"browser\""
   ]
  },
  {
   "cell_type": "code",
   "execution_count": 2,
   "metadata": {
    "scrolled": false
   },
   "outputs": [],
   "source": [
    "def resample_data(df, interval):\n",
    "    # Define the resampling logic\n",
    "    ohlcv_dict = {\n",
    "         'Open': 'first',\n",
    "         'High': 'max',\n",
    "         'Low': 'min',\n",
    "         'Close': 'last',\n",
    "         'Volume': 'sum'\n",
    "    }\n",
    "    # 10T for 10 minutes, D for 1 day and M for 1 month\n",
    "    # Resample the data\n",
    "    df = df.resample(interval).agg(ohlcv_dict)\n",
    "    df = df.dropna()\n",
    "    return df"
   ]
  },
  {
   "cell_type": "code",
   "execution_count": 3,
   "metadata": {
    "scrolled": false
   },
   "outputs": [],
   "source": [
    "from pyti.exponential_moving_average import exponential_moving_average as ema\n",
    "import pandas_ta as ta\n",
    "import yfinance.shared as shared\n",
    "\n",
    "def create_watchlist_dict(watchlist_path):\n",
    "    # Retrieve ticker's symbol from watchlist\n",
    "    watchlist_filename = watchlist_path\n",
    "    df_watchlist = pd.read_csv(watchlist_filename)  \n",
    "    print(df_watchlist)\n",
    "\n",
    "    # Create a dictionary \n",
    "    watchlist_dict = pd.Series(None,df_watchlist.Symbol.values).to_dict()\n",
    "    # Initialize empty dataframe\n",
    "    for key, df in watchlist_dict.items():\n",
    "        watchlist_dict[key] = pd.DataFrame()\n",
    "        \n",
    "    return watchlist_dict\n",
    "\n",
    "# Calculate indicators EMA9, EMA13, VWAP\n",
    "def vwap(df):\n",
    "    v = df.Volume.values\n",
    "    tp = (df.High+df.Low+df.Close).div(3).values\n",
    "    df['vwap'] = (tp*v).cumsum() / v.cumsum()\n",
    "    return df\n",
    "\n",
    "def calculate_indicators(df):\n",
    "    df = df.groupby(df.index.date, group_keys=False).apply(vwap)\n",
    "    df['ema_nine'] = ta.ema(df['Close'], length=9)\n",
    "    df['ema_thirteen'] = ta.ema(df['Close'], length=13)\n",
    "    #df['ema_nine'] = ema(df['Close'], 9)\n",
    "    #df['ema_thirteen'] = ema(df['Close'], 13)\n",
    "    return df\n",
    "    \n",
    "def pull_intraday_data(ticker_symbol, today_date_str):\n",
    "    intraday_data = yf.download(tickers=ticker_symbol, period='2d', interval='1m', auto_adjust=True, threads =False)\n",
    "    #print(shared._ERRORS)\n",
    "    sleep(0.06)\n",
    "    intraday_data = resample_data(intraday_data, '3T')\n",
    "    intraday_data = calculate_indicators(intraday_data)\n",
    "    intraday_data = intraday_data.loc[today_date_str]\n",
    "        \n",
    "#     if(intraday_data.shape[0] > 0):\n",
    "#         #print(ticker_symbol + \" Data Pull Successful\")\n",
    "#         intraday_data = resample_data(intraday_data, '3T')\n",
    "#         intraday_data = calculate_indicators(intraday_data)\n",
    "#         intraday_data = intraday_data.loc[today_date_str]\n",
    "    \n",
    "    return intraday_data\n",
    "\n",
    "# Initialize intraday strategy columns\n",
    "def initialize_columns(intraday_df):\n",
    "    # Create columns for Triple EMA\n",
    "    intraday_df['triple_ema_low_closeness'] = 0\n",
    "    intraday_df['triple_ema_high_closeness'] = 0\n",
    "    intraday_df['triple_ema_hold_rule_one'] = 0\n",
    "    intraday_df['triple_ema_retest_rule_two'] = 0\n",
    "    intraday_df['triple_ema_hold_above_signal'] = 0\n",
    "    intraday_df['triple_ema_hold_above_signal_cummulative'] = 0\n",
    "    intraday_df['triple_ema_hold_below_signal'] = 0\n",
    "    intraday_df['triple_ema_hold_below_signal_cummulative'] = 0 \n",
    "\n",
    "    # Create columns for EMA 9 and VWAP crossover\n",
    "    intraday_df['crossover_signal'] = 0\n",
    "    intraday_df['crossover_position'] = 0\n",
    "\n",
    "    # Create columns for vwap_retest\n",
    "    intraday_df['vwap_retest_signal_rule_one'] = 0\n",
    "    intraday_df['vwap_confirmation_candle_signal_rule_two'] = 0\n",
    "    intraday_df['candle_open_close_midpoint'] = 0\n",
    "    intraday_df['current_vwap_local_max'] = 0\n",
    "    intraday_df['prev_vwap_local_max'] = 0\n",
    "    intraday_df['current_vwap_local_min'] = np.inf\n",
    "    intraday_df['prev_vwap_local_min'] = np.inf\n",
    "    \n",
    "    return intraday_df\n",
    "    \n"
   ]
  },
  {
   "cell_type": "code",
   "execution_count": 4,
   "metadata": {
    "scrolled": false
   },
   "outputs": [],
   "source": [
    "import plotly.graph_objs as go\n",
    "\n",
    "def create_graph():\n",
    "    f = go.FigureWidget()\n",
    "    f.add_candlestick()\n",
    "    f.add_scatter()\n",
    "    f.add_scatter()\n",
    "    f.add_scatter()\n",
    "    f.update_xaxes(\n",
    "            rangeslider_visible=True,\n",
    "            rangebreaks=[\n",
    "                # NOTE: Below values are bound (not single values), ie. hide x to y\n",
    "                dict(bounds=[\"sat\", \"mon\"]),  # hide weekends, eg. hide sat to before mon\n",
    "                dict(bounds=[16, 9.5], pattern=\"hour\"),  # hide hours outside of 9.30am-4pm\n",
    "                # dict(values=[\"2020-12-25\", \"2021-01-01\"])  # hide holidays (Christmas and New Year's, etc)\n",
    "            ]\n",
    "        )\n",
    "    display(f)\n",
    "    return f\n",
    "def update_graph(df, f):\n",
    "    # Update candlestick\n",
    "    candlestick = f.data[0]\n",
    "    candlestick.x = x=df.index\n",
    "    candlestick.open = df['Open']\n",
    "    candlestick.high = df['High']\n",
    "    candlestick.low = df['Low']\n",
    "    candlestick.close = df['Close']\n",
    "    candlestick.name = 'market data'\n",
    "    \n",
    "    #Update VWAP\n",
    "    scatter_vwap = f.data[1]\n",
    "    scatter_vwap.x = df.index\n",
    "    scatter_vwap.y = df['vwap']\n",
    "    scatter_vwap.mode='lines'\n",
    "    scatter_vwap.name = 'VWAP'\n",
    "    scatter_vwap.line = dict(color='teal')\n",
    "    \n",
    "    #Update EMA9\n",
    "    scatter_ema9 = f.data[2]\n",
    "    scatter_ema9.x = df.index\n",
    "    scatter_ema9.y = df['ema_nine']\n",
    "    scatter_ema9.mode='lines'\n",
    "    scatter_ema9.name = 'EMA9'\n",
    "    scatter_ema9.line = dict(color='blue')\n",
    "    \n",
    "    #Update EMA13\n",
    "    scatter_ema13 = f.data[3]\n",
    "    scatter_ema13.x = df.index\n",
    "    scatter_ema13.y = df['ema_thirteen']\n",
    "    scatter_ema13.mode='lines'\n",
    "    scatter_ema13.name = 'EMA13'\n",
    "    scatter_ema13.line = dict(color='purple')\n",
    "    \n",
    "    \n",
    "    return f\n",
    "def plot_graph(df):\n",
    "    #clear_output()\n",
    "    fig = go.Figure()\n",
    "\n",
    "    fig.add_trace(go.Candlestick(x=df.index,\n",
    "                                open=df['Open'],\n",
    "                                high=df['High'],\n",
    "                                low=df['Low'],\n",
    "                                close=df['Close'], name = 'market data'))\n",
    "    fig.add_trace(go.Scatter(x=df.index, y=df['vwap'], mode='lines', name = 'VWAP', \n",
    "                  line=dict(color='teal')))\n",
    "    fig.add_trace(go.Scatter(x=df.index, y=df['ema_nine'], mode='lines', name = 'EMA9', \n",
    "                  line=dict(color='blue')))\n",
    "    fig.add_trace(go.Scatter(x=df.index, y=df['ema_thirteen'], mode='lines', name = 'EMA13', \n",
    "                  line=dict(color='purple')))\n",
    "\n",
    "    #fig.update_layout(xaxis_rangeslider_visible=False)\n",
    "    fig.update_xaxes(\n",
    "            rangeslider_visible=True,\n",
    "            rangebreaks=[\n",
    "                # NOTE: Below values are bound (not single values), ie. hide x to y\n",
    "                dict(bounds=[\"sat\", \"mon\"]),  # hide weekends, eg. hide sat to before mon\n",
    "                dict(bounds=[16, 9.5], pattern=\"hour\"),  # hide hours outside of 9.30am-4pm\n",
    "                # dict(values=[\"2020-12-25\", \"2021-01-01\"])  # hide holidays (Christmas and New Year's, etc)\n",
    "            ]\n",
    "        )\n",
    "    display(fig)"
   ]
  },
  {
   "cell_type": "code",
   "execution_count": 5,
   "metadata": {
    "scrolled": false
   },
   "outputs": [],
   "source": [
    "def generate_ema9_vwap_signal(df):\n",
    "    # Looking for EMA9 and VWAP Crossover\n",
    "    #df_temp = df.copy()\n",
    "    #df_temp['crossover_signal'] = 0\n",
    "    print(\"Running Analysis - EMA9 + VWAP Crossover Setup\")\n",
    "    \n",
    "    df['crossover_signal'] = np.where(df['ema_nine'] > df['vwap'], 1, 0)\n",
    "    df['crossover_position'] = df['crossover_signal'].diff()    \n",
    "    return df\n",
    "\n",
    "def hold_above_or_below(df):\n",
    "    \n",
    "    close_to_ema_tolerance = 0.0005 # 0.05%\n",
    "    \n",
    "    df = df.copy()\n",
    "    \n",
    "    # Check if last 5 candles are within tolerance    \n",
    "    df['triple_ema_low_closeness'] = abs(df['Low'] - df['ema_nine']) / df['ema_nine']\n",
    "    df['triple_ema_hold_above_signal'] = np.where((df['Low'] >= df['ema_nine']) | (df['triple_ema_low_closeness'] <= close_to_ema_tolerance) , 1, 0)\n",
    "    #df['triple_ema_hold_above_signal'] = np.where(df['Low'] >= df['ema_nine'], 1, 0)\n",
    "    df['triple_ema_hold_above_signal_cummulative'] = df['triple_ema_hold_above_signal'].cumsum()\n",
    "    if (df.loc[df.index[-1], 'triple_ema_hold_above_signal_cummulative'] == 5):\n",
    "        df.loc[df.index[-1], 'triple_ema_hold_rule_one'] = 1\n",
    "        \n",
    "        \n",
    "    # Check if rule 1 fulfilled - 5 Candles below EMA 20\n",
    "    df['triple_ema_high_closeness'] = abs(df['High'] - df['ema_nine']) / df['ema_nine']\n",
    "    df['triple_ema_hold_below_signal'] = np.where((df['High'] <= df['ema_nine']) | (df['triple_ema_high_closeness'] <= close_to_ema_tolerance), -1, 0)\n",
    "    #df['triple_ema_hold_below_signal'] = np.where(df['High'] <= df['ema_nine'], -1, 0)\n",
    "\n",
    "    df['triple_ema_hold_below_signal_cummulative'] = df['triple_ema_hold_below_signal'].cumsum()\n",
    "    if (df.loc[df.index[-1], 'triple_ema_hold_below_signal_cummulative'] == -5):\n",
    "        df.loc[df.index[-1], 'triple_ema_hold_rule_one'] = -1\n",
    "    \n",
    "    tolerance  = 0.0005 # 0.05%\n",
    "    # Check for Long or Short\n",
    "    if df.loc[df.index[-1], 'triple_ema_hold_rule_one'] == -1:\n",
    "    \n",
    "        # Check if rule 2 fulfilled - candle 0 touches/nears EMA20, 0.05% is considered near\n",
    "        if 0 <= (abs(df.loc[df.index[-1], 'ema_nine'] - df.loc[df.index[-1], 'High'])\n",
    "                 /df.loc[df.index[-1], 'ema_nine']) <= tolerance:\n",
    "            df.loc[df.index[-1], 'triple_ema_retest_rule_two'] = -1 \n",
    "                \n",
    "    \n",
    "    elif df.loc[df.index[-1], 'triple_ema_hold_rule_one'] == 1:\n",
    "        \n",
    "        # Check if rule 2 fulfilled - candle 0 touches/nears EMA20, 0.05% is considered near\n",
    "        if 0 <= (abs(df.loc[df.index[-1], 'ema_nine'] - df.loc[df.index[-1], 'Low'])\n",
    "                 /df.loc[df.index[-1], 'ema_nine']) <= tolerance:\n",
    "            df.loc[df.index[-1], 'triple_ema_retest_rule_two'] = 1\n",
    "    \n",
    "    return df\n",
    "    \n",
    "def triple_ema(df):\n",
    "    #df_temp = df.copy()\n",
    "    #df_temp['hold_rule_one'] = 0\n",
    "    #df_temp['retest_rule_two'] = 0\n",
    "    \n",
    "    if(df.shape[0] >= 5):\n",
    "        print(\"Running Analysis - TripleEMA Setup\")\n",
    "        # Check if last 5 candles are above EMA9\n",
    "        #df_last_5 = df.iloc[-5:]\n",
    "        df_last_5 = hold_above_or_below(df.iloc[-5:])\n",
    "        # Update last row in main df\n",
    "        df.iloc[-1] = df_last_5.iloc[-1]\n",
    "\n",
    "    return df\n",
    "    \n",
    "    \n",
    "def vwap_retest(df):\n",
    "    print(\"Running Analysis - VWAP Retest Setup\")\n",
    "    # Check for vwap retest\n",
    "    tolerance  = 0.001 # 0.1%\n",
    "    candlewick_midpoint = (df.loc[df.index[-1], 'Open'] + df.loc[df.index[-1], 'Close'])/2\n",
    "    df.loc[df.index[-1], 'candle_open_close_midpoint'] = candlewick_midpoint\n",
    "    #candle_midpoint = abs(df.loc[df.index[-1], 'Close'] + df.loc[df.index[-1], 'Open'])/2\n",
    "    \n",
    "    # Update Local Max and Min value\n",
    "    if df.loc[df.index[-1], 'High'] > df.loc[df.index[-1], 'current_vwap_local_max']:\n",
    "        df.loc[df.index[-1], 'current_vwap_local_max'] = df.loc[df.index[-1], 'High']\n",
    "        \n",
    "    if df.loc[df.index[-1], 'Low'] < df.loc[df.index[-1], 'current_vwap_local_min']:\n",
    "        df.loc[df.index[-1], 'current_vwap_local_min'] = df.loc[df.index[-1], 'Low']\n",
    "        \n",
    "    if df.shape[0] > 4 :\n",
    "        # Determine the last 5 candles, whether they are above or below vwap\n",
    "        df_last_5 = df.iloc[-5:]\n",
    "        no_last_5_candle_pos_above = df_last_5[df_last_5['candle_open_close_midpoint'] >= df_last_5['vwap']].shape[0]\n",
    "        no_last_5_candle_pos_below = df_last_5[df_last_5['candle_open_close_midpoint'] <= df_last_5['vwap']].shape[0]\n",
    "        \n",
    "        # Determine the last two candles' price action\n",
    "        price_action_direction  = df.loc[df.index[-1], 'Close'] - df.loc[df.index[-2], 'Close']\n",
    "        \n",
    "        # When candle is above vwap and price action is still decreasing, it's in the direction to retest vwap\n",
    "        if no_last_5_candle_pos_above >= 3 and  price_action_direction < 0:\n",
    "            #print(\"Enter LONG VWAP Retest\")\n",
    "            # Check if the candle's close / low is near vwap\n",
    "            if (0 <= (abs(df.loc[df.index[-1], 'Close'] - df.loc[df.index[-1], 'vwap']) /df.loc[df.index[-1], 'vwap']) <= tolerance) or (0 <= (abs(df.loc[df.index[-1], 'Low'] - df.loc[df.index[-1], 'vwap']) /df.loc[df.index[-1], 'vwap']) <= tolerance):\n",
    "                    df.loc[df.index[-1], 'vwap_retest_signal_rule_one'] = 1\n",
    "                    \n",
    "        # When candle is below vwap and price action is still increasing, it's in the direction to retest vwap\n",
    "        #candlewick_midpoint <= df.loc[df.index[-1], 'vwap']\n",
    "        elif no_last_5_candle_pos_below >= 3 and  price_action_direction > 0:\n",
    "            # Check if candle's close / high is near vwap\n",
    "            if (0 <= (abs(df.loc[df.index[-1], 'Close'] - df.loc[df.index[-1], 'vwap']) /df.loc[df.index[-1], 'vwap']) <= tolerance) or (0 <= (abs(df.loc[df.index[-1], 'High'] - df.loc[df.index[-1], 'vwap']) /df.loc[df.index[-1], 'vwap']) <= tolerance):\n",
    "                    df.loc[df.index[-1], 'vwap_retest_signal_rule_one'] = -1\n",
    "        \n",
    "        # Only if vwap retest rule 1 is fulfilled, check for confirmation\n",
    "        if df.loc[df.index[-2], 'vwap_retest_signal_rule_one'] != 0:\n",
    "            # For Long setup, check if latest candle's close is above the previous candle's close and it closes above vwap\n",
    "            if (df.loc[df.index[-2], 'vwap_retest_signal_rule_one'] == 1) and (df.loc[df.index[-1], 'Close'] > df.loc[df.index[-2], 'Close']) and (df.loc[df.index[-1], 'Close'] > df.loc[df.index[-1], 'vwap']):\n",
    "                    df.loc[df.index[-1], 'vwap_confirmation_candle_signal_rule_two'] = 1\n",
    "            # For Short setup, check if confilatestrmation candle's close is below the previous candle's close and it closes below vwap\n",
    "            elif (df.loc[df.index[-2], 'vwap_retest_signal_rule_one'] == -1) and (df.loc[df.index[-1], 'Close'] < df.loc[df.index[-2], 'Close']) and (df.loc[df.index[-1], 'Close'] < df.loc[df.index[-1], 'vwap']):\n",
    "                    df.loc[df.index[-1], 'vwap_confirmation_candle_signal_rule_two'] = -1\n",
    "            \n",
    "#         # Check if previous candle has fulfilled vwap_test\n",
    "#         if df.loc[df.index[-2], 'vwap_retest_signal_rule_one'] == 0:\n",
    "#             # Check if latest candle is above or below vwap (using midpoint between HIGH and LOW to decide)\n",
    "#             # and the price action is on a downtrend\n",
    "#             # Candle above vwap (Long)\n",
    "#             if candlewick_midpoint > df.loc[df.index[-1], 'vwap'] :\n",
    "#                 # Check if candle's low is near vwap\n",
    "#                 #if (0 <= (abs(df.loc[df.index[-1], 'Low'] - df.loc[df.index[-1], 'vwap']) /df.loc[df.index[-1], 'vwap']) <= tolerance)  or (0 <= (abs(df.loc[df.index[-1], 'Close'] - df.loc[df.index[-1], 'vwap']) /df.loc[df.index[-1], 'vwap']) <= tolerance) or (0 <= (abs(df.loc[df.index[-1], 'Open'] - df.loc[df.index[-1], 'vwap']) /df.loc[df.index[-1], 'vwap']) <= tolerance) \\\n",
    "#                 if (0 <= (abs(df.loc[df.index[-1], 'Close'] - df.loc[df.index[-1], 'vwap']) /df.loc[df.index[-1], 'vwap']) <= tolerance) \\\n",
    "#                 and price_action_direction < 0:\n",
    "#                     df.loc[df.index[-1], 'vwap_retest_signal_rule_one'] = 1\n",
    "\n",
    "#             # Candle below vwap (Short) and price action is on a uptrend\n",
    "#             elif candlewick_midpoint < df.loc[df.index[-1], 'vwap'] :\n",
    "#                 # Check if candle's high is near vwap\n",
    "#                 #if (0 <= (abs(df.loc[df.index[-1], 'High'] - df.loc[df.index[-1], 'vwap']) /df.loc[df.index[-1], 'vwap']) <= tolerance) or (0 <= (abs(df.loc[df.index[-1], 'Close'] - df.loc[df.index[-1], 'vwap']) /df.loc[df.index[-1], 'vwap']) <= tolerance) or (0 <= (abs(df.loc[df.index[-1], 'Open'] - df.loc[df.index[-1], 'vwap']) /df.loc[df.index[-1], 'vwap']) <= tolerance) \\\n",
    "#                 if (0 <= (abs(df.loc[df.index[-1], 'Close'] - df.loc[df.index[-1], 'vwap']) /df.loc[df.index[-1], 'vwap']) <= tolerance) \\\n",
    "#                 and price_action_direction > 0:\n",
    "#                     df.loc[df.index[-1], 'vwap_retest_signal_rule_one'] = -1\n",
    "\n",
    "#         else:\n",
    "#             # For Long setup, check if latest candle's close is above the previous candle's close\n",
    "#             if (df.loc[df.index[-2], 'vwap_retest_signal_rule_one'] == 1) and (df.loc[df.index[-1], 'Close'] > df.loc[df.index[-2], 'Close']):\n",
    "#                     df.loc[df.index[-1], 'vwap_confirmation_candle_signal_rule_two'] = True\n",
    "#             # For Short setup, check if confilatestrmation candle's close is below the previous candle's close\n",
    "#             elif (df.loc[df.index[-2], 'vwap_retest_signal_rule_one'] == -1) and (df.loc[df.index[-1], 'Close'] < df.loc[df.index[-2], 'Close']):\n",
    "#                     df.loc[df.index[-1], 'vwap_confirmation_candle_signal_rule_two'] = True\n",
    "    \n",
    "    # Append to result dataframe\n",
    "    #result_df = result_df.append(df.iloc[-1])\n",
    "    return df    "
   ]
  },
  {
   "cell_type": "code",
   "execution_count": 6,
   "metadata": {},
   "outputs": [],
   "source": [
    "def input_data_dict (time, ticker_name, position_type, strategy_type, additional_info):\n",
    "    # Initialize empty dict\n",
    "    headings =  [\"TIME\", \"TICKER\", \"POSITION TYPE\", \"STRATEGY TYPE\", \"ADDITIONAL INFO\"]\n",
    "    data_dict = dict.fromkeys(headings)\n",
    "    # Populate with results\n",
    "    data_dict['TIME'] = time\n",
    "    data_dict['TICKER'] = ticker_name\n",
    "    data_dict['POSITION TYPE'] = position_type\n",
    "    data_dict['STRATEGY TYPE'] = strategy_type\n",
    "    data_dict['ADDITIONAL INFO'] = additional_info\n",
    "    \n",
    "    return data_dict\n",
    "\n",
    "def dashboard_output_df(key, last_row_result_df, data):\n",
    "    headings =  [\"TIME\", \"TICKER\", \"POSITION TYPE\", \"STRATEGY TYPE\", \"ADDITIONAL INFO\"]\n",
    "    data_dict = dict.fromkeys(headings)\n",
    "    \n",
    "    # Check for trading signals\n",
    "    # Triple EMA rule 1 LONG\n",
    "    if last_row_result_df.triple_ema_hold_rule_one[0] == 1:\n",
    "        data_dict = input_data_dict(last_row_result_df.index[0], key, \"LONG\", \"Triple EMA\", \"Rule 1 Pass - Last 5 Candles above EMA9\")\n",
    "        data.append(data_dict)\n",
    "    #  Triple EMA rule 1 SHORT\n",
    "    elif last_row_result_df.triple_ema_hold_rule_one[0] == -1:\n",
    "        data_dict = input_data_dict(last_row_result_df.index[0], key, \"SHORT\", \"Triple EMA\", \"Rule 1 Pass - Last 5 Candles below EMA9\")\n",
    "        data.append(data_dict)\n",
    "    # Triple EMA rule 2 LONG\n",
    "    if last_row_result_df.triple_ema_retest_rule_two[0] == 1:\n",
    "        data_dict = input_data_dict(last_row_result_df.index[0], key, \"LONG\", \"Triple EMA\", \"Rule 2 Pass - Retest at EMA20\")\n",
    "        data.append(data_dict)\n",
    "    #  Triple EMA rule 1 SHORT\n",
    "    elif last_row_result_df.triple_ema_retest_rule_two[0] == -1:\n",
    "        data_dict = input_data_dict(last_row_result_df.index[0], key, \"SHORT\", \"Triple EMA\", \"Rule 2 Pass - Retest at EMA20\")\n",
    "        data.append(data_dict)\n",
    "        \n",
    "    # EMA9 + VWAP COMBO \n",
    "    if last_row_result_df.crossover_position[0] == 1:\n",
    "        data_dict = input_data_dict(last_row_result_df.index[0], key, \"LONG\", \"EMA9 + VWAP Crossover\", \"EMA9 Crosses Above\")\n",
    "        data.append(data_dict)\n",
    "    elif last_row_result_df.triple_ema_retest_rule_two[0] == -1:\n",
    "        data_dict = input_data_dict(last_row_result_df.index[0], key, \"SHORT\", \"EMA9 + VWAP Crossover\", \"EMA9 Crosses Below\")\n",
    "        data.append(data_dict)\n",
    "    \n",
    "    # VWAP rule 1 Retest\n",
    "    if last_row_result_df.vwap_retest_signal_rule_one[0] == 1:\n",
    "        data_dict = input_data_dict(last_row_result_df.index[0], key, \"LONG\", \"VWAP\", \"Rule 1 Pass - Retest at VWAP\")\n",
    "        data.append(data_dict)\n",
    "    elif last_row_result_df.vwap_retest_signal_rule_one[0] == -1:\n",
    "        data_dict = input_data_dict(last_row_result_df.index[0], key, \"SHORT\", \"VWAP\", \"Rule 1 Pass - Retest at VWAP\")\n",
    "        data.append(data_dict)\n",
    "        \n",
    "    # VWAP rule 2 confirmation candle\n",
    "    if last_row_result_df.vwap_confirmation_candle_signal_rule_two[0] == 1:\n",
    "        data_dict = input_data_dict(last_row_result_df.index[0], key, \"LONG\", \"VWAP\", \"Rule 2 Pass - Confirmation Candle\")\n",
    "        data.append(data_dict)\n",
    "    elif last_row_result_df.vwap_confirmation_candle_signal_rule_two[0] == -1:\n",
    "        data_dict = input_data_dict(last_row_result_df.index[0], key, \"SHORT\", \"VWAP\", \"Rule 2 Pass - Confirmation Candle\")\n",
    "        data.append(data_dict)\n",
    "        \n",
    "    \n",
    "    #print(last_row_result_df.index[0])\n",
    "    #data_dict = input_data_dict(last_row_result_df.index[0], key, \"LONG\", \"TRIPLE EMA\", \"Last 5 Candles above EMA9\")\n",
    "    #data.append(data_dict)\n",
    "    \n",
    "    return data\n",
    "    \n",
    "def run_strategy(n, data, watchlist_dict):\n",
    "    today_date = datetime.date(2022, 3, 28) # to be replaced by datetime.now()\n",
    "    today_date_str = today_date.strftime(\"%Y-%m-%d\")\n",
    "    \n",
    "    interval = 3\n",
    "    print(n)\n",
    "    datetime_time = datetime.datetime.combine(today_date, datetime.time(9, 30, 0)) + datetime.timedelta(minutes=n*interval) \n",
    "    # Iterate through watchlist tickers\n",
    "    for key, df in watchlist_dict.items():\n",
    "        print(datetime_time, \"- Running Analysis on Ticker Symbol: \", key)\n",
    "        # Pull Live Data\n",
    "        intraday_df_today = pull_intraday_data(key, today_date_str)\n",
    "#         #print(intraday_df_today.tail())\n",
    "        if intraday_df_today.shape[0] > 0:\n",
    "            intraday_df_today = initialize_columns(intraday_df_today)\n",
    "            #print(intraday_df_today.head())        \n",
    "\n",
    "            result_df = watchlist_dict[key]\n",
    "            time_list = []\n",
    "            triple_ema_time_list = []\n",
    "            ema9_crossover_time_list = []\n",
    "            vwap_time_list = []\n",
    "\n",
    "            # Narrow to current index\n",
    "            #datetime_time = datetime.datetime.combine(today_date, datetime.time(9, 30, 0)) + datetime.timedelta(minutes=index*interval) \n",
    "            #eastern_tzinfo = pytz.timezone(\"US/Eastern\")\n",
    "            #datetime_time = eastern_tzinfo.localize(datetime.datetime.combine(today_date, datetime.time(9, 30, 0)) + datetime.timedelta(minutes=index*interval), is_dst=None)\n",
    "            # Convert datetime to string\n",
    "            #datetime_time_str = datetime_time.strftime('%Y-%m-%d %H:%M:%S%z')\n",
    "            #print(datetime_time)                                        \n",
    "            intraday_df = intraday_df_today.loc[:datetime_time]\n",
    "\n",
    "            # Append latest row to result_df for processing\n",
    "            result_df = result_df.append(intraday_df.iloc[-1])\n",
    "            result_df['vwap_confirmation_candle_signal_rule_two'] = result_df['vwap_confirmation_candle_signal_rule_two'].astype('bool')\n",
    "\n",
    "            # Triple EMA\n",
    "            temp_start_time = timeit.default_timer()\n",
    "            result_df = triple_ema(result_df)\n",
    "            #triple_ema_time_list.append(datetime.timedelta(seconds = (timeit.default_timer() - temp_start_time)).total_seconds())\n",
    "\n",
    "            # EMA9 and VWAP crossover\n",
    "            temp_start_time = timeit.default_timer()\n",
    "            result_df = generate_ema9_vwap_signal(result_df)\n",
    "            #ema9_crossover_time_list.append(datetime.timedelta(seconds = (timeit.default_timer() - temp_start_time)).total_seconds())\n",
    "\n",
    "            # Test for VWAP retest\n",
    "            temp_start_time = timeit.default_timer()\n",
    "            result_df = vwap_retest(result_df)\n",
    "            #vwap_time_list.append(datetime.timedelta(seconds = (timeit.default_timer() - temp_start_time)).total_seconds())\n",
    "            #print(result_df.tail(5))\n",
    "            #display(result_df.loc[result_df['vwap_retest_signal_rule_one'] == 1].head(10))\n",
    "            #display(result_df.loc[result_df['vwap_confirmation_candle_signal_rule_two'] == True].head(10))\n",
    "\n",
    "            #time_list.append(datetime.timedelta(seconds = (timeit.default_timer() - start_time)).total_seconds())\n",
    "            # Plot Graph\n",
    "            #f = update_graph(intraday_df, f)\n",
    "            dashboard_output_df(key, result_df.iloc[-1:], data)\n",
    "\n",
    "            watchlist_dict[key] = result_df\n",
    "            print(\"Successfully Ran Analysis on Ticker Symbol: \", key)\n",
    "    return data\n",
    "\n",
    "def live_run_strategy(n, data, watchlist_dict, live_counter):\n",
    "    \n",
    "    datetime_now = datetime.datetime.now(eastern_tzinfo)\n",
    "    datetime_now_str = datetime_now.strftime('%Y-%m-%d %H:%M:%S')\n",
    "    \n",
    "    #today_date = datetime.date(2022, 3, 28) # to be replaced by datetime.now()\n",
    "    today_date = datetime_now.date() # to be replaced by datetime.now()\n",
    "    today_date_str = today_date.strftime(\"%Y-%m-%d\")\n",
    "   \n",
    "    print(today_date_str)\n",
    "    # Pull Live Spy Data\n",
    "    spy_intraday_df_today = pull_intraday_data('SPY', today_date_str)\n",
    "    spy_data_latest_datetime = spy_intraday_df_today.iloc[-1:].index[0]\n",
    "    spy_data_latest_datetime_str = spy_data_latest_datetime.strftime('%Y-%m-%d %H:%M:%S')\n",
    "    \n",
    "    # Calculate Elapsed Time\n",
    "    #spy_data_latest_datetime = datetime.datetime.combine(today_date, datetime.time(11, 57, 0)) \n",
    "    elapsed_time = spy_data_latest_datetime.tz_convert(tz=eastern_tzinfo) - eastern_tzinfo.localize(datetime.datetime.combine(today_date, datetime.time(9, 30, 0)), is_dst=None)\n",
    "\n",
    "    # 3 Minutes\n",
    "    interval = 3\n",
    "    total_elapsed_intervals = elapsed_time.total_seconds()//(interval*60)\n",
    "    \n",
    "    if live_counter == None:\n",
    "        live_counter = -1\n",
    "#     elif live_counter < total_elapsed_intervals:\n",
    "#         live_counter += 1\n",
    "        \n",
    "#     print(n, live_counter, total_elapsed_intervals)\n",
    "#     datetime_time = datetime.datetime.combine(today_date, datetime.time(9, 30, 0)) + datetime.timedelta(minutes=live_counter*interval)\n",
    "    \n",
    "    # Run Strategy if only live_counter needs catching up\n",
    "    if live_counter < total_elapsed_intervals:\n",
    "        live_counter += 1\n",
    "        \n",
    "        print(n, live_counter, total_elapsed_intervals)\n",
    "        datetime_time = datetime.datetime.combine(today_date, datetime.time(9, 30, 0)) + datetime.timedelta(minutes=live_counter*interval)\n",
    "        \n",
    "        print(datetime_now_str, \"- Running \", datetime_time, \" Analysis on Watchlist.\")\n",
    "        # Iterate through watchlist tickers\n",
    "        for key, df in watchlist_dict.items():\n",
    "            print(datetime_now_str, \"- Running \", datetime_time, \" Analysis on Ticker Symbol: \", key)\n",
    "            # Pull Live Data\n",
    "            intraday_df_today = pull_intraday_data(key, today_date_str)\n",
    "            data_latest_datetime = intraday_df_today.iloc[-1:].index[0]\n",
    "            data_latest_datetime_str = data_latest_datetime.strftime('%Y-%m-%d %H:%M:%S')\n",
    "\n",
    "            if (intraday_df_today.shape[0] > 0) :\n",
    "                intraday_df_today = initialize_columns(intraday_df_today)\n",
    "\n",
    "                result_df = watchlist_dict[key]\n",
    "                time_list = []\n",
    "                triple_ema_time_list = []\n",
    "                ema9_crossover_time_list = []\n",
    "                vwap_time_list = []\n",
    "\n",
    "                # Narrow down to datetime based on live_counter\n",
    "                intraday_df = intraday_df_today.loc[:datetime_time]\n",
    "\n",
    "                # Append latest row to result_df for processing\n",
    "                result_df = result_df.append(intraday_df.iloc[-1])\n",
    "                result_df['vwap_confirmation_candle_signal_rule_two'] = result_df['vwap_confirmation_candle_signal_rule_two'].astype('bool')\n",
    "\n",
    "                # Triple EMA\n",
    "                temp_start_time = timeit.default_timer()\n",
    "                result_df = triple_ema(result_df)\n",
    "                #triple_ema_time_list.append(datetime.timedelta(seconds = (timeit.default_timer() - temp_start_time)).total_seconds())\n",
    "\n",
    "                # EMA9 and VWAP crossover\n",
    "                temp_start_time = timeit.default_timer()\n",
    "                result_df = generate_ema9_vwap_signal(result_df)\n",
    "                #ema9_crossover_time_list.append(datetime.timedelta(seconds = (timeit.default_timer() - temp_start_time)).total_seconds())\n",
    "\n",
    "                # Test for VWAP retest\n",
    "                temp_start_time = timeit.default_timer()\n",
    "                result_df = vwap_retest(result_df)\n",
    "                #vwap_time_list.append(datetime.timedelta(seconds = (timeit.default_timer() - temp_start_time)).total_seconds())\n",
    "                #print(result_df.tail(5))\n",
    "                #display(result_df.loc[result_df['vwap_retest_signal_rule_one'] == 1].head(10))\n",
    "                #display(result_df.loc[result_df['vwap_confirmation_candle_signal_rule_two'] == True].head(10))\n",
    "\n",
    "                #time_list.append(datetime.timedelta(seconds = (timeit.default_timer() - start_time)).total_seconds())\n",
    "                # Plot Graph\n",
    "                #f = update_graph(intraday_df, f)\n",
    "                dashboard_output_df(key, result_df.iloc[-1:], data)\n",
    "\n",
    "                watchlist_dict[key] = result_df\n",
    "    else:\n",
    "        print(datetime_now_str, \"- Waiting for the next \", interval, \" minutes interval...\")\n",
    "    return data, live_counter\n",
    "    "
   ]
  },
  {
   "cell_type": "code",
   "execution_count": 7,
   "metadata": {},
   "outputs": [
    {
     "name": "stdout",
     "output_type": "stream",
     "text": [
      "  Exchange Symbol\n",
      "0   NASDAQ   MSFT\n",
      "1   NASDAQ   AAPL\n",
      "2   NASDAQ   TSLA\n",
      "Dash is running on http://127.0.0.1:8050/\n",
      "\n",
      " * Serving Flask app \"__main__\" (lazy loading)\n",
      " * Environment: production\n",
      "   WARNING: This is a development server. Do not use it in a production deployment.\n",
      "   Use a production WSGI server instead.\n",
      " * Debug mode: off\n"
     ]
    },
    {
     "name": "stderr",
     "output_type": "stream",
     "text": [
      "<ipython-input-3-7936d20f5126>:12: DeprecationWarning: The default dtype for empty Series will be 'object' instead of 'float64' in a future version. Specify a dtype explicitly to silence this warning.\n",
      "  watchlist_dict = pd.Series(None,df_watchlist.Symbol.values).to_dict()\n",
      " * Running on http://127.0.0.1:8050/ (Press CTRL+C to quit)\n",
      "127.0.0.1 - - [30/Mar/2022 00:39:04] \"\u001b[37mGET / HTTP/1.1\u001b[0m\" 200 -\n",
      "127.0.0.1 - - [30/Mar/2022 00:39:04] \"\u001b[37mGET /_dash-layout HTTP/1.1\u001b[0m\" 200 -\n",
      "127.0.0.1 - - [30/Mar/2022 00:39:04] \"\u001b[37mGET /_dash-dependencies HTTP/1.1\u001b[0m\" 200 -\n",
      "127.0.0.1 - - [30/Mar/2022 00:39:04] \"\u001b[37mGET /_dash-component-suites/dash/dash_table/async-highlight.js HTTP/1.1\u001b[0m\" 200 -\n",
      "127.0.0.1 - - [30/Mar/2022 00:39:04] \"\u001b[37mGET /_dash-component-suites/dash/dash_table/async-table.js HTTP/1.1\u001b[0m\" 200 -\n",
      "127.0.0.1 - - [30/Mar/2022 00:39:04] \"\u001b[37mGET /_dash-component-suites/dash/dcc/async-graph.js HTTP/1.1\u001b[0m\" 200 -\n",
      "127.0.0.1 - - [30/Mar/2022 00:39:04] \"\u001b[37mPOST /_dash-update-component HTTP/1.1\u001b[0m\" 200 -\n",
      "127.0.0.1 - - [30/Mar/2022 00:39:04] \"\u001b[37mGET /_dash-component-suites/dash/dcc/async-plotlyjs.js HTTP/1.1\u001b[0m\" 200 -\n"
     ]
    },
    {
     "name": "stdout",
     "output_type": "stream",
     "text": [
      "2022-03-29\n",
      "Exception on /_dash-update-component [POST]\n",
      "Traceback (most recent call last):\n",
      "  File \"C:\\ProgramData\\Anaconda3\\lib\\site-packages\\flask\\app.py\", line 2447, in wsgi_app\n",
      "    response = self.full_dispatch_request()\n",
      "  File \"C:\\ProgramData\\Anaconda3\\lib\\site-packages\\flask\\app.py\", line 1952, in full_dispatch_request\n",
      "    rv = self.handle_user_exception(e)\n",
      "  File \"C:\\ProgramData\\Anaconda3\\lib\\site-packages\\flask\\app.py\", line 1821, in handle_user_exception\n",
      "    reraise(exc_type, exc_value, tb)\n",
      "  File \"C:\\ProgramData\\Anaconda3\\lib\\site-packages\\flask\\_compat.py\", line 39, in reraise\n",
      "    raise value\n",
      "  File \"C:\\ProgramData\\Anaconda3\\lib\\site-packages\\flask\\app.py\", line 1950, in full_dispatch_request\n",
      "    rv = self.dispatch_request()\n",
      "  File \"C:\\ProgramData\\Anaconda3\\lib\\site-packages\\flask\\app.py\", line 1936, in dispatch_request\n",
      "    return self.view_functions[rule.endpoint](**req.view_args)\n",
      "  File \"C:\\ProgramData\\Anaconda3\\lib\\site-packages\\dash\\dash.py\", line 1336, in dispatch\n",
      "    response.set_data(func(*args, outputs_list=outputs_list))\n",
      "  File \"C:\\ProgramData\\Anaconda3\\lib\\site-packages\\dash\\_callback.py\", line 166, in add_context\n",
      "    flat_output_values = flatten_grouping(output_value, output)\n",
      "  File \"C:\\ProgramData\\Anaconda3\\lib\\site-packages\\dash\\_grouping.py\", line 34, in flatten_grouping\n",
      "    validate_grouping(grouping, schema)\n",
      "  File \"C:\\ProgramData\\Anaconda3\\lib\\site-packages\\dash\\_grouping.py\", line 213, in validate_grouping\n",
      "    SchemaTypeValidationError.check(grouping, full_schema, path, (tuple, list))\n",
      "  File \"C:\\ProgramData\\Anaconda3\\lib\\site-packages\\dash\\_grouping.py\", line 165, in check\n",
      "    raise SchemaTypeValidationError(value, full_schema, path, expected_type)\n",
      "dash._grouping.SchemaTypeValidationError: Schema: [<Output `output_div.children`>, <Output `live-candlestick-graph.figure`>]\n",
      "Path: ()\n",
      "Expected type: (<class 'tuple'>, <class 'list'>)\n",
      "Received value of type <class 'dash.html.P.P'>:\n",
      "    P('no cell selected')\n"
     ]
    },
    {
     "name": "stderr",
     "output_type": "stream",
     "text": [
      "127.0.0.1 - - [30/Mar/2022 00:39:04] \"\u001b[35m\u001b[1mPOST /_dash-update-component HTTP/1.1\u001b[0m\" 500 -\n"
     ]
    },
    {
     "name": "stdout",
     "output_type": "stream",
     "text": [
      "[*********************100%***********************]  1 of 1 completed\n",
      "2022-03-29 12:39:00-04:00 2022-03-29 09:30:00-04:00\n",
      "0 0 63.0\n",
      "2022-03-29 12:39:04 - Running  2022-03-29 09:30:00  Analysis on Watchlist.\n",
      "2022-03-29 12:39:04 - Running  2022-03-29 09:30:00  Analysis on Ticker Symbol:  MSFT\n",
      "[*********************100%***********************]  1 of 1 completed\n",
      "Running Analysis - EMA9 + VWAP Crossover Setup\n",
      "Running Analysis - VWAP Retest Setup\n",
      "2022-03-29 12:39:04 - Running  2022-03-29 09:30:00  Analysis on Ticker Symbol:  AAPL\n",
      "[*********************100%***********************]  1 of 1 completed\n",
      "Running Analysis - EMA9 + VWAP Crossover Setup\n",
      "Running Analysis - VWAP Retest Setup\n",
      "2022-03-29 12:39:04 - Running  2022-03-29 09:30:00  Analysis on Ticker Symbol:  TSLA\n",
      "[*********************100%***********************]  1 of 1 completed\n",
      "Running Analysis - EMA9 + VWAP Crossover Setup\n",
      "Running Analysis - VWAP Retest Setup\n"
     ]
    },
    {
     "name": "stderr",
     "output_type": "stream",
     "text": [
      "127.0.0.1 - - [30/Mar/2022 00:39:05] \"\u001b[37mPOST /_dash-update-component HTTP/1.1\u001b[0m\" 200 -\n",
      "127.0.0.1 - - [30/Mar/2022 00:39:05] \"\u001b[37mPOST /_dash-update-component HTTP/1.1\u001b[0m\" 200 -\n",
      "127.0.0.1 - - [30/Mar/2022 00:39:06] \"\u001b[37mPOST /_dash-update-component HTTP/1.1\u001b[0m\" 200 -\n",
      "127.0.0.1 - - [30/Mar/2022 00:39:07] \"\u001b[37mPOST /_dash-update-component HTTP/1.1\u001b[0m\" 200 -\n",
      "127.0.0.1 - - [30/Mar/2022 00:39:08] \"\u001b[37mPOST /_dash-update-component HTTP/1.1\u001b[0m\" 200 -\n",
      "127.0.0.1 - - [30/Mar/2022 00:39:09] \"\u001b[37mPOST /_dash-update-component HTTP/1.1\u001b[0m\" 200 -\n"
     ]
    },
    {
     "name": "stdout",
     "output_type": "stream",
     "text": [
      "2022-03-29\n",
      "[*********************100%***********************]  1 of 1 completed\n",
      "2022-03-29 12:39:00-04:00 2022-03-29 09:30:00-04:00\n",
      "1 1 63.0\n",
      "2022-03-29 12:39:09 - Running  2022-03-29 09:33:00  Analysis on Watchlist.\n",
      "2022-03-29 12:39:09 - Running  2022-03-29 09:33:00  Analysis on Ticker Symbol:  MSFT\n",
      "[*********************100%***********************]  1 of 1 completed\n",
      "Running Analysis - EMA9 + VWAP Crossover Setup\n",
      "Running Analysis - VWAP Retest Setup\n",
      "2022-03-29 12:39:09 - Running  2022-03-29 09:33:00  Analysis on Ticker Symbol:  AAPL\n",
      "[*********************100%***********************]  1 of 1 completed\n",
      "Running Analysis - EMA9 + VWAP Crossover Setup\n",
      "Running Analysis - VWAP Retest Setup\n",
      "2022-03-29 12:39:09 - Running  2022-03-29 09:33:00  Analysis on Ticker Symbol:  TSLA\n",
      "[*********************100%***********************]  1 of 1 completed\n"
     ]
    },
    {
     "name": "stderr",
     "output_type": "stream",
     "text": [
      "127.0.0.1 - - [30/Mar/2022 00:39:10] \"\u001b[37mPOST /_dash-update-component HTTP/1.1\u001b[0m\" 200 -\n"
     ]
    },
    {
     "name": "stdout",
     "output_type": "stream",
     "text": [
      "Running Analysis - EMA9 + VWAP Crossover Setup\n",
      "Running Analysis - VWAP Retest Setup\n"
     ]
    },
    {
     "name": "stderr",
     "output_type": "stream",
     "text": [
      "127.0.0.1 - - [30/Mar/2022 00:39:10] \"\u001b[37mPOST /_dash-update-component HTTP/1.1\u001b[0m\" 200 -\n",
      "127.0.0.1 - - [30/Mar/2022 00:39:11] \"\u001b[37mPOST /_dash-update-component HTTP/1.1\u001b[0m\" 200 -\n",
      "127.0.0.1 - - [30/Mar/2022 00:39:12] \"\u001b[37mPOST /_dash-update-component HTTP/1.1\u001b[0m\" 200 -\n",
      "127.0.0.1 - - [30/Mar/2022 00:39:13] \"\u001b[37mPOST /_dash-update-component HTTP/1.1\u001b[0m\" 200 -\n",
      "127.0.0.1 - - [30/Mar/2022 00:39:14] \"\u001b[37mPOST /_dash-update-component HTTP/1.1\u001b[0m\" 200 -\n"
     ]
    },
    {
     "name": "stdout",
     "output_type": "stream",
     "text": [
      "2022-03-29\n",
      "[*********************100%***********************]  1 of 1 completed\n",
      "2022-03-29 12:39:00-04:00 2022-03-29 09:30:00-04:00\n",
      "2 2 63.0\n",
      "2022-03-29 12:39:14 - Running  2022-03-29 09:36:00  Analysis on Watchlist.\n",
      "2022-03-29 12:39:14 - Running  2022-03-29 09:36:00  Analysis on Ticker Symbol:  MSFT\n",
      "[*********************100%***********************]  1 of 1 completed\n",
      "Running Analysis - EMA9 + VWAP Crossover Setup\n",
      "Running Analysis - VWAP Retest Setup\n",
      "2022-03-29 12:39:14 - Running  2022-03-29 09:36:00  Analysis on Ticker Symbol:  AAPL\n",
      "[*********************100%***********************]  1 of 1 completed\n",
      "Running Analysis - EMA9 + VWAP Crossover Setup\n",
      "Running Analysis - VWAP Retest Setup\n",
      "2022-03-29 12:39:14 - Running  2022-03-29 09:36:00  Analysis on Ticker Symbol:  TSLA\n",
      "[*********************100%***********************]  1 of 1 completed\n"
     ]
    },
    {
     "name": "stderr",
     "output_type": "stream",
     "text": [
      "127.0.0.1 - - [30/Mar/2022 00:39:15] \"\u001b[37mPOST /_dash-update-component HTTP/1.1\u001b[0m\" 200 -\n"
     ]
    },
    {
     "name": "stdout",
     "output_type": "stream",
     "text": [
      "Running Analysis - EMA9 + VWAP Crossover Setup\n",
      "Running Analysis - VWAP Retest Setup\n"
     ]
    },
    {
     "name": "stderr",
     "output_type": "stream",
     "text": [
      "127.0.0.1 - - [30/Mar/2022 00:39:15] \"\u001b[37mPOST /_dash-update-component HTTP/1.1\u001b[0m\" 200 -\n",
      "127.0.0.1 - - [30/Mar/2022 00:39:16] \"\u001b[37mPOST /_dash-update-component HTTP/1.1\u001b[0m\" 200 -\n",
      "127.0.0.1 - - [30/Mar/2022 00:39:17] \"\u001b[37mPOST /_dash-update-component HTTP/1.1\u001b[0m\" 200 -\n",
      "127.0.0.1 - - [30/Mar/2022 00:39:18] \"\u001b[37mPOST /_dash-update-component HTTP/1.1\u001b[0m\" 200 -\n",
      "127.0.0.1 - - [30/Mar/2022 00:39:19] \"\u001b[37mPOST /_dash-update-component HTTP/1.1\u001b[0m\" 200 -\n"
     ]
    },
    {
     "name": "stdout",
     "output_type": "stream",
     "text": [
      "2022-03-29\n",
      "[*********************100%***********************]  1 of 1 completed\n",
      "2022-03-29 12:39:00-04:00 2022-03-29 09:30:00-04:00\n",
      "3 3 63.0\n",
      "2022-03-29 12:39:19 - Running  2022-03-29 09:39:00  Analysis on Watchlist.\n",
      "2022-03-29 12:39:19 - Running  2022-03-29 09:39:00  Analysis on Ticker Symbol:  MSFT\n",
      "[*********************100%***********************]  1 of 1 completed\n",
      "Running Analysis - EMA9 + VWAP Crossover Setup\n",
      "Running Analysis - VWAP Retest Setup\n",
      "2022-03-29 12:39:19 - Running  2022-03-29 09:39:00  Analysis on Ticker Symbol:  AAPL\n",
      "[*********************100%***********************]  1 of 1 completed\n",
      "Running Analysis - EMA9 + VWAP Crossover Setup\n",
      "Running Analysis - VWAP Retest Setup\n",
      "2022-03-29 12:39:19 - Running  2022-03-29 09:39:00  Analysis on Ticker Symbol:  TSLA\n",
      "[*********************100%***********************]  1 of 1 completed\n"
     ]
    },
    {
     "name": "stderr",
     "output_type": "stream",
     "text": [
      "127.0.0.1 - - [30/Mar/2022 00:39:20] \"\u001b[37mPOST /_dash-update-component HTTP/1.1\u001b[0m\" 200 -\n"
     ]
    },
    {
     "name": "stdout",
     "output_type": "stream",
     "text": [
      "Running Analysis - EMA9 + VWAP Crossover Setup\n",
      "Running Analysis - VWAP Retest Setup\n"
     ]
    },
    {
     "name": "stderr",
     "output_type": "stream",
     "text": [
      "127.0.0.1 - - [30/Mar/2022 00:39:20] \"\u001b[37mPOST /_dash-update-component HTTP/1.1\u001b[0m\" 200 -\n",
      "127.0.0.1 - - [30/Mar/2022 00:39:21] \"\u001b[37mPOST /_dash-update-component HTTP/1.1\u001b[0m\" 200 -\n",
      "127.0.0.1 - - [30/Mar/2022 00:39:22] \"\u001b[37mPOST /_dash-update-component HTTP/1.1\u001b[0m\" 200 -\n",
      "127.0.0.1 - - [30/Mar/2022 00:39:23] \"\u001b[37mPOST /_dash-update-component HTTP/1.1\u001b[0m\" 200 -\n",
      "127.0.0.1 - - [30/Mar/2022 00:39:24] \"\u001b[37mPOST /_dash-update-component HTTP/1.1\u001b[0m\" 200 -\n"
     ]
    },
    {
     "name": "stdout",
     "output_type": "stream",
     "text": [
      "2022-03-29\n",
      "[*********************100%***********************]  1 of 1 completed\n",
      "2022-03-29 12:39:00-04:00 2022-03-29 09:30:00-04:00\n",
      "4 4 63.0\n",
      "2022-03-29 12:39:24 - Running  2022-03-29 09:42:00  Analysis on Watchlist.\n",
      "2022-03-29 12:39:24 - Running  2022-03-29 09:42:00  Analysis on Ticker Symbol:  MSFT\n",
      "[*********************100%***********************]  1 of 1 completed\n",
      "Running Analysis - TripleEMA Setup\n",
      "Running Analysis - EMA9 + VWAP Crossover Setup\n",
      "Running Analysis - VWAP Retest Setup\n",
      "2022-03-29 12:39:24 - Running  2022-03-29 09:42:00  Analysis on Ticker Symbol:  AAPL\n",
      "[*********************100%***********************]  1 of 1 completed\n",
      "Running Analysis - TripleEMA Setup\n",
      "Running Analysis - EMA9 + VWAP Crossover Setup\n",
      "Running Analysis - VWAP Retest Setup\n",
      "2022-03-29 12:39:24 - Running  2022-03-29 09:42:00  Analysis on Ticker Symbol:  TSLA\n",
      "[*********************100%***********************]  1 of 1 completed\n"
     ]
    },
    {
     "name": "stderr",
     "output_type": "stream",
     "text": [
      "127.0.0.1 - - [30/Mar/2022 00:39:25] \"\u001b[37mPOST /_dash-update-component HTTP/1.1\u001b[0m\" 200 -\n"
     ]
    },
    {
     "name": "stdout",
     "output_type": "stream",
     "text": [
      "Running Analysis - TripleEMA Setup\n",
      "Running Analysis - EMA9 + VWAP Crossover Setup\n",
      "Running Analysis - VWAP Retest Setup\n"
     ]
    },
    {
     "name": "stderr",
     "output_type": "stream",
     "text": [
      "127.0.0.1 - - [30/Mar/2022 00:39:25] \"\u001b[37mPOST /_dash-update-component HTTP/1.1\u001b[0m\" 200 -\n",
      "127.0.0.1 - - [30/Mar/2022 00:39:26] \"\u001b[37mPOST /_dash-update-component HTTP/1.1\u001b[0m\" 200 -\n",
      "127.0.0.1 - - [30/Mar/2022 00:39:27] \"\u001b[37mPOST /_dash-update-component HTTP/1.1\u001b[0m\" 200 -\n",
      "127.0.0.1 - - [30/Mar/2022 00:39:28] \"\u001b[37mPOST /_dash-update-component HTTP/1.1\u001b[0m\" 200 -\n",
      "127.0.0.1 - - [30/Mar/2022 00:39:29] \"\u001b[37mPOST /_dash-update-component HTTP/1.1\u001b[0m\" 200 -\n"
     ]
    },
    {
     "name": "stdout",
     "output_type": "stream",
     "text": [
      "2022-03-29\n",
      "[*********************100%***********************]  1 of 1 completed\n",
      "2022-03-29 12:39:00-04:00 2022-03-29 09:30:00-04:00\n",
      "5 5 63.0\n",
      "2022-03-29 12:39:29 - Running  2022-03-29 09:45:00  Analysis on Watchlist.\n",
      "2022-03-29 12:39:29 - Running  2022-03-29 09:45:00  Analysis on Ticker Symbol:  MSFT\n",
      "[*********************100%***********************]  1 of 1 completed\n",
      "Running Analysis - TripleEMA Setup\n",
      "Running Analysis - EMA9 + VWAP Crossover Setup\n",
      "Running Analysis - VWAP Retest Setup\n",
      "2022-03-29 12:39:29 - Running  2022-03-29 09:45:00  Analysis on Ticker Symbol:  AAPL\n",
      "[*********************100%***********************]  1 of 1 completed\n",
      "Running Analysis - TripleEMA Setup\n",
      "Running Analysis - EMA9 + VWAP Crossover Setup\n",
      "Running Analysis - VWAP Retest Setup\n",
      "2022-03-29 12:39:29 - Running  2022-03-29 09:45:00  Analysis on Ticker Symbol:  TSLA\n",
      "[*********************100%***********************]  1 of 1 completed\n",
      "Running Analysis - TripleEMA Setup\n",
      "Running Analysis - EMA9 + VWAP Crossover Setup"
     ]
    },
    {
     "name": "stderr",
     "output_type": "stream",
     "text": [
      "127.0.0.1 - - [30/Mar/2022 00:39:30] \"\u001b[37mPOST /_dash-update-component HTTP/1.1\u001b[0m\" 200 -\n"
     ]
    },
    {
     "name": "stdout",
     "output_type": "stream",
     "text": [
      "\n",
      "Running Analysis - VWAP Retest Setup\n"
     ]
    },
    {
     "name": "stderr",
     "output_type": "stream",
     "text": [
      "127.0.0.1 - - [30/Mar/2022 00:39:30] \"\u001b[37mPOST /_dash-update-component HTTP/1.1\u001b[0m\" 200 -\n",
      "127.0.0.1 - - [30/Mar/2022 00:39:31] \"\u001b[37mPOST /_dash-update-component HTTP/1.1\u001b[0m\" 200 -\n",
      "127.0.0.1 - - [30/Mar/2022 00:39:32] \"\u001b[37mPOST /_dash-update-component HTTP/1.1\u001b[0m\" 200 -\n",
      "127.0.0.1 - - [30/Mar/2022 00:39:33] \"\u001b[37mPOST /_dash-update-component HTTP/1.1\u001b[0m\" 200 -\n",
      "127.0.0.1 - - [30/Mar/2022 00:39:34] \"\u001b[37mPOST /_dash-update-component HTTP/1.1\u001b[0m\" 200 -\n"
     ]
    },
    {
     "name": "stdout",
     "output_type": "stream",
     "text": [
      "2022-03-29\n",
      "[*********************100%***********************]  1 of 1 completed\n",
      "2022-03-29 12:39:00-04:00 2022-03-29 09:30:00-04:00\n",
      "6 6 63.0\n",
      "2022-03-29 12:39:34 - Running  2022-03-29 09:48:00  Analysis on Watchlist.\n",
      "2022-03-29 12:39:34 - Running  2022-03-29 09:48:00  Analysis on Ticker Symbol:  MSFT\n",
      "[*********************100%***********************]  1 of 1 completed\n",
      "Running Analysis - TripleEMA Setup\n",
      "Running Analysis - EMA9 + VWAP Crossover Setup\n",
      "Running Analysis - VWAP Retest Setup\n",
      "2022-03-29 12:39:34 - Running  2022-03-29 09:48:00  Analysis on Ticker Symbol:  AAPL\n",
      "[*********************100%***********************]  1 of 1 completed\n",
      "Running Analysis - TripleEMA Setup\n",
      "Running Analysis - EMA9 + VWAP Crossover Setup\n",
      "Running Analysis - VWAP Retest Setup\n",
      "2022-03-29 12:39:34 - Running  2022-03-29 09:48:00  Analysis on Ticker Symbol:  TSLA\n",
      "[*********************100%***********************]  1 of 1 completed\n"
     ]
    },
    {
     "name": "stderr",
     "output_type": "stream",
     "text": [
      "127.0.0.1 - - [30/Mar/2022 00:39:35] \"\u001b[37mPOST /_dash-update-component HTTP/1.1\u001b[0m\" 200 -\n"
     ]
    },
    {
     "name": "stdout",
     "output_type": "stream",
     "text": [
      "Running Analysis - TripleEMA Setup\n",
      "Running Analysis - EMA9 + VWAP Crossover Setup\n",
      "Running Analysis - VWAP Retest Setup\n"
     ]
    },
    {
     "name": "stderr",
     "output_type": "stream",
     "text": [
      "127.0.0.1 - - [30/Mar/2022 00:39:35] \"\u001b[37mPOST /_dash-update-component HTTP/1.1\u001b[0m\" 200 -\n",
      "127.0.0.1 - - [30/Mar/2022 00:39:36] \"\u001b[37mPOST /_dash-update-component HTTP/1.1\u001b[0m\" 200 -\n",
      "127.0.0.1 - - [30/Mar/2022 00:39:37] \"\u001b[37mPOST /_dash-update-component HTTP/1.1\u001b[0m\" 200 -\n",
      "127.0.0.1 - - [30/Mar/2022 00:39:38] \"\u001b[37mPOST /_dash-update-component HTTP/1.1\u001b[0m\" 200 -\n",
      "127.0.0.1 - - [30/Mar/2022 00:39:39] \"\u001b[37mPOST /_dash-update-component HTTP/1.1\u001b[0m\" 200 -\n"
     ]
    },
    {
     "name": "stdout",
     "output_type": "stream",
     "text": [
      "2022-03-29\n",
      "[*********************100%***********************]  1 of 1 completed\n",
      "2022-03-29 12:39:00-04:00 2022-03-29 09:30:00-04:00\n",
      "7 7 63.0\n",
      "2022-03-29 12:39:39 - Running  2022-03-29 09:51:00  Analysis on Watchlist.\n",
      "2022-03-29 12:39:39 - Running  2022-03-29 09:51:00  Analysis on Ticker Symbol:  MSFT\n",
      "[*********************100%***********************]  1 of 1 completed\n",
      "Running Analysis - TripleEMA Setup\n",
      "Running Analysis - EMA9 + VWAP Crossover Setup\n",
      "Running Analysis - VWAP Retest Setup\n",
      "2022-03-29 12:39:39 - Running  2022-03-29 09:51:00  Analysis on Ticker Symbol:  AAPL\n",
      "[*********************100%***********************]  1 of 1 completed\n",
      "Running Analysis - TripleEMA Setup\n",
      "Running Analysis - EMA9 + VWAP Crossover Setup\n",
      "Running Analysis - VWAP Retest Setup\n",
      "2022-03-29 12:39:39 - Running  2022-03-29 09:51:00  Analysis on Ticker Symbol:  TSLA\n",
      "[*********************100%***********************]  1 of 1 completed\n"
     ]
    },
    {
     "name": "stderr",
     "output_type": "stream",
     "text": [
      "127.0.0.1 - - [30/Mar/2022 00:39:40] \"\u001b[37mPOST /_dash-update-component HTTP/1.1\u001b[0m\" 200 -\n"
     ]
    },
    {
     "name": "stdout",
     "output_type": "stream",
     "text": [
      "Running Analysis - TripleEMA Setup\n",
      "Running Analysis - EMA9 + VWAP Crossover Setup\n",
      "Running Analysis - VWAP Retest Setup\n"
     ]
    },
    {
     "name": "stderr",
     "output_type": "stream",
     "text": [
      "127.0.0.1 - - [30/Mar/2022 00:39:40] \"\u001b[37mPOST /_dash-update-component HTTP/1.1\u001b[0m\" 200 -\n",
      "127.0.0.1 - - [30/Mar/2022 00:39:41] \"\u001b[37mPOST /_dash-update-component HTTP/1.1\u001b[0m\" 200 -\n",
      "127.0.0.1 - - [30/Mar/2022 00:39:42] \"\u001b[37mPOST /_dash-update-component HTTP/1.1\u001b[0m\" 200 -\n",
      "127.0.0.1 - - [30/Mar/2022 00:39:43] \"\u001b[37mPOST /_dash-update-component HTTP/1.1\u001b[0m\" 200 -\n",
      "127.0.0.1 - - [30/Mar/2022 00:39:44] \"\u001b[37mPOST /_dash-update-component HTTP/1.1\u001b[0m\" 200 -\n"
     ]
    },
    {
     "name": "stdout",
     "output_type": "stream",
     "text": [
      "2022-03-29\n",
      "[*********************100%***********************]  1 of 1 completed\n",
      "2022-03-29 12:39:00-04:00 2022-03-29 09:30:00-04:00\n",
      "8 8 63.0\n",
      "2022-03-29 12:39:44 - Running  2022-03-29 09:54:00  Analysis on Watchlist.\n",
      "2022-03-29 12:39:44 - Running  2022-03-29 09:54:00  Analysis on Ticker Symbol:  MSFT\n",
      "[*********************100%***********************]  1 of 1 completed\n",
      "Running Analysis - TripleEMA Setup\n",
      "Running Analysis - EMA9 + VWAP Crossover Setup\n",
      "Running Analysis - VWAP Retest Setup\n",
      "2022-03-29 12:39:44 - Running  2022-03-29 09:54:00  Analysis on Ticker Symbol:  AAPL\n",
      "[*********************100%***********************]  1 of 1 completed\n",
      "Running Analysis - TripleEMA Setup\n",
      "Running Analysis - EMA9 + VWAP Crossover Setup\n",
      "Running Analysis - VWAP Retest Setup\n",
      "2022-03-29 12:39:44 - Running  2022-03-29 09:54:00  Analysis on Ticker Symbol:  TSLA\n",
      "[*********************100%***********************]  1 of 1 completed\n"
     ]
    },
    {
     "name": "stderr",
     "output_type": "stream",
     "text": [
      "127.0.0.1 - - [30/Mar/2022 00:39:45] \"\u001b[37mPOST /_dash-update-component HTTP/1.1\u001b[0m\" 200 -\n"
     ]
    },
    {
     "name": "stdout",
     "output_type": "stream",
     "text": [
      "Running Analysis - TripleEMA Setup\n",
      "Running Analysis - EMA9 + VWAP Crossover Setup\n",
      "Running Analysis - VWAP Retest Setup\n"
     ]
    },
    {
     "name": "stderr",
     "output_type": "stream",
     "text": [
      "127.0.0.1 - - [30/Mar/2022 00:39:45] \"\u001b[37mPOST /_dash-update-component HTTP/1.1\u001b[0m\" 200 -\n",
      "127.0.0.1 - - [30/Mar/2022 00:39:46] \"\u001b[37mPOST /_dash-update-component HTTP/1.1\u001b[0m\" 200 -\n",
      "127.0.0.1 - - [30/Mar/2022 00:39:47] \"\u001b[37mPOST /_dash-update-component HTTP/1.1\u001b[0m\" 200 -\n",
      "127.0.0.1 - - [30/Mar/2022 00:39:48] \"\u001b[37mPOST /_dash-update-component HTTP/1.1\u001b[0m\" 200 -\n",
      "127.0.0.1 - - [30/Mar/2022 00:39:49] \"\u001b[37mPOST /_dash-update-component HTTP/1.1\u001b[0m\" 200 -\n"
     ]
    },
    {
     "name": "stdout",
     "output_type": "stream",
     "text": [
      "2022-03-29\n",
      "[*********************100%***********************]  1 of 1 completed\n",
      "2022-03-29 12:39:00-04:00 2022-03-29 09:30:00-04:00\n",
      "9 9 63.0\n",
      "2022-03-29 12:39:49 - Running  2022-03-29 09:57:00  Analysis on Watchlist.\n",
      "2022-03-29 12:39:49 - Running  2022-03-29 09:57:00  Analysis on Ticker Symbol:  MSFT\n",
      "[*********************100%***********************]  1 of 1 completed\n",
      "Running Analysis - TripleEMA Setup\n",
      "Running Analysis - EMA9 + VWAP Crossover Setup\n",
      "Running Analysis - VWAP Retest Setup\n",
      "2022-03-29 12:39:49 - Running  2022-03-29 09:57:00  Analysis on Ticker Symbol:  AAPL\n",
      "[*********************100%***********************]  1 of 1 completed\n",
      "Running Analysis - TripleEMA Setup\n",
      "Running Analysis - EMA9 + VWAP Crossover Setup\n",
      "Running Analysis - VWAP Retest Setup\n",
      "2022-03-29 12:39:49 - Running  2022-03-29 09:57:00  Analysis on Ticker Symbol:  TSLA\n",
      "[*********************100%***********************]  1 of 1 completed\n"
     ]
    },
    {
     "name": "stderr",
     "output_type": "stream",
     "text": [
      "127.0.0.1 - - [30/Mar/2022 00:39:50] \"\u001b[37mPOST /_dash-update-component HTTP/1.1\u001b[0m\" 200 -\n"
     ]
    },
    {
     "name": "stdout",
     "output_type": "stream",
     "text": [
      "Running Analysis - TripleEMA Setup\n",
      "Running Analysis - EMA9 + VWAP Crossover Setup\n",
      "Running Analysis - VWAP Retest Setup\n"
     ]
    },
    {
     "name": "stderr",
     "output_type": "stream",
     "text": [
      "127.0.0.1 - - [30/Mar/2022 00:39:50] \"\u001b[37mPOST /_dash-update-component HTTP/1.1\u001b[0m\" 200 -\n",
      "127.0.0.1 - - [30/Mar/2022 00:39:51] \"\u001b[37mPOST /_dash-update-component HTTP/1.1\u001b[0m\" 200 -\n",
      "127.0.0.1 - - [30/Mar/2022 00:39:52] \"\u001b[37mPOST /_dash-update-component HTTP/1.1\u001b[0m\" 200 -\n",
      "127.0.0.1 - - [30/Mar/2022 00:39:53] \"\u001b[37mPOST /_dash-update-component HTTP/1.1\u001b[0m\" 200 -\n",
      "127.0.0.1 - - [30/Mar/2022 00:39:54] \"\u001b[37mPOST /_dash-update-component HTTP/1.1\u001b[0m\" 200 -\n"
     ]
    },
    {
     "name": "stdout",
     "output_type": "stream",
     "text": [
      "2022-03-29\n",
      "[*********************100%***********************]  1 of 1 completed\n",
      "2022-03-29 12:39:00-04:00 2022-03-29 09:30:00-04:00\n",
      "10 10 63.0\n",
      "2022-03-29 12:39:54 - Running  2022-03-29 10:00:00  Analysis on Watchlist.\n",
      "2022-03-29 12:39:54 - Running  2022-03-29 10:00:00  Analysis on Ticker Symbol:  MSFT\n",
      "[*********************100%***********************]  1 of 1 completed\n",
      "Running Analysis - TripleEMA Setup\n",
      "Running Analysis - EMA9 + VWAP Crossover Setup\n",
      "Running Analysis - VWAP Retest Setup\n",
      "2022-03-29 12:39:54 - Running  2022-03-29 10:00:00  Analysis on Ticker Symbol:  AAPL\n",
      "[*********************100%***********************]  1 of 1 completed\n",
      "Running Analysis - TripleEMA Setup\n",
      "Running Analysis - EMA9 + VWAP Crossover Setup\n",
      "Running Analysis - VWAP Retest Setup\n",
      "2022-03-29 12:39:54 - Running  2022-03-29 10:00:00  Analysis on Ticker Symbol:  TSLA\n",
      "[*********************100%***********************]  1 of 1 completed\n"
     ]
    },
    {
     "name": "stderr",
     "output_type": "stream",
     "text": [
      "127.0.0.1 - - [30/Mar/2022 00:39:55] \"\u001b[37mPOST /_dash-update-component HTTP/1.1\u001b[0m\" 200 -\n"
     ]
    },
    {
     "name": "stdout",
     "output_type": "stream",
     "text": [
      "Running Analysis - TripleEMA Setup\n",
      "Running Analysis - EMA9 + VWAP Crossover Setup\n",
      "Running Analysis - VWAP Retest Setup\n"
     ]
    },
    {
     "name": "stderr",
     "output_type": "stream",
     "text": [
      "127.0.0.1 - - [30/Mar/2022 00:39:55] \"\u001b[37mPOST /_dash-update-component HTTP/1.1\u001b[0m\" 200 -\n",
      "127.0.0.1 - - [30/Mar/2022 00:39:56] \"\u001b[37mPOST /_dash-update-component HTTP/1.1\u001b[0m\" 200 -\n",
      "127.0.0.1 - - [30/Mar/2022 00:39:57] \"\u001b[37mPOST /_dash-update-component HTTP/1.1\u001b[0m\" 200 -\n",
      "127.0.0.1 - - [30/Mar/2022 00:39:58] \"\u001b[37mPOST /_dash-update-component HTTP/1.1\u001b[0m\" 200 -\n",
      "127.0.0.1 - - [30/Mar/2022 00:39:59] \"\u001b[37mPOST /_dash-update-component HTTP/1.1\u001b[0m\" 200 -\n"
     ]
    },
    {
     "name": "stdout",
     "output_type": "stream",
     "text": [
      "2022-03-29\n",
      "[*********************100%***********************]  1 of 1 completed\n",
      "2022-03-29 12:39:00-04:00 2022-03-29 09:30:00-04:00\n",
      "11 11 63.0\n",
      "2022-03-29 12:39:59 - Running  2022-03-29 10:03:00  Analysis on Watchlist.\n",
      "2022-03-29 12:39:59 - Running  2022-03-29 10:03:00  Analysis on Ticker Symbol:  MSFT\n",
      "[*********************100%***********************]  1 of 1 completed\n",
      "Running Analysis - TripleEMA Setup\n",
      "Running Analysis - EMA9 + VWAP Crossover Setup\n",
      "Running Analysis - VWAP Retest Setup\n",
      "2022-03-29 12:39:59 - Running  2022-03-29 10:03:00  Analysis on Ticker Symbol:  AAPL\n",
      "[*********************100%***********************]  1 of 1 completed\n",
      "Running Analysis - TripleEMA Setup\n",
      "Running Analysis - EMA9 + VWAP Crossover Setup\n",
      "Running Analysis - VWAP Retest Setup\n",
      "2022-03-29 12:39:59 - Running  2022-03-29 10:03:00  Analysis on Ticker Symbol:  TSLA\n",
      "[*********************100%***********************]  1 of 1 completed\n"
     ]
    },
    {
     "name": "stderr",
     "output_type": "stream",
     "text": [
      "127.0.0.1 - - [30/Mar/2022 00:40:00] \"\u001b[37mPOST /_dash-update-component HTTP/1.1\u001b[0m\" 200 -\n"
     ]
    },
    {
     "name": "stdout",
     "output_type": "stream",
     "text": [
      "Running Analysis - TripleEMA Setup\n",
      "Running Analysis - EMA9 + VWAP Crossover Setup\n",
      "Running Analysis - VWAP Retest Setup\n"
     ]
    },
    {
     "name": "stderr",
     "output_type": "stream",
     "text": [
      "127.0.0.1 - - [30/Mar/2022 00:40:00] \"\u001b[37mPOST /_dash-update-component HTTP/1.1\u001b[0m\" 200 -\n",
      "127.0.0.1 - - [30/Mar/2022 00:40:01] \"\u001b[37mPOST /_dash-update-component HTTP/1.1\u001b[0m\" 200 -\n",
      "127.0.0.1 - - [30/Mar/2022 00:40:02] \"\u001b[37mPOST /_dash-update-component HTTP/1.1\u001b[0m\" 200 -\n",
      "127.0.0.1 - - [30/Mar/2022 00:40:03] \"\u001b[37mPOST /_dash-update-component HTTP/1.1\u001b[0m\" 200 -\n",
      "127.0.0.1 - - [30/Mar/2022 00:40:04] \"\u001b[37mPOST /_dash-update-component HTTP/1.1\u001b[0m\" 200 -\n"
     ]
    },
    {
     "name": "stdout",
     "output_type": "stream",
     "text": [
      "2022-03-29\n",
      "[*********************100%***********************]  1 of 1 completed\n",
      "2022-03-29 12:39:00-04:00 2022-03-29 09:30:00-04:00\n",
      "12 12 63.0\n",
      "2022-03-29 12:40:04 - Running  2022-03-29 10:06:00  Analysis on Watchlist.\n",
      "2022-03-29 12:40:04 - Running  2022-03-29 10:06:00  Analysis on Ticker Symbol:  MSFT\n",
      "[*********************100%***********************]  1 of 1 completed\n",
      "Running Analysis - TripleEMA Setup\n",
      "Running Analysis - EMA9 + VWAP Crossover Setup\n",
      "Running Analysis - VWAP Retest Setup\n",
      "2022-03-29 12:40:04 - Running  2022-03-29 10:06:00  Analysis on Ticker Symbol:  AAPL\n",
      "[*********************100%***********************]  1 of 1 completed\n",
      "Running Analysis - TripleEMA Setup\n",
      "Running Analysis - EMA9 + VWAP Crossover Setup\n",
      "Running Analysis - VWAP Retest Setup\n",
      "2022-03-29 12:40:04 - Running  2022-03-29 10:06:00  Analysis on Ticker Symbol:  TSLA\n",
      "[*********************100%***********************]  1 of 1 completed\n",
      "Running Analysis - TripleEMA Setup\n",
      "Running Analysis - EMA9 + VWAP Crossover Setup\n",
      "Running Analysis - VWAP Retest Setup\n"
     ]
    },
    {
     "name": "stderr",
     "output_type": "stream",
     "text": [
      "127.0.0.1 - - [30/Mar/2022 00:40:05] \"\u001b[37mPOST /_dash-update-component HTTP/1.1\u001b[0m\" 200 -\n",
      "127.0.0.1 - - [30/Mar/2022 00:40:05] \"\u001b[37mPOST /_dash-update-component HTTP/1.1\u001b[0m\" 200 -\n",
      "127.0.0.1 - - [30/Mar/2022 00:40:06] \"\u001b[37mPOST /_dash-update-component HTTP/1.1\u001b[0m\" 200 -\n",
      "127.0.0.1 - - [30/Mar/2022 00:40:07] \"\u001b[37mPOST /_dash-update-component HTTP/1.1\u001b[0m\" 200 -\n",
      "127.0.0.1 - - [30/Mar/2022 00:40:08] \"\u001b[37mPOST /_dash-update-component HTTP/1.1\u001b[0m\" 200 -\n",
      "127.0.0.1 - - [30/Mar/2022 00:40:09] \"\u001b[37mPOST /_dash-update-component HTTP/1.1\u001b[0m\" 200 -\n"
     ]
    },
    {
     "name": "stdout",
     "output_type": "stream",
     "text": [
      "2022-03-29\n",
      "[*********************100%***********************]  1 of 1 completed\n",
      "2022-03-29 12:39:00-04:00 2022-03-29 09:30:00-04:00\n",
      "13 13 63.0\n",
      "2022-03-29 12:40:09 - Running  2022-03-29 10:09:00  Analysis on Watchlist.\n",
      "2022-03-29 12:40:09 - Running  2022-03-29 10:09:00  Analysis on Ticker Symbol:  MSFT\n",
      "[*********************100%***********************]  1 of 1 completed\n",
      "Running Analysis - TripleEMA Setup\n",
      "Running Analysis - EMA9 + VWAP Crossover Setup\n",
      "Running Analysis - VWAP Retest Setup\n",
      "2022-03-29 12:40:09 - Running  2022-03-29 10:09:00  Analysis on Ticker Symbol:  AAPL\n",
      "[*********************100%***********************]  1 of 1 completed\n",
      "Running Analysis - TripleEMA Setup\n",
      "Running Analysis - EMA9 + VWAP Crossover Setup\n",
      "Running Analysis - VWAP Retest Setup\n",
      "2022-03-29 12:40:09 - Running  2022-03-29 10:09:00  Analysis on Ticker Symbol:  TSLA\n",
      "[*********************100%***********************]  1 of 1 completed\n"
     ]
    },
    {
     "name": "stderr",
     "output_type": "stream",
     "text": [
      "127.0.0.1 - - [30/Mar/2022 00:40:10] \"\u001b[37mPOST /_dash-update-component HTTP/1.1\u001b[0m\" 200 -\n"
     ]
    },
    {
     "name": "stdout",
     "output_type": "stream",
     "text": [
      "Running Analysis - TripleEMA Setup\n",
      "Running Analysis - EMA9 + VWAP Crossover Setup\n",
      "Running Analysis - VWAP Retest Setup\n"
     ]
    },
    {
     "name": "stderr",
     "output_type": "stream",
     "text": [
      "127.0.0.1 - - [30/Mar/2022 00:40:10] \"\u001b[37mPOST /_dash-update-component HTTP/1.1\u001b[0m\" 200 -\n",
      "127.0.0.1 - - [30/Mar/2022 00:40:11] \"\u001b[37mPOST /_dash-update-component HTTP/1.1\u001b[0m\" 200 -\n",
      "127.0.0.1 - - [30/Mar/2022 00:40:12] \"\u001b[37mPOST /_dash-update-component HTTP/1.1\u001b[0m\" 200 -\n",
      "127.0.0.1 - - [30/Mar/2022 00:40:13] \"\u001b[37mPOST /_dash-update-component HTTP/1.1\u001b[0m\" 200 -\n",
      "127.0.0.1 - - [30/Mar/2022 00:40:14] \"\u001b[37mPOST /_dash-update-component HTTP/1.1\u001b[0m\" 200 -\n"
     ]
    },
    {
     "name": "stdout",
     "output_type": "stream",
     "text": [
      "2022-03-29\n",
      "[*********************100%***********************]  1 of 1 completed\n",
      "2022-03-29 12:39:00-04:00 2022-03-29 09:30:00-04:00\n",
      "14 14 63.0\n",
      "2022-03-29 12:40:14 - Running  2022-03-29 10:12:00  Analysis on Watchlist.\n",
      "2022-03-29 12:40:14 - Running  2022-03-29 10:12:00  Analysis on Ticker Symbol:  MSFT\n",
      "[*********************100%***********************]  1 of 1 completed\n",
      "Running Analysis - TripleEMA Setup\n",
      "Running Analysis - EMA9 + VWAP Crossover Setup\n",
      "Running Analysis - VWAP Retest Setup\n",
      "2022-03-29 12:40:14 - Running  2022-03-29 10:12:00  Analysis on Ticker Symbol:  AAPL\n",
      "[*********************100%***********************]  1 of 1 completed\n",
      "Running Analysis - TripleEMA Setup\n",
      "Running Analysis - EMA9 + VWAP Crossover Setup\n",
      "Running Analysis - VWAP Retest Setup\n",
      "2022-03-29 12:40:14 - Running  2022-03-29 10:12:00  Analysis on Ticker Symbol:  TSLA\n",
      "[*********************100%***********************]  1 of 1 completed\n",
      "Running Analysis - TripleEMA Setup\n",
      "Running Analysis - EMA9 + VWAP Crossover Setup"
     ]
    },
    {
     "name": "stderr",
     "output_type": "stream",
     "text": [
      "127.0.0.1 - - [30/Mar/2022 00:40:15] \"\u001b[37mPOST /_dash-update-component HTTP/1.1\u001b[0m\" 200 -\n"
     ]
    },
    {
     "name": "stdout",
     "output_type": "stream",
     "text": [
      "\n",
      "Running Analysis - VWAP Retest Setup\n"
     ]
    },
    {
     "name": "stderr",
     "output_type": "stream",
     "text": [
      "127.0.0.1 - - [30/Mar/2022 00:40:15] \"\u001b[37mPOST /_dash-update-component HTTP/1.1\u001b[0m\" 200 -\n",
      "127.0.0.1 - - [30/Mar/2022 00:40:16] \"\u001b[37mPOST /_dash-update-component HTTP/1.1\u001b[0m\" 200 -\n",
      "127.0.0.1 - - [30/Mar/2022 00:40:17] \"\u001b[37mPOST /_dash-update-component HTTP/1.1\u001b[0m\" 200 -\n",
      "127.0.0.1 - - [30/Mar/2022 00:40:18] \"\u001b[37mPOST /_dash-update-component HTTP/1.1\u001b[0m\" 200 -\n",
      "127.0.0.1 - - [30/Mar/2022 00:40:19] \"\u001b[37mPOST /_dash-update-component HTTP/1.1\u001b[0m\" 200 -\n"
     ]
    },
    {
     "name": "stdout",
     "output_type": "stream",
     "text": [
      "2022-03-29\n",
      "[*********************100%***********************]  1 of 1 completed\n",
      "2022-03-29 12:39:00-04:00 2022-03-29 09:30:00-04:00\n",
      "15 15 63.0\n",
      "2022-03-29 12:40:19 - Running  2022-03-29 10:15:00  Analysis on Watchlist.\n",
      "2022-03-29 12:40:19 - Running  2022-03-29 10:15:00  Analysis on Ticker Symbol:  MSFT\n",
      "[*********************100%***********************]  1 of 1 completed\n",
      "Running Analysis - TripleEMA Setup\n",
      "Running Analysis - EMA9 + VWAP Crossover Setup\n",
      "Running Analysis - VWAP Retest Setup\n",
      "2022-03-29 12:40:19 - Running  2022-03-29 10:15:00  Analysis on Ticker Symbol:  AAPL\n",
      "[*********************100%***********************]  1 of 1 completed\n",
      "Running Analysis - TripleEMA Setup\n",
      "Running Analysis - EMA9 + VWAP Crossover Setup\n",
      "Running Analysis - VWAP Retest Setup\n",
      "2022-03-29 12:40:19 - Running  2022-03-29 10:15:00  Analysis on Ticker Symbol:  TSLA\n",
      "[*********************100%***********************]  1 of 1 completed\n",
      "Running Analysis - TripleEMA Setup\n"
     ]
    },
    {
     "name": "stderr",
     "output_type": "stream",
     "text": [
      "127.0.0.1 - - [30/Mar/2022 00:40:20] \"\u001b[37mPOST /_dash-update-component HTTP/1.1\u001b[0m\" 200 -\n"
     ]
    },
    {
     "name": "stdout",
     "output_type": "stream",
     "text": [
      "Running Analysis - EMA9 + VWAP Crossover Setup\n",
      "Running Analysis - VWAP Retest Setup\n"
     ]
    },
    {
     "name": "stderr",
     "output_type": "stream",
     "text": [
      "127.0.0.1 - - [30/Mar/2022 00:40:20] \"\u001b[37mPOST /_dash-update-component HTTP/1.1\u001b[0m\" 200 -\n",
      "127.0.0.1 - - [30/Mar/2022 00:40:21] \"\u001b[37mPOST /_dash-update-component HTTP/1.1\u001b[0m\" 200 -\n",
      "127.0.0.1 - - [30/Mar/2022 00:40:22] \"\u001b[37mPOST /_dash-update-component HTTP/1.1\u001b[0m\" 200 -\n",
      "127.0.0.1 - - [30/Mar/2022 00:40:23] \"\u001b[37mPOST /_dash-update-component HTTP/1.1\u001b[0m\" 200 -\n",
      "127.0.0.1 - - [30/Mar/2022 00:40:24] \"\u001b[37mPOST /_dash-update-component HTTP/1.1\u001b[0m\" 200 -\n"
     ]
    },
    {
     "name": "stdout",
     "output_type": "stream",
     "text": [
      "2022-03-29\n",
      "[*********************100%***********************]  1 of 1 completed\n",
      "2022-03-29 12:39:00-04:00 2022-03-29 09:30:00-04:00\n",
      "16 16 63.0\n",
      "2022-03-29 12:40:24 - Running  2022-03-29 10:18:00  Analysis on Watchlist.\n",
      "2022-03-29 12:40:24 - Running  2022-03-29 10:18:00  Analysis on Ticker Symbol:  MSFT\n",
      "[*********************100%***********************]  1 of 1 completed\n",
      "Running Analysis - TripleEMA Setup\n",
      "Running Analysis - EMA9 + VWAP Crossover Setup\n",
      "Running Analysis - VWAP Retest Setup\n",
      "2022-03-29 12:40:24 - Running  2022-03-29 10:18:00  Analysis on Ticker Symbol:  AAPL\n",
      "[*********************100%***********************]  1 of 1 completed\n",
      "Running Analysis - TripleEMA Setup\n",
      "Running Analysis - EMA9 + VWAP Crossover Setup\n",
      "Running Analysis - VWAP Retest Setup\n",
      "2022-03-29 12:40:24 - Running  2022-03-29 10:18:00  Analysis on Ticker Symbol:  TSLA\n",
      "[*********************100%***********************]  1 of 1 completed\n",
      "Running Analysis - TripleEMA Setup\n",
      "Running Analysis - EMA9 + VWAP Crossover Setup\n",
      "Running Analysis - VWAP Retest Setup\n"
     ]
    },
    {
     "name": "stderr",
     "output_type": "stream",
     "text": [
      "127.0.0.1 - - [30/Mar/2022 00:40:25] \"\u001b[37mPOST /_dash-update-component HTTP/1.1\u001b[0m\" 200 -\n",
      "127.0.0.1 - - [30/Mar/2022 00:40:25] \"\u001b[37mPOST /_dash-update-component HTTP/1.1\u001b[0m\" 200 -\n",
      "127.0.0.1 - - [30/Mar/2022 00:40:26] \"\u001b[37mPOST /_dash-update-component HTTP/1.1\u001b[0m\" 200 -\n",
      "127.0.0.1 - - [30/Mar/2022 00:40:27] \"\u001b[37mPOST /_dash-update-component HTTP/1.1\u001b[0m\" 200 -\n",
      "127.0.0.1 - - [30/Mar/2022 00:40:28] \"\u001b[37mPOST /_dash-update-component HTTP/1.1\u001b[0m\" 200 -\n",
      "127.0.0.1 - - [30/Mar/2022 00:40:29] \"\u001b[37mPOST /_dash-update-component HTTP/1.1\u001b[0m\" 200 -\n"
     ]
    },
    {
     "name": "stdout",
     "output_type": "stream",
     "text": [
      "2022-03-29\n",
      "[*********************100%***********************]  1 of 1 completed\n",
      "2022-03-29 12:39:00-04:00 2022-03-29 09:30:00-04:00\n",
      "17 17 63.0\n",
      "2022-03-29 12:40:29 - Running  2022-03-29 10:21:00  Analysis on Watchlist.\n",
      "2022-03-29 12:40:29 - Running  2022-03-29 10:21:00  Analysis on Ticker Symbol:  MSFT\n",
      "[*********************100%***********************]  1 of 1 completed\n",
      "Running Analysis - TripleEMA Setup\n",
      "Running Analysis - EMA9 + VWAP Crossover Setup\n",
      "Running Analysis - VWAP Retest Setup\n",
      "2022-03-29 12:40:29 - Running  2022-03-29 10:21:00  Analysis on Ticker Symbol:  AAPL\n",
      "[*********************100%***********************]  1 of 1 completed\n",
      "Running Analysis - TripleEMA Setup\n",
      "Running Analysis - EMA9 + VWAP Crossover Setup\n",
      "Running Analysis - VWAP Retest Setup\n",
      "2022-03-29 12:40:29 - Running  2022-03-29 10:21:00  Analysis on Ticker Symbol:  TSLA\n",
      "[*********************100%***********************]  1 of 1 completed\n"
     ]
    },
    {
     "name": "stderr",
     "output_type": "stream",
     "text": [
      "127.0.0.1 - - [30/Mar/2022 00:40:30] \"\u001b[37mPOST /_dash-update-component HTTP/1.1\u001b[0m\" 200 -\n"
     ]
    },
    {
     "name": "stdout",
     "output_type": "stream",
     "text": [
      "Running Analysis - TripleEMA Setup\n",
      "Running Analysis - EMA9 + VWAP Crossover Setup\n",
      "Running Analysis - VWAP Retest Setup\n"
     ]
    },
    {
     "name": "stderr",
     "output_type": "stream",
     "text": [
      "127.0.0.1 - - [30/Mar/2022 00:40:30] \"\u001b[37mPOST /_dash-update-component HTTP/1.1\u001b[0m\" 200 -\n",
      "127.0.0.1 - - [30/Mar/2022 00:40:32] \"\u001b[37mPOST /_dash-update-component HTTP/1.1\u001b[0m\" 200 -\n",
      "127.0.0.1 - - [30/Mar/2022 00:40:33] \"\u001b[37mPOST /_dash-update-component HTTP/1.1\u001b[0m\" 200 -\n",
      "127.0.0.1 - - [30/Mar/2022 00:40:33] \"\u001b[37mPOST /_dash-update-component HTTP/1.1\u001b[0m\" 200 -\n",
      "127.0.0.1 - - [30/Mar/2022 00:40:35] \"\u001b[37mPOST /_dash-update-component HTTP/1.1\u001b[0m\" 200 -\n",
      "127.0.0.1 - - [30/Mar/2022 00:40:35] \"\u001b[37mPOST /_dash-update-component HTTP/1.1\u001b[0m\" 200 -\n"
     ]
    },
    {
     "name": "stdout",
     "output_type": "stream",
     "text": [
      "2022-03-29\n",
      "[*********************100%***********************]  1 of 1 completed\n",
      "2022-03-29 12:39:00-04:00 2022-03-29 09:30:00-04:00\n",
      "18 18 63.0\n",
      "2022-03-29 12:40:35 - Running  2022-03-29 10:24:00  Analysis on Watchlist.\n",
      "2022-03-29 12:40:35 - Running  2022-03-29 10:24:00  Analysis on Ticker Symbol:  MSFT\n",
      "[*********************100%***********************]  1 of 1 completed\n",
      "Running Analysis - TripleEMA Setup\n",
      "Running Analysis - EMA9 + VWAP Crossover Setup\n",
      "Running Analysis - VWAP Retest Setup\n",
      "2022-03-29 12:40:35 - Running  2022-03-29 10:24:00  Analysis on Ticker Symbol:  AAPL\n",
      "[*********************100%***********************]  1 of 1 completed\n",
      "Running Analysis - TripleEMA Setup\n",
      "Running Analysis - EMA9 + VWAP Crossover Setup\n",
      "Running Analysis - VWAP Retest Setup\n",
      "2022-03-29 12:40:35 - Running  2022-03-29 10:24:00  Analysis on Ticker Symbol:  TSLA\n",
      "[*********************100%***********************]  1 of 1 completed\n"
     ]
    },
    {
     "name": "stderr",
     "output_type": "stream",
     "text": [
      "127.0.0.1 - - [30/Mar/2022 00:40:36] \"\u001b[37mPOST /_dash-update-component HTTP/1.1\u001b[0m\" 200 -\n"
     ]
    },
    {
     "name": "stdout",
     "output_type": "stream",
     "text": [
      "Running Analysis - TripleEMA Setup\n",
      "Running Analysis - EMA9 + VWAP Crossover Setup\n",
      "Running Analysis - VWAP Retest Setup\n"
     ]
    },
    {
     "name": "stderr",
     "output_type": "stream",
     "text": [
      "127.0.0.1 - - [30/Mar/2022 00:40:37] \"\u001b[37mPOST /_dash-update-component HTTP/1.1\u001b[0m\" 200 -\n",
      "127.0.0.1 - - [30/Mar/2022 00:40:37] \"\u001b[37mPOST /_dash-update-component HTTP/1.1\u001b[0m\" 200 -\n",
      "127.0.0.1 - - [30/Mar/2022 00:40:39] \"\u001b[37mPOST /_dash-update-component HTTP/1.1\u001b[0m\" 200 -\n",
      "127.0.0.1 - - [30/Mar/2022 00:40:39] \"\u001b[37mPOST /_dash-update-component HTTP/1.1\u001b[0m\" 200 -\n"
     ]
    },
    {
     "name": "stdout",
     "output_type": "stream",
     "text": [
      "2022-03-29\n",
      "[*********************100%***********************]  1 of 1 completed\n",
      "2022-03-29 12:39:00-04:00 2022-03-29 09:30:00-04:00\n",
      "19 19 63.0\n",
      "2022-03-29 12:40:39 - Running  2022-03-29 10:27:00  Analysis on Watchlist.\n",
      "2022-03-29 12:40:39 - Running  2022-03-29 10:27:00  Analysis on Ticker Symbol:  MSFT\n",
      "[*********************100%***********************]  1 of 1 completed\n",
      "Running Analysis - TripleEMA Setup\n",
      "Running Analysis - EMA9 + VWAP Crossover Setup\n",
      "Running Analysis - VWAP Retest Setup\n",
      "2022-03-29 12:40:39 - Running  2022-03-29 10:27:00  Analysis on Ticker Symbol:  AAPL\n",
      "[*********************100%***********************]  1 of 1 completed\n",
      "Running Analysis - TripleEMA Setup\n",
      "Running Analysis - EMA9 + VWAP Crossover Setup\n",
      "Running Analysis - VWAP Retest Setup\n",
      "2022-03-29 12:40:39 - Running  2022-03-29 10:27:00  Analysis on Ticker Symbol:  TSLA\n",
      "[*********************100%***********************]  1 of 1 completed\n"
     ]
    },
    {
     "name": "stderr",
     "output_type": "stream",
     "text": [
      "127.0.0.1 - - [30/Mar/2022 00:40:40] \"\u001b[37mPOST /_dash-update-component HTTP/1.1\u001b[0m\" 200 -\n"
     ]
    },
    {
     "name": "stdout",
     "output_type": "stream",
     "text": [
      "Running Analysis - TripleEMA Setup\n",
      "Running Analysis - EMA9 + VWAP Crossover Setup\n",
      "Running Analysis - VWAP Retest Setup\n"
     ]
    },
    {
     "name": "stderr",
     "output_type": "stream",
     "text": [
      "127.0.0.1 - - [30/Mar/2022 00:40:41] \"\u001b[37mPOST /_dash-update-component HTTP/1.1\u001b[0m\" 200 -\n",
      "127.0.0.1 - - [30/Mar/2022 00:40:41] \"\u001b[37mPOST /_dash-update-component HTTP/1.1\u001b[0m\" 200 -\n",
      "127.0.0.1 - - [30/Mar/2022 00:40:43] \"\u001b[37mPOST /_dash-update-component HTTP/1.1\u001b[0m\" 200 -\n",
      "127.0.0.1 - - [30/Mar/2022 00:40:43] \"\u001b[37mPOST /_dash-update-component HTTP/1.1\u001b[0m\" 200 -\n",
      "127.0.0.1 - - [30/Mar/2022 00:40:45] \"\u001b[37mPOST /_dash-update-component HTTP/1.1\u001b[0m\" 200 -\n",
      "127.0.0.1 - - [30/Mar/2022 00:40:45] \"\u001b[37mPOST /_dash-update-component HTTP/1.1\u001b[0m\" 200 -\n"
     ]
    },
    {
     "name": "stdout",
     "output_type": "stream",
     "text": [
      "2022-03-29\n",
      "[*********************100%***********************]  1 of 1 completed\n",
      "2022-03-29 12:39:00-04:00 2022-03-29 09:30:00-04:00\n",
      "20 20 63.0\n",
      "2022-03-29 12:40:45 - Running  2022-03-29 10:30:00  Analysis on Watchlist.\n",
      "2022-03-29 12:40:45 - Running  2022-03-29 10:30:00  Analysis on Ticker Symbol:  MSFT\n",
      "[*********************100%***********************]  1 of 1 completed\n",
      "Running Analysis - TripleEMA Setup\n",
      "Running Analysis - EMA9 + VWAP Crossover Setup\n",
      "Running Analysis - VWAP Retest Setup\n",
      "2022-03-29 12:40:45 - Running  2022-03-29 10:30:00  Analysis on Ticker Symbol:  AAPL\n",
      "[*********************100%***********************]  1 of 1 completed\n",
      "Running Analysis - TripleEMA Setup\n",
      "Running Analysis - EMA9 + VWAP Crossover Setup\n",
      "Running Analysis - VWAP Retest Setup\n",
      "2022-03-29 12:40:45 - Running  2022-03-29 10:30:00  Analysis on Ticker Symbol:  TSLA\n",
      "[*********************100%***********************]  1 of 1 completed\n"
     ]
    },
    {
     "name": "stderr",
     "output_type": "stream",
     "text": [
      "127.0.0.1 - - [30/Mar/2022 00:40:46] \"\u001b[37mPOST /_dash-update-component HTTP/1.1\u001b[0m\" 200 -\n"
     ]
    },
    {
     "name": "stdout",
     "output_type": "stream",
     "text": [
      "Running Analysis - TripleEMA Setup\n",
      "Running Analysis - EMA9 + VWAP Crossover Setup\n",
      "Running Analysis - VWAP Retest Setup\n"
     ]
    },
    {
     "name": "stderr",
     "output_type": "stream",
     "text": [
      "127.0.0.1 - - [30/Mar/2022 00:40:47] \"\u001b[37mPOST /_dash-update-component HTTP/1.1\u001b[0m\" 200 -\n",
      "127.0.0.1 - - [30/Mar/2022 00:40:47] \"\u001b[37mPOST /_dash-update-component HTTP/1.1\u001b[0m\" 200 -\n",
      "127.0.0.1 - - [30/Mar/2022 00:40:49] \"\u001b[37mPOST /_dash-update-component HTTP/1.1\u001b[0m\" 200 -\n",
      "127.0.0.1 - - [30/Mar/2022 00:40:49] \"\u001b[37mPOST /_dash-update-component HTTP/1.1\u001b[0m\" 200 -\n"
     ]
    },
    {
     "name": "stdout",
     "output_type": "stream",
     "text": [
      "2022-03-29\n",
      "[*********************100%***********************]  1 of 1 completed\n",
      "2022-03-29 12:39:00-04:00 2022-03-29 09:30:00-04:00\n",
      "21 21 63.0\n",
      "2022-03-29 12:40:49 - Running  2022-03-29 10:33:00  Analysis on Watchlist.\n",
      "2022-03-29 12:40:49 - Running  2022-03-29 10:33:00  Analysis on Ticker Symbol:  MSFT\n",
      "[*********************100%***********************]  1 of 1 completed\n",
      "Running Analysis - TripleEMA Setup\n",
      "Running Analysis - EMA9 + VWAP Crossover Setup\n",
      "Running Analysis - VWAP Retest Setup\n",
      "2022-03-29 12:40:49 - Running  2022-03-29 10:33:00  Analysis on Ticker Symbol:  AAPL\n",
      "[*********************100%***********************]  1 of 1 completed\n",
      "Running Analysis - TripleEMA Setup\n",
      "Running Analysis - EMA9 + VWAP Crossover Setup\n",
      "Running Analysis - VWAP Retest Setup\n",
      "2022-03-29 12:40:49 - Running  2022-03-29 10:33:00  Analysis on Ticker Symbol:  TSLA\n",
      "[*********************100%***********************]  1 of 1 completed\n"
     ]
    },
    {
     "name": "stderr",
     "output_type": "stream",
     "text": [
      "127.0.0.1 - - [30/Mar/2022 00:40:50] \"\u001b[37mPOST /_dash-update-component HTTP/1.1\u001b[0m\" 200 -\n"
     ]
    },
    {
     "name": "stdout",
     "output_type": "stream",
     "text": [
      "Running Analysis - TripleEMA Setup\n",
      "Running Analysis - EMA9 + VWAP Crossover Setup\n",
      "Running Analysis - VWAP Retest Setup\n"
     ]
    },
    {
     "name": "stderr",
     "output_type": "stream",
     "text": [
      "127.0.0.1 - - [30/Mar/2022 00:40:51] \"\u001b[37mPOST /_dash-update-component HTTP/1.1\u001b[0m\" 200 -\n",
      "127.0.0.1 - - [30/Mar/2022 00:40:51] \"\u001b[37mPOST /_dash-update-component HTTP/1.1\u001b[0m\" 200 -\n",
      "127.0.0.1 - - [30/Mar/2022 00:40:53] \"\u001b[37mPOST /_dash-update-component HTTP/1.1\u001b[0m\" 200 -\n",
      "127.0.0.1 - - [30/Mar/2022 00:40:53] \"\u001b[37mPOST /_dash-update-component HTTP/1.1\u001b[0m\" 200 -\n",
      "127.0.0.1 - - [30/Mar/2022 00:40:55] \"\u001b[37mPOST /_dash-update-component HTTP/1.1\u001b[0m\" 200 -\n",
      "127.0.0.1 - - [30/Mar/2022 00:40:55] \"\u001b[37mPOST /_dash-update-component HTTP/1.1\u001b[0m\" 200 -\n"
     ]
    },
    {
     "name": "stdout",
     "output_type": "stream",
     "text": [
      "2022-03-29\n",
      "[*********************100%***********************]  1 of 1 completed\n",
      "2022-03-29 12:39:00-04:00 2022-03-29 09:30:00-04:00\n",
      "22 22 63.0\n",
      "2022-03-29 12:40:55 - Running  2022-03-29 10:36:00  Analysis on Watchlist.\n",
      "2022-03-29 12:40:55 - Running  2022-03-29 10:36:00  Analysis on Ticker Symbol:  MSFT\n",
      "[*********************100%***********************]  1 of 1 completed\n",
      "Running Analysis - TripleEMA Setup\n",
      "Running Analysis - EMA9 + VWAP Crossover Setup\n",
      "Running Analysis - VWAP Retest Setup\n",
      "2022-03-29 12:40:55 - Running  2022-03-29 10:36:00  Analysis on Ticker Symbol:  AAPL\n",
      "[*********************100%***********************]  1 of 1 completed\n",
      "Running Analysis - TripleEMA Setup\n",
      "Running Analysis - EMA9 + VWAP Crossover Setup\n",
      "Running Analysis - VWAP Retest Setup\n",
      "2022-03-29 12:40:55 - Running  2022-03-29 10:36:00  Analysis on Ticker Symbol:  TSLA\n",
      "[*********************100%***********************]  1 of 1 completed\n",
      "Running Analysis - TripleEMA Setup\n",
      "Running Analysis - EMA9 + VWAP Crossover Setup"
     ]
    },
    {
     "name": "stderr",
     "output_type": "stream",
     "text": [
      "127.0.0.1 - - [30/Mar/2022 00:40:56] \"\u001b[37mPOST /_dash-update-component HTTP/1.1\u001b[0m\" 200 -\n"
     ]
    },
    {
     "name": "stdout",
     "output_type": "stream",
     "text": [
      "\n",
      "Running Analysis - VWAP Retest Setup\n"
     ]
    },
    {
     "name": "stderr",
     "output_type": "stream",
     "text": [
      "127.0.0.1 - - [30/Mar/2022 00:40:57] \"\u001b[37mPOST /_dash-update-component HTTP/1.1\u001b[0m\" 200 -\n",
      "127.0.0.1 - - [30/Mar/2022 00:40:57] \"\u001b[37mPOST /_dash-update-component HTTP/1.1\u001b[0m\" 200 -\n",
      "127.0.0.1 - - [30/Mar/2022 00:40:59] \"\u001b[37mPOST /_dash-update-component HTTP/1.1\u001b[0m\" 200 -\n",
      "127.0.0.1 - - [30/Mar/2022 00:40:59] \"\u001b[37mPOST /_dash-update-component HTTP/1.1\u001b[0m\" 200 -\n"
     ]
    },
    {
     "name": "stdout",
     "output_type": "stream",
     "text": [
      "2022-03-29\n",
      "[*********************100%***********************]  1 of 1 completed\n",
      "2022-03-29 12:39:00-04:00 2022-03-29 09:30:00-04:00\n",
      "23 23 63.0\n",
      "2022-03-29 12:40:59 - Running  2022-03-29 10:39:00  Analysis on Watchlist.\n",
      "2022-03-29 12:40:59 - Running  2022-03-29 10:39:00  Analysis on Ticker Symbol:  MSFT\n",
      "[*********************100%***********************]  1 of 1 completed\n",
      "Running Analysis - TripleEMA Setup\n",
      "Running Analysis - EMA9 + VWAP Crossover Setup\n",
      "Running Analysis - VWAP Retest Setup\n",
      "2022-03-29 12:40:59 - Running  2022-03-29 10:39:00  Analysis on Ticker Symbol:  AAPL\n",
      "[*********************100%***********************]  1 of 1 completed\n",
      "Running Analysis - TripleEMA Setup\n",
      "Running Analysis - EMA9 + VWAP Crossover Setup\n",
      "Running Analysis - VWAP Retest Setup\n",
      "2022-03-29 12:40:59 - Running  2022-03-29 10:39:00  Analysis on Ticker Symbol:  TSLA\n",
      "[*********************100%***********************]  1 of 1 completed\n"
     ]
    },
    {
     "name": "stderr",
     "output_type": "stream",
     "text": [
      "127.0.0.1 - - [30/Mar/2022 00:41:00] \"\u001b[37mPOST /_dash-update-component HTTP/1.1\u001b[0m\" 200 -\n"
     ]
    },
    {
     "name": "stdout",
     "output_type": "stream",
     "text": [
      "Running Analysis - TripleEMA Setup\n",
      "Running Analysis - EMA9 + VWAP Crossover Setup\n",
      "Running Analysis - VWAP Retest Setup\n"
     ]
    },
    {
     "name": "stderr",
     "output_type": "stream",
     "text": [
      "127.0.0.1 - - [30/Mar/2022 00:41:01] \"\u001b[37mPOST /_dash-update-component HTTP/1.1\u001b[0m\" 200 -\n",
      "127.0.0.1 - - [30/Mar/2022 00:41:01] \"\u001b[37mPOST /_dash-update-component HTTP/1.1\u001b[0m\" 200 -\n",
      "127.0.0.1 - - [30/Mar/2022 00:41:03] \"\u001b[37mPOST /_dash-update-component HTTP/1.1\u001b[0m\" 200 -\n",
      "127.0.0.1 - - [30/Mar/2022 00:41:03] \"\u001b[37mPOST /_dash-update-component HTTP/1.1\u001b[0m\" 200 -\n",
      "127.0.0.1 - - [30/Mar/2022 00:41:05] \"\u001b[37mPOST /_dash-update-component HTTP/1.1\u001b[0m\" 200 -\n",
      "127.0.0.1 - - [30/Mar/2022 00:41:05] \"\u001b[37mPOST /_dash-update-component HTTP/1.1\u001b[0m\" 200 -\n"
     ]
    },
    {
     "name": "stdout",
     "output_type": "stream",
     "text": [
      "2022-03-29\n",
      "[*********************100%***********************]  1 of 1 completed\n",
      "2022-03-29 12:39:00-04:00 2022-03-29 09:30:00-04:00\n",
      "24 24 63.0\n",
      "2022-03-29 12:41:05 - Running  2022-03-29 10:42:00  Analysis on Watchlist.\n",
      "2022-03-29 12:41:05 - Running  2022-03-29 10:42:00  Analysis on Ticker Symbol:  MSFT\n",
      "[*********************100%***********************]  1 of 1 completed\n",
      "Running Analysis - TripleEMA Setup\n",
      "Running Analysis - EMA9 + VWAP Crossover Setup\n",
      "Running Analysis - VWAP Retest Setup\n",
      "2022-03-29 12:41:05 - Running  2022-03-29 10:42:00  Analysis on Ticker Symbol:  AAPL\n",
      "[*********************100%***********************]  1 of 1 completed\n",
      "Running Analysis - TripleEMA Setup\n",
      "Running Analysis - EMA9 + VWAP Crossover Setup\n",
      "Running Analysis - VWAP Retest Setup\n",
      "2022-03-29 12:41:05 - Running  2022-03-29 10:42:00  Analysis on Ticker Symbol:  TSLA\n",
      "[*********************100%***********************]  1 of 1 completed\n"
     ]
    },
    {
     "name": "stderr",
     "output_type": "stream",
     "text": [
      "127.0.0.1 - - [30/Mar/2022 00:41:06] \"\u001b[37mPOST /_dash-update-component HTTP/1.1\u001b[0m\" 200 -\n"
     ]
    },
    {
     "name": "stdout",
     "output_type": "stream",
     "text": [
      "Running Analysis - TripleEMA Setup\n",
      "Running Analysis - EMA9 + VWAP Crossover Setup\n",
      "Running Analysis - VWAP Retest Setup\n"
     ]
    },
    {
     "name": "stderr",
     "output_type": "stream",
     "text": [
      "127.0.0.1 - - [30/Mar/2022 00:41:07] \"\u001b[37mPOST /_dash-update-component HTTP/1.1\u001b[0m\" 200 -\n",
      "127.0.0.1 - - [30/Mar/2022 00:41:07] \"\u001b[37mPOST /_dash-update-component HTTP/1.1\u001b[0m\" 200 -\n",
      "127.0.0.1 - - [30/Mar/2022 00:41:09] \"\u001b[37mPOST /_dash-update-component HTTP/1.1\u001b[0m\" 200 -\n",
      "127.0.0.1 - - [30/Mar/2022 00:41:09] \"\u001b[37mPOST /_dash-update-component HTTP/1.1\u001b[0m\" 200 -\n"
     ]
    },
    {
     "name": "stdout",
     "output_type": "stream",
     "text": [
      "2022-03-29\n",
      "[*********************100%***********************]  1 of 1 completed\n",
      "2022-03-29 12:39:00-04:00 2022-03-29 09:30:00-04:00\n",
      "25 25 63.0\n",
      "2022-03-29 12:41:09 - Running  2022-03-29 10:45:00  Analysis on Watchlist.\n",
      "2022-03-29 12:41:09 - Running  2022-03-29 10:45:00  Analysis on Ticker Symbol:  MSFT\n",
      "[*********************100%***********************]  1 of 1 completed\n",
      "Running Analysis - TripleEMA Setup\n",
      "Running Analysis - EMA9 + VWAP Crossover Setup\n",
      "Running Analysis - VWAP Retest Setup\n",
      "2022-03-29 12:41:09 - Running  2022-03-29 10:45:00  Analysis on Ticker Symbol:  AAPL\n",
      "[*********************100%***********************]  1 of 1 completed\n",
      "Running Analysis - TripleEMA Setup\n",
      "Running Analysis - EMA9 + VWAP Crossover Setup\n",
      "Running Analysis - VWAP Retest Setup\n",
      "2022-03-29 12:41:09 - Running  2022-03-29 10:45:00  Analysis on Ticker Symbol:  TSLA\n",
      "[*********************100%***********************]  1 of 1 completed\n",
      "Running Analysis - TripleEMA Setup\n",
      "Running Analysis - EMA9 + VWAP Crossover Setup"
     ]
    },
    {
     "name": "stderr",
     "output_type": "stream",
     "text": [
      "127.0.0.1 - - [30/Mar/2022 00:41:10] \"\u001b[37mPOST /_dash-update-component HTTP/1.1\u001b[0m\" 200 -\n"
     ]
    },
    {
     "name": "stdout",
     "output_type": "stream",
     "text": [
      "\n",
      "Running Analysis - VWAP Retest Setup\n"
     ]
    },
    {
     "name": "stderr",
     "output_type": "stream",
     "text": [
      "127.0.0.1 - - [30/Mar/2022 00:41:11] \"\u001b[37mPOST /_dash-update-component HTTP/1.1\u001b[0m\" 200 -\n",
      "127.0.0.1 - - [30/Mar/2022 00:41:11] \"\u001b[37mPOST /_dash-update-component HTTP/1.1\u001b[0m\" 200 -\n",
      "127.0.0.1 - - [30/Mar/2022 00:41:13] \"\u001b[37mPOST /_dash-update-component HTTP/1.1\u001b[0m\" 200 -\n",
      "127.0.0.1 - - [30/Mar/2022 00:41:13] \"\u001b[37mPOST /_dash-update-component HTTP/1.1\u001b[0m\" 200 -\n",
      "127.0.0.1 - - [30/Mar/2022 00:41:15] \"\u001b[37mPOST /_dash-update-component HTTP/1.1\u001b[0m\" 200 -\n",
      "127.0.0.1 - - [30/Mar/2022 00:41:15] \"\u001b[37mPOST /_dash-update-component HTTP/1.1\u001b[0m\" 200 -\n"
     ]
    },
    {
     "name": "stdout",
     "output_type": "stream",
     "text": [
      "2022-03-29\n",
      "[*********************100%***********************]  1 of 1 completed\n",
      "2022-03-29 12:39:00-04:00 2022-03-29 09:30:00-04:00\n",
      "26 26 63.0\n",
      "2022-03-29 12:41:15 - Running  2022-03-29 10:48:00  Analysis on Watchlist.\n",
      "2022-03-29 12:41:15 - Running  2022-03-29 10:48:00  Analysis on Ticker Symbol:  MSFT\n",
      "[*********************100%***********************]  1 of 1 completed\n",
      "Running Analysis - TripleEMA Setup\n",
      "Running Analysis - EMA9 + VWAP Crossover Setup\n",
      "Running Analysis - VWAP Retest Setup\n",
      "2022-03-29 12:41:15 - Running  2022-03-29 10:48:00  Analysis on Ticker Symbol:  AAPL\n",
      "[*********************100%***********************]  1 of 1 completed\n",
      "Running Analysis - TripleEMA Setup\n",
      "Running Analysis - EMA9 + VWAP Crossover Setup\n",
      "Running Analysis - VWAP Retest Setup\n",
      "2022-03-29 12:41:15 - Running  2022-03-29 10:48:00  Analysis on Ticker Symbol:  TSLA\n",
      "[*********************100%***********************]  1 of 1 completed\n",
      "Running Analysis - TripleEMA Setup"
     ]
    },
    {
     "name": "stderr",
     "output_type": "stream",
     "text": [
      "127.0.0.1 - - [30/Mar/2022 00:41:16] \"\u001b[37mPOST /_dash-update-component HTTP/1.1\u001b[0m\" 200 -\n"
     ]
    },
    {
     "name": "stdout",
     "output_type": "stream",
     "text": [
      "\n",
      "Running Analysis - EMA9 + VWAP Crossover Setup\n",
      "Running Analysis - VWAP Retest Setup\n"
     ]
    },
    {
     "name": "stderr",
     "output_type": "stream",
     "text": [
      "127.0.0.1 - - [30/Mar/2022 00:41:17] \"\u001b[37mPOST /_dash-update-component HTTP/1.1\u001b[0m\" 200 -\n",
      "127.0.0.1 - - [30/Mar/2022 00:41:17] \"\u001b[37mPOST /_dash-update-component HTTP/1.1\u001b[0m\" 200 -\n",
      "127.0.0.1 - - [30/Mar/2022 00:41:19] \"\u001b[37mPOST /_dash-update-component HTTP/1.1\u001b[0m\" 200 -\n",
      "127.0.0.1 - - [30/Mar/2022 00:41:19] \"\u001b[37mPOST /_dash-update-component HTTP/1.1\u001b[0m\" 200 -\n"
     ]
    },
    {
     "name": "stdout",
     "output_type": "stream",
     "text": [
      "2022-03-29\n",
      "[*********************100%***********************]  1 of 1 completed\n",
      "2022-03-29 12:39:00-04:00 2022-03-29 09:30:00-04:00\n",
      "27 27 63.0\n",
      "2022-03-29 12:41:19 - Running  2022-03-29 10:51:00  Analysis on Watchlist.\n",
      "2022-03-29 12:41:19 - Running  2022-03-29 10:51:00  Analysis on Ticker Symbol:  MSFT\n",
      "[*********************100%***********************]  1 of 1 completed\n",
      "Running Analysis - TripleEMA Setup\n",
      "Running Analysis - EMA9 + VWAP Crossover Setup\n",
      "Running Analysis - VWAP Retest Setup\n",
      "2022-03-29 12:41:19 - Running  2022-03-29 10:51:00  Analysis on Ticker Symbol:  AAPL\n",
      "[*********************100%***********************]  1 of 1 completed\n",
      "Running Analysis - TripleEMA Setup\n",
      "Running Analysis - EMA9 + VWAP Crossover Setup\n",
      "Running Analysis - VWAP Retest Setup\n",
      "2022-03-29 12:41:19 - Running  2022-03-29 10:51:00  Analysis on Ticker Symbol:  TSLA\n",
      "[*********************100%***********************]  1 of 1 completed\n"
     ]
    },
    {
     "name": "stderr",
     "output_type": "stream",
     "text": [
      "127.0.0.1 - - [30/Mar/2022 00:41:20] \"\u001b[37mPOST /_dash-update-component HTTP/1.1\u001b[0m\" 200 -\n"
     ]
    },
    {
     "name": "stdout",
     "output_type": "stream",
     "text": [
      "Running Analysis - TripleEMA Setup\n",
      "Running Analysis - EMA9 + VWAP Crossover Setup\n",
      "Running Analysis - VWAP Retest Setup\n"
     ]
    },
    {
     "name": "stderr",
     "output_type": "stream",
     "text": [
      "127.0.0.1 - - [30/Mar/2022 00:41:21] \"\u001b[37mPOST /_dash-update-component HTTP/1.1\u001b[0m\" 200 -\n",
      "127.0.0.1 - - [30/Mar/2022 00:41:21] \"\u001b[37mPOST /_dash-update-component HTTP/1.1\u001b[0m\" 200 -\n",
      "127.0.0.1 - - [30/Mar/2022 00:41:23] \"\u001b[37mPOST /_dash-update-component HTTP/1.1\u001b[0m\" 200 -\n",
      "127.0.0.1 - - [30/Mar/2022 00:41:23] \"\u001b[37mPOST /_dash-update-component HTTP/1.1\u001b[0m\" 200 -\n",
      "127.0.0.1 - - [30/Mar/2022 00:41:25] \"\u001b[37mPOST /_dash-update-component HTTP/1.1\u001b[0m\" 200 -\n",
      "127.0.0.1 - - [30/Mar/2022 00:41:25] \"\u001b[37mPOST /_dash-update-component HTTP/1.1\u001b[0m\" 200 -\n"
     ]
    },
    {
     "name": "stdout",
     "output_type": "stream",
     "text": [
      "2022-03-29\n",
      "[*********************100%***********************]  1 of 1 completed\n",
      "2022-03-29 12:39:00-04:00 2022-03-29 09:30:00-04:00\n",
      "28 28 63.0\n",
      "2022-03-29 12:41:25 - Running  2022-03-29 10:54:00  Analysis on Watchlist.\n",
      "2022-03-29 12:41:25 - Running  2022-03-29 10:54:00  Analysis on Ticker Symbol:  MSFT\n",
      "[*********************100%***********************]  1 of 1 completed\n",
      "Running Analysis - TripleEMA Setup\n",
      "Running Analysis - EMA9 + VWAP Crossover Setup\n",
      "Running Analysis - VWAP Retest Setup\n",
      "2022-03-29 12:41:25 - Running  2022-03-29 10:54:00  Analysis on Ticker Symbol:  AAPL\n",
      "[*********************100%***********************]  1 of 1 completed\n",
      "Running Analysis - TripleEMA Setup\n",
      "Running Analysis - EMA9 + VWAP Crossover Setup\n",
      "Running Analysis - VWAP Retest Setup\n",
      "2022-03-29 12:41:25 - Running  2022-03-29 10:54:00  Analysis on Ticker Symbol:  TSLA\n",
      "[*********************100%***********************]  1 of 1 completed\n",
      "Running Analysis - TripleEMA Setup\n",
      "Running Analysis - EMA9 + VWAP Crossover Setup"
     ]
    },
    {
     "name": "stderr",
     "output_type": "stream",
     "text": [
      "127.0.0.1 - - [30/Mar/2022 00:41:26] \"\u001b[37mPOST /_dash-update-component HTTP/1.1\u001b[0m\" 200 -\n"
     ]
    },
    {
     "name": "stdout",
     "output_type": "stream",
     "text": [
      "\n",
      "Running Analysis - VWAP Retest Setup\n"
     ]
    },
    {
     "name": "stderr",
     "output_type": "stream",
     "text": [
      "127.0.0.1 - - [30/Mar/2022 00:41:27] \"\u001b[37mPOST /_dash-update-component HTTP/1.1\u001b[0m\" 200 -\n",
      "127.0.0.1 - - [30/Mar/2022 00:41:27] \"\u001b[37mPOST /_dash-update-component HTTP/1.1\u001b[0m\" 200 -\n",
      "127.0.0.1 - - [30/Mar/2022 00:41:29] \"\u001b[37mPOST /_dash-update-component HTTP/1.1\u001b[0m\" 200 -\n",
      "127.0.0.1 - - [30/Mar/2022 00:41:29] \"\u001b[37mPOST /_dash-update-component HTTP/1.1\u001b[0m\" 200 -\n"
     ]
    },
    {
     "name": "stdout",
     "output_type": "stream",
     "text": [
      "2022-03-29\n",
      "[*********************100%***********************]  1 of 1 completed\n",
      "2022-03-29 12:39:00-04:00 2022-03-29 09:30:00-04:00\n",
      "29 29 63.0\n",
      "2022-03-29 12:41:29 - Running  2022-03-29 10:57:00  Analysis on Watchlist.\n",
      "2022-03-29 12:41:29 - Running  2022-03-29 10:57:00  Analysis on Ticker Symbol:  MSFT\n",
      "[*********************100%***********************]  1 of 1 completed\n",
      "Running Analysis - TripleEMA Setup\n",
      "Running Analysis - EMA9 + VWAP Crossover Setup\n",
      "Running Analysis - VWAP Retest Setup\n",
      "2022-03-29 12:41:29 - Running  2022-03-29 10:57:00  Analysis on Ticker Symbol:  AAPL\n",
      "[*********************100%***********************]  1 of 1 completed\n",
      "Running Analysis - TripleEMA Setup\n",
      "Running Analysis - EMA9 + VWAP Crossover Setup\n",
      "Running Analysis - VWAP Retest Setup\n",
      "2022-03-29 12:41:29 - Running  2022-03-29 10:57:00  Analysis on Ticker Symbol:  TSLA\n",
      "[*********************100%***********************]  1 of 1 completed\n",
      "Running Analysis - TripleEMA Setup\n"
     ]
    },
    {
     "name": "stderr",
     "output_type": "stream",
     "text": [
      "127.0.0.1 - - [30/Mar/2022 00:41:30] \"\u001b[37mPOST /_dash-update-component HTTP/1.1\u001b[0m\" 200 -\n"
     ]
    },
    {
     "name": "stdout",
     "output_type": "stream",
     "text": [
      "Running Analysis - EMA9 + VWAP Crossover Setup\n",
      "Running Analysis - VWAP Retest Setup\n"
     ]
    },
    {
     "name": "stderr",
     "output_type": "stream",
     "text": [
      "127.0.0.1 - - [30/Mar/2022 00:41:31] \"\u001b[37mPOST /_dash-update-component HTTP/1.1\u001b[0m\" 200 -\n",
      "127.0.0.1 - - [30/Mar/2022 00:41:31] \"\u001b[37mPOST /_dash-update-component HTTP/1.1\u001b[0m\" 200 -\n",
      "127.0.0.1 - - [30/Mar/2022 00:41:33] \"\u001b[37mPOST /_dash-update-component HTTP/1.1\u001b[0m\" 200 -\n",
      "127.0.0.1 - - [30/Mar/2022 00:41:33] \"\u001b[37mPOST /_dash-update-component HTTP/1.1\u001b[0m\" 200 -\n",
      "127.0.0.1 - - [30/Mar/2022 00:41:35] \"\u001b[37mPOST /_dash-update-component HTTP/1.1\u001b[0m\" 200 -\n",
      "127.0.0.1 - - [30/Mar/2022 00:41:35] \"\u001b[37mPOST /_dash-update-component HTTP/1.1\u001b[0m\" 200 -\n"
     ]
    },
    {
     "name": "stdout",
     "output_type": "stream",
     "text": [
      "2022-03-29\n",
      "[*********************100%***********************]  1 of 1 completed\n",
      "2022-03-29 12:39:00-04:00 2022-03-29 09:30:00-04:00\n",
      "30 30 63.0\n",
      "2022-03-29 12:41:35 - Running  2022-03-29 11:00:00  Analysis on Watchlist.\n",
      "2022-03-29 12:41:35 - Running  2022-03-29 11:00:00  Analysis on Ticker Symbol:  MSFT\n",
      "[*********************100%***********************]  1 of 1 completed\n",
      "Running Analysis - TripleEMA Setup\n",
      "Running Analysis - EMA9 + VWAP Crossover Setup\n",
      "Running Analysis - VWAP Retest Setup\n",
      "2022-03-29 12:41:35 - Running  2022-03-29 11:00:00  Analysis on Ticker Symbol:  AAPL\n",
      "[*********************100%***********************]  1 of 1 completed\n",
      "Running Analysis - TripleEMA Setup\n",
      "Running Analysis - EMA9 + VWAP Crossover Setup\n",
      "Running Analysis - VWAP Retest Setup\n",
      "2022-03-29 12:41:35 - Running  2022-03-29 11:00:00  Analysis on Ticker Symbol:  TSLA\n",
      "[*********************100%***********************]  1 of 1 completed\n",
      "Running Analysis - TripleEMA Setup\n"
     ]
    },
    {
     "name": "stderr",
     "output_type": "stream",
     "text": [
      "127.0.0.1 - - [30/Mar/2022 00:41:36] \"\u001b[37mPOST /_dash-update-component HTTP/1.1\u001b[0m\" 200 -\n"
     ]
    },
    {
     "name": "stdout",
     "output_type": "stream",
     "text": [
      "Running Analysis - EMA9 + VWAP Crossover Setup\n",
      "Running Analysis - VWAP Retest Setup\n"
     ]
    },
    {
     "name": "stderr",
     "output_type": "stream",
     "text": [
      "127.0.0.1 - - [30/Mar/2022 00:41:37] \"\u001b[37mPOST /_dash-update-component HTTP/1.1\u001b[0m\" 200 -\n",
      "127.0.0.1 - - [30/Mar/2022 00:41:37] \"\u001b[37mPOST /_dash-update-component HTTP/1.1\u001b[0m\" 200 -\n",
      "127.0.0.1 - - [30/Mar/2022 00:41:39] \"\u001b[37mPOST /_dash-update-component HTTP/1.1\u001b[0m\" 200 -\n",
      "127.0.0.1 - - [30/Mar/2022 00:41:39] \"\u001b[37mPOST /_dash-update-component HTTP/1.1\u001b[0m\" 200 -\n"
     ]
    },
    {
     "name": "stdout",
     "output_type": "stream",
     "text": [
      "2022-03-29\n",
      "[*********************100%***********************]  1 of 1 completed\n",
      "2022-03-29 12:39:00-04:00 2022-03-29 09:30:00-04:00\n",
      "31 31 63.0\n",
      "2022-03-29 12:41:39 - Running  2022-03-29 11:03:00  Analysis on Watchlist.\n",
      "2022-03-29 12:41:39 - Running  2022-03-29 11:03:00  Analysis on Ticker Symbol:  MSFT\n",
      "[*********************100%***********************]  1 of 1 completed\n",
      "Running Analysis - TripleEMA Setup\n",
      "Running Analysis - EMA9 + VWAP Crossover Setup\n",
      "Running Analysis - VWAP Retest Setup\n",
      "2022-03-29 12:41:39 - Running  2022-03-29 11:03:00  Analysis on Ticker Symbol:  AAPL\n",
      "[*********************100%***********************]  1 of 1 completed\n",
      "Running Analysis - TripleEMA Setup\n",
      "Running Analysis - EMA9 + VWAP Crossover Setup\n",
      "Running Analysis - VWAP Retest Setup\n",
      "2022-03-29 12:41:39 - Running  2022-03-29 11:03:00  Analysis on Ticker Symbol:  TSLA\n",
      "[*********************100%***********************]  1 of 1 completed\n"
     ]
    },
    {
     "name": "stderr",
     "output_type": "stream",
     "text": [
      "127.0.0.1 - - [30/Mar/2022 00:41:40] \"\u001b[37mPOST /_dash-update-component HTTP/1.1\u001b[0m\" 200 -\n"
     ]
    },
    {
     "name": "stdout",
     "output_type": "stream",
     "text": [
      "Running Analysis - TripleEMA Setup\n",
      "Running Analysis - EMA9 + VWAP Crossover Setup\n",
      "Running Analysis - VWAP Retest Setup\n"
     ]
    },
    {
     "name": "stderr",
     "output_type": "stream",
     "text": [
      "127.0.0.1 - - [30/Mar/2022 00:41:41] \"\u001b[37mPOST /_dash-update-component HTTP/1.1\u001b[0m\" 200 -\n",
      "127.0.0.1 - - [30/Mar/2022 00:41:41] \"\u001b[37mPOST /_dash-update-component HTTP/1.1\u001b[0m\" 200 -\n",
      "127.0.0.1 - - [30/Mar/2022 00:41:43] \"\u001b[37mPOST /_dash-update-component HTTP/1.1\u001b[0m\" 200 -\n",
      "127.0.0.1 - - [30/Mar/2022 00:41:43] \"\u001b[37mPOST /_dash-update-component HTTP/1.1\u001b[0m\" 200 -\n",
      "127.0.0.1 - - [30/Mar/2022 00:41:45] \"\u001b[37mPOST /_dash-update-component HTTP/1.1\u001b[0m\" 200 -\n",
      "127.0.0.1 - - [30/Mar/2022 00:41:45] \"\u001b[37mPOST /_dash-update-component HTTP/1.1\u001b[0m\" 200 -\n"
     ]
    },
    {
     "name": "stdout",
     "output_type": "stream",
     "text": [
      "2022-03-29\n",
      "[*********************100%***********************]  1 of 1 completed\n",
      "2022-03-29 12:39:00-04:00 2022-03-29 09:30:00-04:00\n",
      "32 32 63.0\n",
      "2022-03-29 12:41:45 - Running  2022-03-29 11:06:00  Analysis on Watchlist.\n",
      "2022-03-29 12:41:45 - Running  2022-03-29 11:06:00  Analysis on Ticker Symbol:  MSFT\n",
      "[*********************100%***********************]  1 of 1 completed\n",
      "Running Analysis - TripleEMA Setup\n",
      "Running Analysis - EMA9 + VWAP Crossover Setup\n",
      "Running Analysis - VWAP Retest Setup\n",
      "2022-03-29 12:41:45 - Running  2022-03-29 11:06:00  Analysis on Ticker Symbol:  AAPL\n",
      "[*********************100%***********************]  1 of 1 completed\n",
      "Running Analysis - TripleEMA Setup\n",
      "Running Analysis - EMA9 + VWAP Crossover Setup\n",
      "Running Analysis - VWAP Retest Setup\n",
      "2022-03-29 12:41:45 - Running  2022-03-29 11:06:00  Analysis on Ticker Symbol:  TSLA\n",
      "[*********************100%***********************]  1 of 1 completed\n",
      "Running Analysis - TripleEMA Setup\n"
     ]
    },
    {
     "name": "stderr",
     "output_type": "stream",
     "text": [
      "127.0.0.1 - - [30/Mar/2022 00:41:46] \"\u001b[37mPOST /_dash-update-component HTTP/1.1\u001b[0m\" 200 -\n"
     ]
    },
    {
     "name": "stdout",
     "output_type": "stream",
     "text": [
      "Running Analysis - EMA9 + VWAP Crossover Setup\n",
      "Running Analysis - VWAP Retest Setup\n"
     ]
    },
    {
     "name": "stderr",
     "output_type": "stream",
     "text": [
      "127.0.0.1 - - [30/Mar/2022 00:41:47] \"\u001b[37mPOST /_dash-update-component HTTP/1.1\u001b[0m\" 200 -\n",
      "127.0.0.1 - - [30/Mar/2022 00:41:47] \"\u001b[37mPOST /_dash-update-component HTTP/1.1\u001b[0m\" 200 -\n",
      "127.0.0.1 - - [30/Mar/2022 00:41:49] \"\u001b[37mPOST /_dash-update-component HTTP/1.1\u001b[0m\" 200 -\n",
      "127.0.0.1 - - [30/Mar/2022 00:41:49] \"\u001b[37mPOST /_dash-update-component HTTP/1.1\u001b[0m\" 200 -\n"
     ]
    },
    {
     "name": "stdout",
     "output_type": "stream",
     "text": [
      "2022-03-29\n",
      "[*********************100%***********************]  1 of 1 completed\n",
      "2022-03-29 12:39:00-04:00 2022-03-29 09:30:00-04:00\n",
      "33 33 63.0\n",
      "2022-03-29 12:41:49 - Running  2022-03-29 11:09:00  Analysis on Watchlist.\n",
      "2022-03-29 12:41:49 - Running  2022-03-29 11:09:00  Analysis on Ticker Symbol:  MSFT\n",
      "[*********************100%***********************]  1 of 1 completed\n",
      "Running Analysis - TripleEMA Setup\n",
      "Running Analysis - EMA9 + VWAP Crossover Setup\n",
      "Running Analysis - VWAP Retest Setup\n",
      "2022-03-29 12:41:49 - Running  2022-03-29 11:09:00  Analysis on Ticker Symbol:  AAPL\n",
      "[*********************100%***********************]  1 of 1 completed\n",
      "Running Analysis - TripleEMA Setup\n",
      "Running Analysis - EMA9 + VWAP Crossover Setup\n",
      "Running Analysis - VWAP Retest Setup\n",
      "2022-03-29 12:41:49 - Running  2022-03-29 11:09:00  Analysis on Ticker Symbol:  TSLA\n",
      "[*********************100%***********************]  1 of 1 completed\n"
     ]
    },
    {
     "name": "stderr",
     "output_type": "stream",
     "text": [
      "127.0.0.1 - - [30/Mar/2022 00:41:50] \"\u001b[37mPOST /_dash-update-component HTTP/1.1\u001b[0m\" 200 -\n"
     ]
    },
    {
     "name": "stdout",
     "output_type": "stream",
     "text": [
      "Running Analysis - TripleEMA Setup\n",
      "Running Analysis - EMA9 + VWAP Crossover Setup\n",
      "Running Analysis - VWAP Retest Setup\n"
     ]
    },
    {
     "name": "stderr",
     "output_type": "stream",
     "text": [
      "127.0.0.1 - - [30/Mar/2022 00:41:51] \"\u001b[37mPOST /_dash-update-component HTTP/1.1\u001b[0m\" 200 -\n",
      "127.0.0.1 - - [30/Mar/2022 00:41:51] \"\u001b[37mPOST /_dash-update-component HTTP/1.1\u001b[0m\" 200 -\n",
      "127.0.0.1 - - [30/Mar/2022 00:41:53] \"\u001b[37mPOST /_dash-update-component HTTP/1.1\u001b[0m\" 200 -\n",
      "127.0.0.1 - - [30/Mar/2022 00:41:53] \"\u001b[37mPOST /_dash-update-component HTTP/1.1\u001b[0m\" 200 -\n",
      "127.0.0.1 - - [30/Mar/2022 00:41:55] \"\u001b[37mPOST /_dash-update-component HTTP/1.1\u001b[0m\" 200 -\n",
      "127.0.0.1 - - [30/Mar/2022 00:41:55] \"\u001b[37mPOST /_dash-update-component HTTP/1.1\u001b[0m\" 200 -\n"
     ]
    },
    {
     "name": "stdout",
     "output_type": "stream",
     "text": [
      "2022-03-29\n",
      "[*********************100%***********************]  1 of 1 completed\n",
      "2022-03-29 12:39:00-04:00 2022-03-29 09:30:00-04:00\n",
      "34 34 63.0\n",
      "2022-03-29 12:41:55 - Running  2022-03-29 11:12:00  Analysis on Watchlist.\n",
      "2022-03-29 12:41:55 - Running  2022-03-29 11:12:00  Analysis on Ticker Symbol:  MSFT\n",
      "[*********************100%***********************]  1 of 1 completed\n",
      "Running Analysis - TripleEMA Setup\n",
      "Running Analysis - EMA9 + VWAP Crossover Setup\n",
      "Running Analysis - VWAP Retest Setup\n",
      "2022-03-29 12:41:55 - Running  2022-03-29 11:12:00  Analysis on Ticker Symbol:  AAPL\n",
      "[*********************100%***********************]  1 of 1 completed\n",
      "Running Analysis - TripleEMA Setup\n",
      "Running Analysis - EMA9 + VWAP Crossover Setup\n",
      "Running Analysis - VWAP Retest Setup\n",
      "2022-03-29 12:41:55 - Running  2022-03-29 11:12:00  Analysis on Ticker Symbol:  TSLA\n",
      "[*********************100%***********************]  1 of 1 completed\n",
      "Running Analysis - TripleEMA Setup\n",
      "Running Analysis - EMA9 + VWAP Crossover Setup"
     ]
    },
    {
     "name": "stderr",
     "output_type": "stream",
     "text": [
      "127.0.0.1 - - [30/Mar/2022 00:41:56] \"\u001b[37mPOST /_dash-update-component HTTP/1.1\u001b[0m\" 200 -\n"
     ]
    },
    {
     "name": "stdout",
     "output_type": "stream",
     "text": [
      "\n",
      "Running Analysis - VWAP Retest Setup\n"
     ]
    },
    {
     "name": "stderr",
     "output_type": "stream",
     "text": [
      "127.0.0.1 - - [30/Mar/2022 00:41:57] \"\u001b[37mPOST /_dash-update-component HTTP/1.1\u001b[0m\" 200 -\n",
      "127.0.0.1 - - [30/Mar/2022 00:41:57] \"\u001b[37mPOST /_dash-update-component HTTP/1.1\u001b[0m\" 200 -\n",
      "127.0.0.1 - - [30/Mar/2022 00:41:59] \"\u001b[37mPOST /_dash-update-component HTTP/1.1\u001b[0m\" 200 -\n",
      "127.0.0.1 - - [30/Mar/2022 00:41:59] \"\u001b[37mPOST /_dash-update-component HTTP/1.1\u001b[0m\" 200 -\n"
     ]
    },
    {
     "name": "stdout",
     "output_type": "stream",
     "text": [
      "2022-03-29\n",
      "[*********************100%***********************]  1 of 1 completed\n",
      "2022-03-29 12:39:00-04:00 2022-03-29 09:30:00-04:00\n",
      "35 35 63.0\n",
      "2022-03-29 12:41:59 - Running  2022-03-29 11:15:00  Analysis on Watchlist.\n",
      "2022-03-29 12:41:59 - Running  2022-03-29 11:15:00  Analysis on Ticker Symbol:  MSFT\n",
      "[*********************100%***********************]  1 of 1 completed\n",
      "Running Analysis - TripleEMA Setup\n",
      "Running Analysis - EMA9 + VWAP Crossover Setup\n",
      "Running Analysis - VWAP Retest Setup\n",
      "2022-03-29 12:41:59 - Running  2022-03-29 11:15:00  Analysis on Ticker Symbol:  AAPL\n",
      "[*********************100%***********************]  1 of 1 completed\n",
      "Running Analysis - TripleEMA Setup\n",
      "Running Analysis - EMA9 + VWAP Crossover Setup\n",
      "Running Analysis - VWAP Retest Setup\n",
      "2022-03-29 12:41:59 - Running  2022-03-29 11:15:00  Analysis on Ticker Symbol:  TSLA\n",
      "[*********************100%***********************]  1 of 1 completed\n"
     ]
    },
    {
     "name": "stderr",
     "output_type": "stream",
     "text": [
      "127.0.0.1 - - [30/Mar/2022 00:42:00] \"\u001b[37mPOST /_dash-update-component HTTP/1.1\u001b[0m\" 200 -\n"
     ]
    },
    {
     "name": "stdout",
     "output_type": "stream",
     "text": [
      "Running Analysis - TripleEMA Setup\n",
      "Running Analysis - EMA9 + VWAP Crossover Setup\n",
      "Running Analysis - VWAP Retest Setup\n"
     ]
    },
    {
     "name": "stderr",
     "output_type": "stream",
     "text": [
      "127.0.0.1 - - [30/Mar/2022 00:42:01] \"\u001b[37mPOST /_dash-update-component HTTP/1.1\u001b[0m\" 200 -\n",
      "127.0.0.1 - - [30/Mar/2022 00:42:01] \"\u001b[37mPOST /_dash-update-component HTTP/1.1\u001b[0m\" 200 -\n",
      "127.0.0.1 - - [30/Mar/2022 00:42:03] \"\u001b[37mPOST /_dash-update-component HTTP/1.1\u001b[0m\" 200 -\n",
      "127.0.0.1 - - [30/Mar/2022 00:42:03] \"\u001b[37mPOST /_dash-update-component HTTP/1.1\u001b[0m\" 200 -\n",
      "127.0.0.1 - - [30/Mar/2022 00:42:05] \"\u001b[37mPOST /_dash-update-component HTTP/1.1\u001b[0m\" 200 -\n",
      "127.0.0.1 - - [30/Mar/2022 00:42:05] \"\u001b[37mPOST /_dash-update-component HTTP/1.1\u001b[0m\" 200 -\n"
     ]
    },
    {
     "name": "stdout",
     "output_type": "stream",
     "text": [
      "2022-03-29\n",
      "[*********************100%***********************]  1 of 1 completed\n",
      "2022-03-29 12:42:00-04:00 2022-03-29 09:30:00-04:00\n",
      "36 36 64.0\n",
      "2022-03-29 12:42:05 - Running  2022-03-29 11:18:00  Analysis on Watchlist.\n",
      "2022-03-29 12:42:05 - Running  2022-03-29 11:18:00  Analysis on Ticker Symbol:  MSFT\n",
      "[*********************100%***********************]  1 of 1 completed\n",
      "Running Analysis - TripleEMA Setup\n",
      "Running Analysis - EMA9 + VWAP Crossover Setup\n",
      "Running Analysis - VWAP Retest Setup\n",
      "2022-03-29 12:42:05 - Running  2022-03-29 11:18:00  Analysis on Ticker Symbol:  AAPL\n",
      "[*********************100%***********************]  1 of 1 completed\n",
      "Running Analysis - TripleEMA Setup\n",
      "Running Analysis - EMA9 + VWAP Crossover Setup\n",
      "Running Analysis - VWAP Retest Setup\n",
      "2022-03-29 12:42:05 - Running  2022-03-29 11:18:00  Analysis on Ticker Symbol:  TSLA\n",
      "[*********************100%***********************]  1 of 1 completed\n",
      "Running Analysis - TripleEMA Setup\n",
      "Running Analysis - EMA9 + VWAP Crossover Setup"
     ]
    },
    {
     "name": "stderr",
     "output_type": "stream",
     "text": [
      "127.0.0.1 - - [30/Mar/2022 00:42:06] \"\u001b[37mPOST /_dash-update-component HTTP/1.1\u001b[0m\" 200 -\n"
     ]
    },
    {
     "name": "stdout",
     "output_type": "stream",
     "text": [
      "\n",
      "Running Analysis - VWAP Retest Setup\n"
     ]
    },
    {
     "name": "stderr",
     "output_type": "stream",
     "text": [
      "127.0.0.1 - - [30/Mar/2022 00:42:07] \"\u001b[37mPOST /_dash-update-component HTTP/1.1\u001b[0m\" 200 -\n",
      "127.0.0.1 - - [30/Mar/2022 00:42:07] \"\u001b[37mPOST /_dash-update-component HTTP/1.1\u001b[0m\" 200 -\n",
      "127.0.0.1 - - [30/Mar/2022 00:42:09] \"\u001b[37mPOST /_dash-update-component HTTP/1.1\u001b[0m\" 200 -\n",
      "127.0.0.1 - - [30/Mar/2022 00:42:09] \"\u001b[37mPOST /_dash-update-component HTTP/1.1\u001b[0m\" 200 -\n"
     ]
    },
    {
     "name": "stdout",
     "output_type": "stream",
     "text": [
      "2022-03-29\n",
      "[*********************100%***********************]  1 of 1 completed\n",
      "2022-03-29 12:42:00-04:00 2022-03-29 09:30:00-04:00\n",
      "37 37 64.0\n",
      "2022-03-29 12:42:09 - Running  2022-03-29 11:21:00  Analysis on Watchlist.\n",
      "2022-03-29 12:42:09 - Running  2022-03-29 11:21:00  Analysis on Ticker Symbol:  MSFT\n",
      "[*********************100%***********************]  1 of 1 completed\n",
      "Running Analysis - TripleEMA Setup\n",
      "Running Analysis - EMA9 + VWAP Crossover Setup\n",
      "Running Analysis - VWAP Retest Setup\n",
      "2022-03-29 12:42:09 - Running  2022-03-29 11:21:00  Analysis on Ticker Symbol:  AAPL\n",
      "[*********************100%***********************]  1 of 1 completed\n",
      "Running Analysis - TripleEMA Setup\n",
      "Running Analysis - EMA9 + VWAP Crossover Setup\n",
      "Running Analysis - VWAP Retest Setup\n",
      "2022-03-29 12:42:09 - Running  2022-03-29 11:21:00  Analysis on Ticker Symbol:  TSLA\n",
      "[*********************100%***********************]  1 of 1 completed\n",
      "Running Analysis - TripleEMA Setup\n",
      "Running Analysis - EMA9 + VWAP Crossover Setup\n",
      "Running Analysis - VWAP Retest Setup"
     ]
    },
    {
     "name": "stderr",
     "output_type": "stream",
     "text": [
      "127.0.0.1 - - [30/Mar/2022 00:42:10] \"\u001b[37mPOST /_dash-update-component HTTP/1.1\u001b[0m\" 200 -\n"
     ]
    },
    {
     "name": "stdout",
     "output_type": "stream",
     "text": [
      "\n"
     ]
    },
    {
     "name": "stderr",
     "output_type": "stream",
     "text": [
      "127.0.0.1 - - [30/Mar/2022 00:42:11] \"\u001b[37mPOST /_dash-update-component HTTP/1.1\u001b[0m\" 200 -\n",
      "127.0.0.1 - - [30/Mar/2022 00:42:11] \"\u001b[37mPOST /_dash-update-component HTTP/1.1\u001b[0m\" 200 -\n",
      "127.0.0.1 - - [30/Mar/2022 00:42:13] \"\u001b[37mPOST /_dash-update-component HTTP/1.1\u001b[0m\" 200 -\n",
      "127.0.0.1 - - [30/Mar/2022 00:42:13] \"\u001b[37mPOST /_dash-update-component HTTP/1.1\u001b[0m\" 200 -\n",
      "127.0.0.1 - - [30/Mar/2022 00:42:15] \"\u001b[37mPOST /_dash-update-component HTTP/1.1\u001b[0m\" 200 -\n",
      "127.0.0.1 - - [30/Mar/2022 00:42:15] \"\u001b[37mPOST /_dash-update-component HTTP/1.1\u001b[0m\" 200 -\n"
     ]
    },
    {
     "name": "stdout",
     "output_type": "stream",
     "text": [
      "2022-03-29\n",
      "[*********************100%***********************]  1 of 1 completed\n",
      "2022-03-29 12:42:00-04:00 2022-03-29 09:30:00-04:00\n",
      "38 38 64.0\n",
      "2022-03-29 12:42:15 - Running  2022-03-29 11:24:00  Analysis on Watchlist.\n",
      "2022-03-29 12:42:15 - Running  2022-03-29 11:24:00  Analysis on Ticker Symbol:  MSFT\n",
      "[*********************100%***********************]  1 of 1 completed\n",
      "Running Analysis - TripleEMA Setup\n",
      "Running Analysis - EMA9 + VWAP Crossover Setup\n",
      "Running Analysis - VWAP Retest Setup\n",
      "2022-03-29 12:42:15 - Running  2022-03-29 11:24:00  Analysis on Ticker Symbol:  AAPL\n",
      "[*********************100%***********************]  1 of 1 completed\n",
      "Running Analysis - TripleEMA Setup\n",
      "Running Analysis - EMA9 + VWAP Crossover Setup\n",
      "Running Analysis - VWAP Retest Setup\n",
      "2022-03-29 12:42:15 - Running  2022-03-29 11:24:00  Analysis on Ticker Symbol:  TSLA\n",
      "[*********************100%***********************]  1 of 1 completed\n",
      "Running Analysis - TripleEMA Setup\n",
      "Running Analysis - EMA9 + VWAP Crossover Setup\n",
      "Running Analysis - VWAP Retest Setup\n"
     ]
    },
    {
     "name": "stderr",
     "output_type": "stream",
     "text": [
      "127.0.0.1 - - [30/Mar/2022 00:42:16] \"\u001b[37mPOST /_dash-update-component HTTP/1.1\u001b[0m\" 200 -\n",
      "127.0.0.1 - - [30/Mar/2022 00:42:17] \"\u001b[37mPOST /_dash-update-component HTTP/1.1\u001b[0m\" 200 -\n",
      "127.0.0.1 - - [30/Mar/2022 00:42:17] \"\u001b[37mPOST /_dash-update-component HTTP/1.1\u001b[0m\" 200 -\n",
      "127.0.0.1 - - [30/Mar/2022 00:42:19] \"\u001b[37mPOST /_dash-update-component HTTP/1.1\u001b[0m\" 200 -\n",
      "127.0.0.1 - - [30/Mar/2022 00:42:19] \"\u001b[37mPOST /_dash-update-component HTTP/1.1\u001b[0m\" 200 -\n"
     ]
    },
    {
     "name": "stdout",
     "output_type": "stream",
     "text": [
      "2022-03-29\n",
      "[*********************100%***********************]  1 of 1 completed\n",
      "2022-03-29 12:42:00-04:00 2022-03-29 09:30:00-04:00\n",
      "39 39 64.0\n",
      "2022-03-29 12:42:19 - Running  2022-03-29 11:27:00  Analysis on Watchlist.\n",
      "2022-03-29 12:42:19 - Running  2022-03-29 11:27:00  Analysis on Ticker Symbol:  MSFT\n",
      "[*********************100%***********************]  1 of 1 completed\n",
      "Running Analysis - TripleEMA Setup\n",
      "Running Analysis - EMA9 + VWAP Crossover Setup\n",
      "Running Analysis - VWAP Retest Setup\n",
      "2022-03-29 12:42:19 - Running  2022-03-29 11:27:00  Analysis on Ticker Symbol:  AAPL\n",
      "[*********************100%***********************]  1 of 1 completed\n",
      "Running Analysis - TripleEMA Setup\n",
      "Running Analysis - EMA9 + VWAP Crossover Setup\n",
      "Running Analysis - VWAP Retest Setup\n",
      "2022-03-29 12:42:19 - Running  2022-03-29 11:27:00  Analysis on Ticker Symbol:  TSLA\n",
      "[*********************100%***********************]  1 of 1 completed\n"
     ]
    },
    {
     "name": "stderr",
     "output_type": "stream",
     "text": [
      "127.0.0.1 - - [30/Mar/2022 00:42:20] \"\u001b[37mPOST /_dash-update-component HTTP/1.1\u001b[0m\" 200 -\n"
     ]
    },
    {
     "name": "stdout",
     "output_type": "stream",
     "text": [
      "Running Analysis - TripleEMA Setup\n",
      "Running Analysis - EMA9 + VWAP Crossover Setup\n",
      "Running Analysis - VWAP Retest Setup\n"
     ]
    },
    {
     "name": "stderr",
     "output_type": "stream",
     "text": [
      "127.0.0.1 - - [30/Mar/2022 00:42:21] \"\u001b[37mPOST /_dash-update-component HTTP/1.1\u001b[0m\" 200 -\n",
      "127.0.0.1 - - [30/Mar/2022 00:42:21] \"\u001b[37mPOST /_dash-update-component HTTP/1.1\u001b[0m\" 200 -\n",
      "127.0.0.1 - - [30/Mar/2022 00:42:23] \"\u001b[37mPOST /_dash-update-component HTTP/1.1\u001b[0m\" 200 -\n",
      "127.0.0.1 - - [30/Mar/2022 00:42:23] \"\u001b[37mPOST /_dash-update-component HTTP/1.1\u001b[0m\" 200 -\n",
      "127.0.0.1 - - [30/Mar/2022 00:42:25] \"\u001b[37mPOST /_dash-update-component HTTP/1.1\u001b[0m\" 200 -\n",
      "127.0.0.1 - - [30/Mar/2022 00:42:25] \"\u001b[37mPOST /_dash-update-component HTTP/1.1\u001b[0m\" 200 -\n"
     ]
    },
    {
     "name": "stdout",
     "output_type": "stream",
     "text": [
      "2022-03-29\n",
      "[*********************100%***********************]  1 of 1 completed\n",
      "2022-03-29 12:42:00-04:00 2022-03-29 09:30:00-04:00\n",
      "40 40 64.0\n",
      "2022-03-29 12:42:25 - Running  2022-03-29 11:30:00  Analysis on Watchlist.\n",
      "2022-03-29 12:42:25 - Running  2022-03-29 11:30:00  Analysis on Ticker Symbol:  MSFT\n",
      "[*********************100%***********************]  1 of 1 completed\n",
      "Running Analysis - TripleEMA Setup\n",
      "Running Analysis - EMA9 + VWAP Crossover Setup\n",
      "Running Analysis - VWAP Retest Setup\n",
      "2022-03-29 12:42:25 - Running  2022-03-29 11:30:00  Analysis on Ticker Symbol:  AAPL\n",
      "[*********************100%***********************]  1 of 1 completed\n",
      "Running Analysis - TripleEMA Setup\n",
      "Running Analysis - EMA9 + VWAP Crossover Setup\n",
      "Running Analysis - VWAP Retest Setup\n",
      "2022-03-29 12:42:25 - Running  2022-03-29 11:30:00  Analysis on Ticker Symbol:  TSLA\n",
      "[*********************100%***********************]  1 of 1 completed\n",
      "Running Analysis - TripleEMA Setup\n",
      "Running Analysis - EMA9 + VWAP Crossover Setup"
     ]
    },
    {
     "name": "stderr",
     "output_type": "stream",
     "text": [
      "127.0.0.1 - - [30/Mar/2022 00:42:26] \"\u001b[37mPOST /_dash-update-component HTTP/1.1\u001b[0m\" 200 -\n"
     ]
    },
    {
     "name": "stdout",
     "output_type": "stream",
     "text": [
      "\n",
      "Running Analysis - VWAP Retest Setup\n"
     ]
    },
    {
     "name": "stderr",
     "output_type": "stream",
     "text": [
      "127.0.0.1 - - [30/Mar/2022 00:42:27] \"\u001b[37mPOST /_dash-update-component HTTP/1.1\u001b[0m\" 200 -\n",
      "127.0.0.1 - - [30/Mar/2022 00:42:27] \"\u001b[37mPOST /_dash-update-component HTTP/1.1\u001b[0m\" 200 -\n",
      "127.0.0.1 - - [30/Mar/2022 00:42:29] \"\u001b[37mPOST /_dash-update-component HTTP/1.1\u001b[0m\" 200 -\n",
      "127.0.0.1 - - [30/Mar/2022 00:42:29] \"\u001b[37mPOST /_dash-update-component HTTP/1.1\u001b[0m\" 200 -\n"
     ]
    },
    {
     "name": "stdout",
     "output_type": "stream",
     "text": [
      "2022-03-29\n",
      "[*********************100%***********************]  1 of 1 completed\n",
      "2022-03-29 12:42:00-04:00 2022-03-29 09:30:00-04:00\n",
      "41 41 64.0\n",
      "2022-03-29 12:42:29 - Running  2022-03-29 11:33:00  Analysis on Watchlist.\n",
      "2022-03-29 12:42:29 - Running  2022-03-29 11:33:00  Analysis on Ticker Symbol:  MSFT\n",
      "[*********************100%***********************]  1 of 1 completed\n",
      "Running Analysis - TripleEMA Setup\n",
      "Running Analysis - EMA9 + VWAP Crossover Setup\n",
      "Running Analysis - VWAP Retest Setup\n",
      "2022-03-29 12:42:29 - Running  2022-03-29 11:33:00  Analysis on Ticker Symbol:  AAPL\n",
      "[*********************100%***********************]  1 of 1 completed\n",
      "Running Analysis - TripleEMA Setup\n",
      "Running Analysis - EMA9 + VWAP Crossover Setup\n",
      "Running Analysis - VWAP Retest Setup\n",
      "2022-03-29 12:42:29 - Running  2022-03-29 11:33:00  Analysis on Ticker Symbol:  TSLA\n",
      "[*********************100%***********************]  1 of 1 completed\n",
      "Running Analysis - TripleEMA Setup\n",
      "Running Analysis - EMA9 + VWAP Crossover Setup\n",
      "Running Analysis - VWAP Retest Setup\n"
     ]
    },
    {
     "name": "stderr",
     "output_type": "stream",
     "text": [
      "127.0.0.1 - - [30/Mar/2022 00:42:30] \"\u001b[37mPOST /_dash-update-component HTTP/1.1\u001b[0m\" 200 -\n",
      "127.0.0.1 - - [30/Mar/2022 00:42:31] \"\u001b[37mPOST /_dash-update-component HTTP/1.1\u001b[0m\" 200 -\n",
      "127.0.0.1 - - [30/Mar/2022 00:42:31] \"\u001b[37mPOST /_dash-update-component HTTP/1.1\u001b[0m\" 200 -\n",
      "127.0.0.1 - - [30/Mar/2022 00:42:33] \"\u001b[37mPOST /_dash-update-component HTTP/1.1\u001b[0m\" 200 -\n",
      "127.0.0.1 - - [30/Mar/2022 00:42:33] \"\u001b[37mPOST /_dash-update-component HTTP/1.1\u001b[0m\" 200 -\n",
      "127.0.0.1 - - [30/Mar/2022 00:42:35] \"\u001b[37mPOST /_dash-update-component HTTP/1.1\u001b[0m\" 200 -\n",
      "127.0.0.1 - - [30/Mar/2022 00:42:35] \"\u001b[37mPOST /_dash-update-component HTTP/1.1\u001b[0m\" 200 -\n"
     ]
    },
    {
     "name": "stdout",
     "output_type": "stream",
     "text": [
      "2022-03-29\n",
      "[*********************100%***********************]  1 of 1 completed\n",
      "2022-03-29 12:42:00-04:00 2022-03-29 09:30:00-04:00\n",
      "42 42 64.0\n",
      "2022-03-29 12:42:35 - Running  2022-03-29 11:36:00  Analysis on Watchlist.\n",
      "2022-03-29 12:42:35 - Running  2022-03-29 11:36:00  Analysis on Ticker Symbol:  MSFT\n",
      "[*********************100%***********************]  1 of 1 completed\n",
      "Running Analysis - TripleEMA Setup\n",
      "Running Analysis - EMA9 + VWAP Crossover Setup\n",
      "Running Analysis - VWAP Retest Setup\n",
      "2022-03-29 12:42:35 - Running  2022-03-29 11:36:00  Analysis on Ticker Symbol:  AAPL\n",
      "[*********************100%***********************]  1 of 1 completed\n",
      "Running Analysis - TripleEMA Setup\n",
      "Running Analysis - EMA9 + VWAP Crossover Setup\n",
      "Running Analysis - VWAP Retest Setup\n",
      "2022-03-29 12:42:35 - Running  2022-03-29 11:36:00  Analysis on Ticker Symbol:  TSLA\n",
      "[*********************100%***********************]  1 of 1 completed\n"
     ]
    },
    {
     "name": "stderr",
     "output_type": "stream",
     "text": [
      "127.0.0.1 - - [30/Mar/2022 00:42:36] \"\u001b[37mPOST /_dash-update-component HTTP/1.1\u001b[0m\" 200 -\n"
     ]
    },
    {
     "name": "stdout",
     "output_type": "stream",
     "text": [
      "Running Analysis - TripleEMA Setup\n",
      "Running Analysis - EMA9 + VWAP Crossover Setup\n",
      "Running Analysis - VWAP Retest Setup\n"
     ]
    },
    {
     "name": "stderr",
     "output_type": "stream",
     "text": [
      "127.0.0.1 - - [30/Mar/2022 00:42:37] \"\u001b[37mPOST /_dash-update-component HTTP/1.1\u001b[0m\" 200 -\n",
      "127.0.0.1 - - [30/Mar/2022 00:42:37] \"\u001b[37mPOST /_dash-update-component HTTP/1.1\u001b[0m\" 200 -\n",
      "127.0.0.1 - - [30/Mar/2022 00:42:39] \"\u001b[37mPOST /_dash-update-component HTTP/1.1\u001b[0m\" 200 -\n",
      "127.0.0.1 - - [30/Mar/2022 00:42:39] \"\u001b[37mPOST /_dash-update-component HTTP/1.1\u001b[0m\" 200 -\n"
     ]
    },
    {
     "name": "stdout",
     "output_type": "stream",
     "text": [
      "2022-03-29\n",
      "[*********************100%***********************]  1 of 1 completed\n",
      "2022-03-29 12:42:00-04:00 2022-03-29 09:30:00-04:00\n",
      "43 43 64.0\n",
      "2022-03-29 12:42:39 - Running  2022-03-29 11:39:00  Analysis on Watchlist.\n",
      "2022-03-29 12:42:39 - Running  2022-03-29 11:39:00  Analysis on Ticker Symbol:  MSFT\n",
      "[*********************100%***********************]  1 of 1 completed\n",
      "Running Analysis - TripleEMA Setup\n",
      "Running Analysis - EMA9 + VWAP Crossover Setup\n",
      "Running Analysis - VWAP Retest Setup\n",
      "2022-03-29 12:42:39 - Running  2022-03-29 11:39:00  Analysis on Ticker Symbol:  AAPL\n",
      "[*********************100%***********************]  1 of 1 completed\n",
      "Running Analysis - TripleEMA Setup\n",
      "Running Analysis - EMA9 + VWAP Crossover Setup\n",
      "Running Analysis - VWAP Retest Setup\n",
      "2022-03-29 12:42:39 - Running  2022-03-29 11:39:00  Analysis on Ticker Symbol:  TSLA\n",
      "[*********************100%***********************]  1 of 1 completed\n",
      "Running Analysis - TripleEMA Setup\n",
      "Running Analysis - EMA9 + VWAP Crossover Setup\n",
      "Running Analysis - VWAP Retest Setup\n"
     ]
    },
    {
     "name": "stderr",
     "output_type": "stream",
     "text": [
      "127.0.0.1 - - [30/Mar/2022 00:42:40] \"\u001b[37mPOST /_dash-update-component HTTP/1.1\u001b[0m\" 200 -\n",
      "127.0.0.1 - - [30/Mar/2022 00:42:41] \"\u001b[37mPOST /_dash-update-component HTTP/1.1\u001b[0m\" 200 -\n",
      "127.0.0.1 - - [30/Mar/2022 00:42:41] \"\u001b[37mPOST /_dash-update-component HTTP/1.1\u001b[0m\" 200 -\n",
      "127.0.0.1 - - [30/Mar/2022 00:42:43] \"\u001b[37mPOST /_dash-update-component HTTP/1.1\u001b[0m\" 200 -\n",
      "127.0.0.1 - - [30/Mar/2022 00:42:43] \"\u001b[37mPOST /_dash-update-component HTTP/1.1\u001b[0m\" 200 -\n",
      "127.0.0.1 - - [30/Mar/2022 00:42:45] \"\u001b[37mPOST /_dash-update-component HTTP/1.1\u001b[0m\" 200 -\n",
      "127.0.0.1 - - [30/Mar/2022 00:42:45] \"\u001b[37mPOST /_dash-update-component HTTP/1.1\u001b[0m\" 200 -\n"
     ]
    },
    {
     "name": "stdout",
     "output_type": "stream",
     "text": [
      "2022-03-29\n",
      "[*********************100%***********************]  1 of 1 completed\n",
      "2022-03-29 12:42:00-04:00 2022-03-29 09:30:00-04:00\n",
      "44 44 64.0\n",
      "2022-03-29 12:42:45 - Running  2022-03-29 11:42:00  Analysis on Watchlist.\n",
      "2022-03-29 12:42:45 - Running  2022-03-29 11:42:00  Analysis on Ticker Symbol:  MSFT\n",
      "[*********************100%***********************]  1 of 1 completed\n",
      "Running Analysis - TripleEMA Setup\n",
      "Running Analysis - EMA9 + VWAP Crossover Setup\n",
      "Running Analysis - VWAP Retest Setup\n",
      "2022-03-29 12:42:45 - Running  2022-03-29 11:42:00  Analysis on Ticker Symbol:  AAPL\n",
      "[*********************100%***********************]  1 of 1 completed\n",
      "Running Analysis - TripleEMA Setup\n",
      "Running Analysis - EMA9 + VWAP Crossover Setup\n",
      "Running Analysis - VWAP Retest Setup\n",
      "2022-03-29 12:42:45 - Running  2022-03-29 11:42:00  Analysis on Ticker Symbol:  TSLA\n",
      "[*********************100%***********************]  1 of 1 completed\n",
      "Running Analysis - TripleEMA Setup\n",
      "Running Analysis - EMA9 + VWAP Crossover Setup"
     ]
    },
    {
     "name": "stderr",
     "output_type": "stream",
     "text": [
      "127.0.0.1 - - [30/Mar/2022 00:42:46] \"\u001b[37mPOST /_dash-update-component HTTP/1.1\u001b[0m\" 200 -\n"
     ]
    },
    {
     "name": "stdout",
     "output_type": "stream",
     "text": [
      "\n",
      "Running Analysis - VWAP Retest Setup\n"
     ]
    },
    {
     "name": "stderr",
     "output_type": "stream",
     "text": [
      "127.0.0.1 - - [30/Mar/2022 00:42:47] \"\u001b[37mPOST /_dash-update-component HTTP/1.1\u001b[0m\" 200 -\n",
      "127.0.0.1 - - [30/Mar/2022 00:42:47] \"\u001b[37mPOST /_dash-update-component HTTP/1.1\u001b[0m\" 200 -\n",
      "127.0.0.1 - - [30/Mar/2022 00:42:49] \"\u001b[37mPOST /_dash-update-component HTTP/1.1\u001b[0m\" 200 -\n",
      "127.0.0.1 - - [30/Mar/2022 00:42:49] \"\u001b[37mPOST /_dash-update-component HTTP/1.1\u001b[0m\" 200 -\n"
     ]
    },
    {
     "name": "stdout",
     "output_type": "stream",
     "text": [
      "2022-03-29\n",
      "[*********************100%***********************]  1 of 1 completed\n",
      "2022-03-29 12:42:00-04:00 2022-03-29 09:30:00-04:00\n",
      "45 45 64.0\n",
      "2022-03-29 12:42:49 - Running  2022-03-29 11:45:00  Analysis on Watchlist.\n",
      "2022-03-29 12:42:49 - Running  2022-03-29 11:45:00  Analysis on Ticker Symbol:  MSFT\n",
      "[*********************100%***********************]  1 of 1 completed\n",
      "Running Analysis - TripleEMA Setup\n",
      "Running Analysis - EMA9 + VWAP Crossover Setup\n",
      "Running Analysis - VWAP Retest Setup\n",
      "2022-03-29 12:42:49 - Running  2022-03-29 11:45:00  Analysis on Ticker Symbol:  AAPL\n",
      "[*********************100%***********************]  1 of 1 completed\n",
      "Running Analysis - TripleEMA Setup\n",
      "Running Analysis - EMA9 + VWAP Crossover Setup\n",
      "Running Analysis - VWAP Retest Setup\n",
      "2022-03-29 12:42:49 - Running  2022-03-29 11:45:00  Analysis on Ticker Symbol:  TSLA\n",
      "[*********************100%***********************]  1 of 1 completed\n"
     ]
    },
    {
     "name": "stderr",
     "output_type": "stream",
     "text": [
      "127.0.0.1 - - [30/Mar/2022 00:42:50] \"\u001b[37mPOST /_dash-update-component HTTP/1.1\u001b[0m\" 200 -\n"
     ]
    },
    {
     "name": "stdout",
     "output_type": "stream",
     "text": [
      "Running Analysis - TripleEMA Setup\n",
      "Running Analysis - EMA9 + VWAP Crossover Setup\n",
      "Running Analysis - VWAP Retest Setup\n"
     ]
    },
    {
     "name": "stderr",
     "output_type": "stream",
     "text": [
      "127.0.0.1 - - [30/Mar/2022 00:42:51] \"\u001b[37mPOST /_dash-update-component HTTP/1.1\u001b[0m\" 200 -\n",
      "127.0.0.1 - - [30/Mar/2022 00:42:51] \"\u001b[37mPOST /_dash-update-component HTTP/1.1\u001b[0m\" 200 -\n",
      "127.0.0.1 - - [30/Mar/2022 00:42:53] \"\u001b[37mPOST /_dash-update-component HTTP/1.1\u001b[0m\" 200 -\n",
      "127.0.0.1 - - [30/Mar/2022 00:42:53] \"\u001b[37mPOST /_dash-update-component HTTP/1.1\u001b[0m\" 200 -\n",
      "127.0.0.1 - - [30/Mar/2022 00:42:55] \"\u001b[37mPOST /_dash-update-component HTTP/1.1\u001b[0m\" 200 -\n",
      "127.0.0.1 - - [30/Mar/2022 00:42:55] \"\u001b[37mPOST /_dash-update-component HTTP/1.1\u001b[0m\" 200 -\n"
     ]
    },
    {
     "name": "stdout",
     "output_type": "stream",
     "text": [
      "2022-03-29\n",
      "[*********************100%***********************]  1 of 1 completed\n",
      "2022-03-29 12:42:00-04:00 2022-03-29 09:30:00-04:00\n",
      "46 46 64.0\n",
      "2022-03-29 12:42:55 - Running  2022-03-29 11:48:00  Analysis on Watchlist.\n",
      "2022-03-29 12:42:55 - Running  2022-03-29 11:48:00  Analysis on Ticker Symbol:  MSFT\n",
      "[*********************100%***********************]  1 of 1 completed\n",
      "Running Analysis - TripleEMA Setup\n",
      "Running Analysis - EMA9 + VWAP Crossover Setup\n",
      "Running Analysis - VWAP Retest Setup\n",
      "2022-03-29 12:42:55 - Running  2022-03-29 11:48:00  Analysis on Ticker Symbol:  AAPL\n",
      "[*********************100%***********************]  1 of 1 completed\n",
      "Running Analysis - TripleEMA Setup\n",
      "Running Analysis - EMA9 + VWAP Crossover Setup\n",
      "Running Analysis - VWAP Retest Setup\n",
      "2022-03-29 12:42:55 - Running  2022-03-29 11:48:00  Analysis on Ticker Symbol:  TSLA\n",
      "[*********************100%***********************]  1 of 1 completed\n"
     ]
    },
    {
     "name": "stderr",
     "output_type": "stream",
     "text": [
      "127.0.0.1 - - [30/Mar/2022 00:42:56] \"\u001b[37mPOST /_dash-update-component HTTP/1.1\u001b[0m\" 200 -\n"
     ]
    },
    {
     "name": "stdout",
     "output_type": "stream",
     "text": [
      "Running Analysis - TripleEMA Setup\n",
      "Running Analysis - EMA9 + VWAP Crossover Setup\n",
      "Running Analysis - VWAP Retest Setup\n"
     ]
    },
    {
     "name": "stderr",
     "output_type": "stream",
     "text": [
      "127.0.0.1 - - [30/Mar/2022 00:42:57] \"\u001b[37mPOST /_dash-update-component HTTP/1.1\u001b[0m\" 200 -\n",
      "127.0.0.1 - - [30/Mar/2022 00:42:57] \"\u001b[37mPOST /_dash-update-component HTTP/1.1\u001b[0m\" 200 -\n",
      "127.0.0.1 - - [30/Mar/2022 00:42:59] \"\u001b[37mPOST /_dash-update-component HTTP/1.1\u001b[0m\" 200 -\n",
      "127.0.0.1 - - [30/Mar/2022 00:42:59] \"\u001b[37mPOST /_dash-update-component HTTP/1.1\u001b[0m\" 200 -\n"
     ]
    },
    {
     "name": "stdout",
     "output_type": "stream",
     "text": [
      "2022-03-29\n",
      "[*********************100%***********************]  1 of 1 completed\n",
      "2022-03-29 12:42:00-04:00 2022-03-29 09:30:00-04:00\n",
      "47 47 64.0\n",
      "2022-03-29 12:42:59 - Running  2022-03-29 11:51:00  Analysis on Watchlist.\n",
      "2022-03-29 12:42:59 - Running  2022-03-29 11:51:00  Analysis on Ticker Symbol:  MSFT\n",
      "[*********************100%***********************]  1 of 1 completed\n",
      "Running Analysis - TripleEMA Setup\n",
      "Running Analysis - EMA9 + VWAP Crossover Setup\n",
      "Running Analysis - VWAP Retest Setup\n",
      "2022-03-29 12:42:59 - Running  2022-03-29 11:51:00  Analysis on Ticker Symbol:  AAPL\n",
      "[*********************100%***********************]  1 of 1 completed\n",
      "Running Analysis - TripleEMA Setup\n",
      "Running Analysis - EMA9 + VWAP Crossover Setup\n",
      "Running Analysis - VWAP Retest Setup\n",
      "2022-03-29 12:42:59 - Running  2022-03-29 11:51:00  Analysis on Ticker Symbol:  TSLA\n",
      "[*********************100%***********************]  1 of 1 completed"
     ]
    },
    {
     "name": "stderr",
     "output_type": "stream",
     "text": [
      "127.0.0.1 - - [30/Mar/2022 00:43:00] \"\u001b[37mPOST /_dash-update-component HTTP/1.1\u001b[0m\" 200 -\n"
     ]
    },
    {
     "name": "stdout",
     "output_type": "stream",
     "text": [
      "\n",
      "Running Analysis - TripleEMA Setup\n",
      "Running Analysis - EMA9 + VWAP Crossover Setup\n",
      "Running Analysis - VWAP Retest Setup\n"
     ]
    },
    {
     "name": "stderr",
     "output_type": "stream",
     "text": [
      "127.0.0.1 - - [30/Mar/2022 00:43:01] \"\u001b[37mPOST /_dash-update-component HTTP/1.1\u001b[0m\" 200 -\n",
      "127.0.0.1 - - [30/Mar/2022 00:43:01] \"\u001b[37mPOST /_dash-update-component HTTP/1.1\u001b[0m\" 200 -\n",
      "127.0.0.1 - - [30/Mar/2022 00:43:03] \"\u001b[37mPOST /_dash-update-component HTTP/1.1\u001b[0m\" 200 -\n",
      "127.0.0.1 - - [30/Mar/2022 00:43:03] \"\u001b[37mPOST /_dash-update-component HTTP/1.1\u001b[0m\" 200 -\n",
      "127.0.0.1 - - [30/Mar/2022 00:43:05] \"\u001b[37mPOST /_dash-update-component HTTP/1.1\u001b[0m\" 200 -\n",
      "127.0.0.1 - - [30/Mar/2022 00:43:05] \"\u001b[37mPOST /_dash-update-component HTTP/1.1\u001b[0m\" 200 -\n"
     ]
    },
    {
     "name": "stdout",
     "output_type": "stream",
     "text": [
      "2022-03-29\n",
      "[*********************100%***********************]  1 of 1 completed\n",
      "2022-03-29 12:42:00-04:00 2022-03-29 09:30:00-04:00\n",
      "48 48 64.0\n",
      "2022-03-29 12:43:05 - Running  2022-03-29 11:54:00  Analysis on Watchlist.\n",
      "2022-03-29 12:43:05 - Running  2022-03-29 11:54:00  Analysis on Ticker Symbol:  MSFT\n",
      "[*********************100%***********************]  1 of 1 completed\n",
      "Running Analysis - TripleEMA Setup\n",
      "Running Analysis - EMA9 + VWAP Crossover Setup\n",
      "Running Analysis - VWAP Retest Setup\n",
      "2022-03-29 12:43:05 - Running  2022-03-29 11:54:00  Analysis on Ticker Symbol:  AAPL\n",
      "[*********************100%***********************]  1 of 1 completed\n",
      "Running Analysis - TripleEMA Setup\n",
      "Running Analysis - EMA9 + VWAP Crossover Setup\n",
      "Running Analysis - VWAP Retest Setup\n",
      "2022-03-29 12:43:05 - Running  2022-03-29 11:54:00  Analysis on Ticker Symbol:  TSLA\n",
      "[*********************100%***********************]  1 of 1 completed\n",
      "Running Analysis - TripleEMA Setup\n"
     ]
    },
    {
     "name": "stderr",
     "output_type": "stream",
     "text": [
      "127.0.0.1 - - [30/Mar/2022 00:43:06] \"\u001b[37mPOST /_dash-update-component HTTP/1.1\u001b[0m\" 200 -\n"
     ]
    },
    {
     "name": "stdout",
     "output_type": "stream",
     "text": [
      "Running Analysis - EMA9 + VWAP Crossover Setup\n",
      "Running Analysis - VWAP Retest Setup\n"
     ]
    },
    {
     "name": "stderr",
     "output_type": "stream",
     "text": [
      "127.0.0.1 - - [30/Mar/2022 00:43:07] \"\u001b[37mPOST /_dash-update-component HTTP/1.1\u001b[0m\" 200 -\n",
      "127.0.0.1 - - [30/Mar/2022 00:43:07] \"\u001b[37mPOST /_dash-update-component HTTP/1.1\u001b[0m\" 200 -\n",
      "127.0.0.1 - - [30/Mar/2022 00:43:09] \"\u001b[37mPOST /_dash-update-component HTTP/1.1\u001b[0m\" 200 -\n",
      "127.0.0.1 - - [30/Mar/2022 00:43:09] \"\u001b[37mPOST /_dash-update-component HTTP/1.1\u001b[0m\" 200 -\n"
     ]
    },
    {
     "name": "stdout",
     "output_type": "stream",
     "text": [
      "2022-03-29\n",
      "[*********************100%***********************]  1 of 1 completed\n",
      "2022-03-29 12:42:00-04:00 2022-03-29 09:30:00-04:00\n",
      "49 49 64.0\n",
      "2022-03-29 12:43:09 - Running  2022-03-29 11:57:00  Analysis on Watchlist.\n",
      "2022-03-29 12:43:09 - Running  2022-03-29 11:57:00  Analysis on Ticker Symbol:  MSFT\n",
      "[*********************100%***********************]  1 of 1 completed\n",
      "Running Analysis - TripleEMA Setup\n",
      "Running Analysis - EMA9 + VWAP Crossover Setup\n",
      "Running Analysis - VWAP Retest Setup\n",
      "2022-03-29 12:43:09 - Running  2022-03-29 11:57:00  Analysis on Ticker Symbol:  AAPL\n",
      "[*********************100%***********************]  1 of 1 completed\n",
      "Running Analysis - TripleEMA Setup\n",
      "Running Analysis - EMA9 + VWAP Crossover Setup\n",
      "Running Analysis - VWAP Retest Setup\n",
      "2022-03-29 12:43:09 - Running  2022-03-29 11:57:00  Analysis on Ticker Symbol:  TSLA\n",
      "[*********************100%***********************]  1 of 1 completed\n"
     ]
    },
    {
     "name": "stderr",
     "output_type": "stream",
     "text": [
      "127.0.0.1 - - [30/Mar/2022 00:43:10] \"\u001b[37mPOST /_dash-update-component HTTP/1.1\u001b[0m\" 200 -\n"
     ]
    },
    {
     "name": "stdout",
     "output_type": "stream",
     "text": [
      "Running Analysis - TripleEMA Setup\n",
      "Running Analysis - EMA9 + VWAP Crossover Setup\n",
      "Running Analysis - VWAP Retest Setup\n"
     ]
    },
    {
     "name": "stderr",
     "output_type": "stream",
     "text": [
      "127.0.0.1 - - [30/Mar/2022 00:43:11] \"\u001b[37mPOST /_dash-update-component HTTP/1.1\u001b[0m\" 200 -\n",
      "127.0.0.1 - - [30/Mar/2022 00:43:11] \"\u001b[37mPOST /_dash-update-component HTTP/1.1\u001b[0m\" 200 -\n",
      "127.0.0.1 - - [30/Mar/2022 00:43:13] \"\u001b[37mPOST /_dash-update-component HTTP/1.1\u001b[0m\" 200 -\n",
      "127.0.0.1 - - [30/Mar/2022 00:43:13] \"\u001b[37mPOST /_dash-update-component HTTP/1.1\u001b[0m\" 200 -\n",
      "127.0.0.1 - - [30/Mar/2022 00:43:15] \"\u001b[37mPOST /_dash-update-component HTTP/1.1\u001b[0m\" 200 -\n",
      "127.0.0.1 - - [30/Mar/2022 00:43:15] \"\u001b[37mPOST /_dash-update-component HTTP/1.1\u001b[0m\" 200 -\n"
     ]
    },
    {
     "name": "stdout",
     "output_type": "stream",
     "text": [
      "2022-03-29\n",
      "[*********************100%***********************]  1 of 1 completed\n",
      "2022-03-29 12:42:00-04:00 2022-03-29 09:30:00-04:00\n",
      "50 50 64.0\n",
      "2022-03-29 12:43:15 - Running  2022-03-29 12:00:00  Analysis on Watchlist.\n",
      "2022-03-29 12:43:15 - Running  2022-03-29 12:00:00  Analysis on Ticker Symbol:  MSFT\n",
      "[*********************100%***********************]  1 of 1 completed\n",
      "Running Analysis - TripleEMA Setup\n",
      "Running Analysis - EMA9 + VWAP Crossover Setup\n",
      "Running Analysis - VWAP Retest Setup\n",
      "2022-03-29 12:43:15 - Running  2022-03-29 12:00:00  Analysis on Ticker Symbol:  AAPL\n",
      "[*********************100%***********************]  1 of 1 completed\n",
      "Running Analysis - TripleEMA Setup\n",
      "Running Analysis - EMA9 + VWAP Crossover Setup\n",
      "Running Analysis - VWAP Retest Setup\n",
      "2022-03-29 12:43:15 - Running  2022-03-29 12:00:00  Analysis on Ticker Symbol:  TSLA\n",
      "[*********************100%***********************]  1 of 1 completed\n"
     ]
    },
    {
     "name": "stderr",
     "output_type": "stream",
     "text": [
      "127.0.0.1 - - [30/Mar/2022 00:43:16] \"\u001b[37mPOST /_dash-update-component HTTP/1.1\u001b[0m\" 200 -\n"
     ]
    },
    {
     "name": "stdout",
     "output_type": "stream",
     "text": [
      "Running Analysis - TripleEMA Setup\n",
      "Running Analysis - EMA9 + VWAP Crossover Setup\n",
      "Running Analysis - VWAP Retest Setup\n"
     ]
    },
    {
     "name": "stderr",
     "output_type": "stream",
     "text": [
      "127.0.0.1 - - [30/Mar/2022 00:43:17] \"\u001b[37mPOST /_dash-update-component HTTP/1.1\u001b[0m\" 200 -\n",
      "127.0.0.1 - - [30/Mar/2022 00:43:17] \"\u001b[37mPOST /_dash-update-component HTTP/1.1\u001b[0m\" 200 -\n",
      "127.0.0.1 - - [30/Mar/2022 00:43:19] \"\u001b[37mPOST /_dash-update-component HTTP/1.1\u001b[0m\" 200 -\n",
      "127.0.0.1 - - [30/Mar/2022 00:43:19] \"\u001b[37mPOST /_dash-update-component HTTP/1.1\u001b[0m\" 200 -\n"
     ]
    },
    {
     "name": "stdout",
     "output_type": "stream",
     "text": [
      "2022-03-29\n",
      "[*********************100%***********************]  1 of 1 completed\n",
      "2022-03-29 12:42:00-04:00 2022-03-29 09:30:00-04:00\n",
      "51 51 64.0\n",
      "2022-03-29 12:43:19 - Running  2022-03-29 12:03:00  Analysis on Watchlist.\n",
      "2022-03-29 12:43:19 - Running  2022-03-29 12:03:00  Analysis on Ticker Symbol:  MSFT\n",
      "[*********************100%***********************]  1 of 1 completed\n",
      "Running Analysis - TripleEMA Setup\n",
      "Running Analysis - EMA9 + VWAP Crossover Setup\n",
      "Running Analysis - VWAP Retest Setup\n",
      "2022-03-29 12:43:19 - Running  2022-03-29 12:03:00  Analysis on Ticker Symbol:  AAPL\n",
      "[*********************100%***********************]  1 of 1 completed\n",
      "Running Analysis - TripleEMA Setup\n",
      "Running Analysis - EMA9 + VWAP Crossover Setup\n",
      "Running Analysis - VWAP Retest Setup\n",
      "2022-03-29 12:43:19 - Running  2022-03-29 12:03:00  Analysis on Ticker Symbol:  TSLA\n",
      "[*********************100%***********************]  1 of 1 completed\n"
     ]
    },
    {
     "name": "stderr",
     "output_type": "stream",
     "text": [
      "127.0.0.1 - - [30/Mar/2022 00:43:20] \"\u001b[37mPOST /_dash-update-component HTTP/1.1\u001b[0m\" 200 -\n"
     ]
    },
    {
     "name": "stdout",
     "output_type": "stream",
     "text": [
      "Running Analysis - TripleEMA Setup\n",
      "Running Analysis - EMA9 + VWAP Crossover Setup\n",
      "Running Analysis - VWAP Retest Setup\n"
     ]
    },
    {
     "name": "stderr",
     "output_type": "stream",
     "text": [
      "127.0.0.1 - - [30/Mar/2022 00:43:21] \"\u001b[37mPOST /_dash-update-component HTTP/1.1\u001b[0m\" 200 -\n",
      "127.0.0.1 - - [30/Mar/2022 00:43:21] \"\u001b[37mPOST /_dash-update-component HTTP/1.1\u001b[0m\" 200 -\n",
      "127.0.0.1 - - [30/Mar/2022 00:43:23] \"\u001b[37mPOST /_dash-update-component HTTP/1.1\u001b[0m\" 200 -\n",
      "127.0.0.1 - - [30/Mar/2022 00:43:23] \"\u001b[37mPOST /_dash-update-component HTTP/1.1\u001b[0m\" 200 -\n",
      "127.0.0.1 - - [30/Mar/2022 00:43:25] \"\u001b[37mPOST /_dash-update-component HTTP/1.1\u001b[0m\" 200 -\n",
      "127.0.0.1 - - [30/Mar/2022 00:43:25] \"\u001b[37mPOST /_dash-update-component HTTP/1.1\u001b[0m\" 200 -\n"
     ]
    },
    {
     "name": "stdout",
     "output_type": "stream",
     "text": [
      "2022-03-29\n",
      "[*********************100%***********************]  1 of 1 completed\n",
      "2022-03-29 12:42:00-04:00 2022-03-29 09:30:00-04:00\n",
      "52 52 64.0\n",
      "2022-03-29 12:43:25 - Running  2022-03-29 12:06:00  Analysis on Watchlist.\n",
      "2022-03-29 12:43:25 - Running  2022-03-29 12:06:00  Analysis on Ticker Symbol:  MSFT\n",
      "[*********************100%***********************]  1 of 1 completed\n",
      "Running Analysis - TripleEMA Setup\n",
      "Running Analysis - EMA9 + VWAP Crossover Setup\n",
      "Running Analysis - VWAP Retest Setup\n",
      "2022-03-29 12:43:25 - Running  2022-03-29 12:06:00  Analysis on Ticker Symbol:  AAPL\n",
      "[*********************100%***********************]  1 of 1 completed\n",
      "Running Analysis - TripleEMA Setup\n",
      "Running Analysis - EMA9 + VWAP Crossover Setup\n",
      "Running Analysis - VWAP Retest Setup\n",
      "2022-03-29 12:43:25 - Running  2022-03-29 12:06:00  Analysis on Ticker Symbol:  TSLA\n",
      "[*********************100%***********************]  1 of 1 completed\n",
      "Running Analysis - TripleEMA Setup\n",
      "Running Analysis - EMA9 + VWAP Crossover Setup\n",
      "Running Analysis - VWAP Retest Setup\n"
     ]
    },
    {
     "name": "stderr",
     "output_type": "stream",
     "text": [
      "127.0.0.1 - - [30/Mar/2022 00:43:26] \"\u001b[37mPOST /_dash-update-component HTTP/1.1\u001b[0m\" 200 -\n",
      "127.0.0.1 - - [30/Mar/2022 00:43:27] \"\u001b[37mPOST /_dash-update-component HTTP/1.1\u001b[0m\" 200 -\n",
      "127.0.0.1 - - [30/Mar/2022 00:43:27] \"\u001b[37mPOST /_dash-update-component HTTP/1.1\u001b[0m\" 200 -\n",
      "127.0.0.1 - - [30/Mar/2022 00:43:29] \"\u001b[37mPOST /_dash-update-component HTTP/1.1\u001b[0m\" 200 -\n",
      "127.0.0.1 - - [30/Mar/2022 00:43:29] \"\u001b[37mPOST /_dash-update-component HTTP/1.1\u001b[0m\" 200 -\n"
     ]
    },
    {
     "name": "stdout",
     "output_type": "stream",
     "text": [
      "2022-03-29\n",
      "[*********************100%***********************]  1 of 1 completed\n",
      "2022-03-29 12:42:00-04:00 2022-03-29 09:30:00-04:00\n",
      "53 53 64.0\n",
      "2022-03-29 12:43:29 - Running  2022-03-29 12:09:00  Analysis on Watchlist.\n",
      "2022-03-29 12:43:29 - Running  2022-03-29 12:09:00  Analysis on Ticker Symbol:  MSFT\n",
      "[*********************100%***********************]  1 of 1 completed\n",
      "Running Analysis - TripleEMA Setup\n",
      "Running Analysis - EMA9 + VWAP Crossover Setup\n",
      "Running Analysis - VWAP Retest Setup\n",
      "2022-03-29 12:43:29 - Running  2022-03-29 12:09:00  Analysis on Ticker Symbol:  AAPL\n",
      "[*********************100%***********************]  1 of 1 completed\n",
      "Running Analysis - TripleEMA Setup\n",
      "Running Analysis - EMA9 + VWAP Crossover Setup\n",
      "Running Analysis - VWAP Retest Setup\n",
      "2022-03-29 12:43:29 - Running  2022-03-29 12:09:00  Analysis on Ticker Symbol:  TSLA\n",
      "[*********************100%***********************]  1 of 1 completed\n",
      "Running Analysis - TripleEMA Setup\n",
      "Running Analysis - EMA9 + VWAP Crossover Setup\n",
      "Running Analysis - VWAP Retest Setup\n"
     ]
    },
    {
     "name": "stderr",
     "output_type": "stream",
     "text": [
      "127.0.0.1 - - [30/Mar/2022 00:43:30] \"\u001b[37mPOST /_dash-update-component HTTP/1.1\u001b[0m\" 200 -\n",
      "127.0.0.1 - - [30/Mar/2022 00:43:31] \"\u001b[37mPOST /_dash-update-component HTTP/1.1\u001b[0m\" 200 -\n",
      "127.0.0.1 - - [30/Mar/2022 00:43:31] \"\u001b[37mPOST /_dash-update-component HTTP/1.1\u001b[0m\" 200 -\n",
      "127.0.0.1 - - [30/Mar/2022 00:43:33] \"\u001b[37mPOST /_dash-update-component HTTP/1.1\u001b[0m\" 200 -\n",
      "127.0.0.1 - - [30/Mar/2022 00:43:33] \"\u001b[37mPOST /_dash-update-component HTTP/1.1\u001b[0m\" 200 -\n",
      "127.0.0.1 - - [30/Mar/2022 00:43:35] \"\u001b[37mPOST /_dash-update-component HTTP/1.1\u001b[0m\" 200 -\n",
      "127.0.0.1 - - [30/Mar/2022 00:43:35] \"\u001b[37mPOST /_dash-update-component HTTP/1.1\u001b[0m\" 200 -\n"
     ]
    },
    {
     "name": "stdout",
     "output_type": "stream",
     "text": [
      "2022-03-29\n",
      "[*********************100%***********************]  1 of 1 completed\n",
      "2022-03-29 12:42:00-04:00 2022-03-29 09:30:00-04:00\n",
      "54 54 64.0\n",
      "2022-03-29 12:43:35 - Running  2022-03-29 12:12:00  Analysis on Watchlist.\n",
      "2022-03-29 12:43:35 - Running  2022-03-29 12:12:00  Analysis on Ticker Symbol:  MSFT\n",
      "[*********************100%***********************]  1 of 1 completed\n",
      "Running Analysis - TripleEMA Setup\n",
      "Running Analysis - EMA9 + VWAP Crossover Setup\n",
      "Running Analysis - VWAP Retest Setup\n",
      "2022-03-29 12:43:35 - Running  2022-03-29 12:12:00  Analysis on Ticker Symbol:  AAPL\n",
      "[*********************100%***********************]  1 of 1 completed\n",
      "Running Analysis - TripleEMA Setup\n",
      "Running Analysis - EMA9 + VWAP Crossover Setup\n",
      "Running Analysis - VWAP Retest Setup\n",
      "2022-03-29 12:43:35 - Running  2022-03-29 12:12:00  Analysis on Ticker Symbol:  TSLA\n",
      "[*********************100%***********************]  1 of 1 completed\n"
     ]
    },
    {
     "name": "stderr",
     "output_type": "stream",
     "text": [
      "127.0.0.1 - - [30/Mar/2022 00:43:36] \"\u001b[37mPOST /_dash-update-component HTTP/1.1\u001b[0m\" 200 -\n"
     ]
    },
    {
     "name": "stdout",
     "output_type": "stream",
     "text": [
      "Running Analysis - TripleEMA Setup\n",
      "Running Analysis - EMA9 + VWAP Crossover Setup\n",
      "Running Analysis - VWAP Retest Setup\n"
     ]
    },
    {
     "name": "stderr",
     "output_type": "stream",
     "text": [
      "127.0.0.1 - - [30/Mar/2022 00:43:37] \"\u001b[37mPOST /_dash-update-component HTTP/1.1\u001b[0m\" 200 -\n",
      "127.0.0.1 - - [30/Mar/2022 00:43:37] \"\u001b[37mPOST /_dash-update-component HTTP/1.1\u001b[0m\" 200 -\n",
      "127.0.0.1 - - [30/Mar/2022 00:43:39] \"\u001b[37mPOST /_dash-update-component HTTP/1.1\u001b[0m\" 200 -\n",
      "127.0.0.1 - - [30/Mar/2022 00:43:39] \"\u001b[37mPOST /_dash-update-component HTTP/1.1\u001b[0m\" 200 -\n"
     ]
    },
    {
     "name": "stdout",
     "output_type": "stream",
     "text": [
      "2022-03-29\n",
      "[*********************100%***********************]  1 of 1 completed\n",
      "2022-03-29 12:42:00-04:00 2022-03-29 09:30:00-04:00\n",
      "55 55 64.0\n",
      "2022-03-29 12:43:39 - Running  2022-03-29 12:15:00  Analysis on Watchlist.\n",
      "2022-03-29 12:43:39 - Running  2022-03-29 12:15:00  Analysis on Ticker Symbol:  MSFT\n",
      "[*********************100%***********************]  1 of 1 completed\n",
      "Running Analysis - TripleEMA Setup\n",
      "Running Analysis - EMA9 + VWAP Crossover Setup\n",
      "Running Analysis - VWAP Retest Setup\n",
      "2022-03-29 12:43:39 - Running  2022-03-29 12:15:00  Analysis on Ticker Symbol:  AAPL\n",
      "[*********************100%***********************]  1 of 1 completed\n",
      "Running Analysis - TripleEMA Setup\n",
      "Running Analysis - EMA9 + VWAP Crossover Setup\n",
      "Running Analysis - VWAP Retest Setup\n",
      "2022-03-29 12:43:39 - Running  2022-03-29 12:15:00  Analysis on Ticker Symbol:  TSLA\n",
      "[*********************100%***********************]  1 of 1 completed\n",
      "Running Analysis - TripleEMA Setup\n"
     ]
    },
    {
     "name": "stderr",
     "output_type": "stream",
     "text": [
      "127.0.0.1 - - [30/Mar/2022 00:43:40] \"\u001b[37mPOST /_dash-update-component HTTP/1.1\u001b[0m\" 200 -\n"
     ]
    },
    {
     "name": "stdout",
     "output_type": "stream",
     "text": [
      "Running Analysis - EMA9 + VWAP Crossover Setup\n",
      "Running Analysis - VWAP Retest Setup\n"
     ]
    },
    {
     "name": "stderr",
     "output_type": "stream",
     "text": [
      "127.0.0.1 - - [30/Mar/2022 00:43:41] \"\u001b[37mPOST /_dash-update-component HTTP/1.1\u001b[0m\" 200 -\n",
      "127.0.0.1 - - [30/Mar/2022 00:43:41] \"\u001b[37mPOST /_dash-update-component HTTP/1.1\u001b[0m\" 200 -\n",
      "127.0.0.1 - - [30/Mar/2022 00:43:43] \"\u001b[37mPOST /_dash-update-component HTTP/1.1\u001b[0m\" 200 -\n",
      "127.0.0.1 - - [30/Mar/2022 00:43:43] \"\u001b[37mPOST /_dash-update-component HTTP/1.1\u001b[0m\" 200 -\n",
      "127.0.0.1 - - [30/Mar/2022 00:43:45] \"\u001b[37mPOST /_dash-update-component HTTP/1.1\u001b[0m\" 200 -\n"
     ]
    },
    {
     "name": "stdout",
     "output_type": "stream",
     "text": [
      "2022-03-29\n",
      "[*********************100%***********************]  1 of 1 completed"
     ]
    },
    {
     "name": "stderr",
     "output_type": "stream",
     "text": [
      "127.0.0.1 - - [30/Mar/2022 00:43:45] \"\u001b[37mPOST /_dash-update-component HTTP/1.1\u001b[0m\" 200 -\n"
     ]
    },
    {
     "name": "stdout",
     "output_type": "stream",
     "text": [
      "\n",
      "2022-03-29 12:42:00-04:00 2022-03-29 09:30:00-04:00\n",
      "56 56 64.0\n",
      "2022-03-29 12:43:45 - Running  2022-03-29 12:18:00  Analysis on Watchlist.\n",
      "2022-03-29 12:43:45 - Running  2022-03-29 12:18:00  Analysis on Ticker Symbol:  MSFT\n",
      "[*********************100%***********************]  1 of 1 completed\n",
      "Running Analysis - TripleEMA Setup\n",
      "Running Analysis - EMA9 + VWAP Crossover Setup\n",
      "Running Analysis - VWAP Retest Setup\n",
      "2022-03-29 12:43:45 - Running  2022-03-29 12:18:00  Analysis on Ticker Symbol:  AAPL\n",
      "[*********************100%***********************]  1 of 1 completed\n",
      "Running Analysis - TripleEMA Setup\n",
      "Running Analysis - EMA9 + VWAP Crossover Setup\n",
      "Running Analysis - VWAP Retest Setup\n",
      "2022-03-29 12:43:45 - Running  2022-03-29 12:18:00  Analysis on Ticker Symbol:  TSLA\n",
      "[*********************100%***********************]  1 of 1 completed\n",
      "Running Analysis - TripleEMA Setup\n",
      "Running Analysis - EMA9 + VWAP Crossover Setup\n",
      "Running Analysis - VWAP Retest Setup\n"
     ]
    },
    {
     "name": "stderr",
     "output_type": "stream",
     "text": [
      "127.0.0.1 - - [30/Mar/2022 00:43:46] \"\u001b[37mPOST /_dash-update-component HTTP/1.1\u001b[0m\" 200 -\n",
      "127.0.0.1 - - [30/Mar/2022 00:43:47] \"\u001b[37mPOST /_dash-update-component HTTP/1.1\u001b[0m\" 200 -\n",
      "127.0.0.1 - - [30/Mar/2022 00:43:47] \"\u001b[37mPOST /_dash-update-component HTTP/1.1\u001b[0m\" 200 -\n",
      "127.0.0.1 - - [30/Mar/2022 00:43:49] \"\u001b[37mPOST /_dash-update-component HTTP/1.1\u001b[0m\" 200 -\n",
      "127.0.0.1 - - [30/Mar/2022 00:43:49] \"\u001b[37mPOST /_dash-update-component HTTP/1.1\u001b[0m\" 200 -\n"
     ]
    },
    {
     "name": "stdout",
     "output_type": "stream",
     "text": [
      "2022-03-29\n",
      "[*********************100%***********************]  1 of 1 completed\n",
      "2022-03-29 12:42:00-04:00 2022-03-29 09:30:00-04:00\n",
      "57 57 64.0\n",
      "2022-03-29 12:43:49 - Running  2022-03-29 12:21:00  Analysis on Watchlist.\n",
      "2022-03-29 12:43:49 - Running  2022-03-29 12:21:00  Analysis on Ticker Symbol:  MSFT\n",
      "[*********************100%***********************]  1 of 1 completed\n",
      "Running Analysis - TripleEMA Setup\n",
      "Running Analysis - EMA9 + VWAP Crossover Setup\n",
      "Running Analysis - VWAP Retest Setup\n",
      "2022-03-29 12:43:49 - Running  2022-03-29 12:21:00  Analysis on Ticker Symbol:  AAPL\n",
      "[*********************100%***********************]  1 of 1 completed\n",
      "Running Analysis - TripleEMA Setup\n",
      "Running Analysis - EMA9 + VWAP Crossover Setup\n",
      "Running Analysis - VWAP Retest Setup\n",
      "2022-03-29 12:43:49 - Running  2022-03-29 12:21:00  Analysis on Ticker Symbol:  TSLA\n",
      "[*********************100%***********************]  1 of 1 completed\n",
      "Running Analysis - TripleEMA Setup\n",
      "Running Analysis - EMA9 + VWAP Crossover Setup"
     ]
    },
    {
     "name": "stderr",
     "output_type": "stream",
     "text": [
      "127.0.0.1 - - [30/Mar/2022 00:43:50] \"\u001b[37mPOST /_dash-update-component HTTP/1.1\u001b[0m\" 200 -\n"
     ]
    },
    {
     "name": "stdout",
     "output_type": "stream",
     "text": [
      "\n",
      "Running Analysis - VWAP Retest Setup\n"
     ]
    },
    {
     "name": "stderr",
     "output_type": "stream",
     "text": [
      "127.0.0.1 - - [30/Mar/2022 00:43:51] \"\u001b[37mPOST /_dash-update-component HTTP/1.1\u001b[0m\" 200 -\n",
      "127.0.0.1 - - [30/Mar/2022 00:43:51] \"\u001b[37mPOST /_dash-update-component HTTP/1.1\u001b[0m\" 200 -\n",
      "127.0.0.1 - - [30/Mar/2022 00:43:53] \"\u001b[37mPOST /_dash-update-component HTTP/1.1\u001b[0m\" 200 -\n",
      "127.0.0.1 - - [30/Mar/2022 00:43:53] \"\u001b[37mPOST /_dash-update-component HTTP/1.1\u001b[0m\" 200 -\n",
      "127.0.0.1 - - [30/Mar/2022 00:43:55] \"\u001b[37mPOST /_dash-update-component HTTP/1.1\u001b[0m\" 200 -\n",
      "127.0.0.1 - - [30/Mar/2022 00:43:55] \"\u001b[37mPOST /_dash-update-component HTTP/1.1\u001b[0m\" 200 -\n"
     ]
    },
    {
     "name": "stdout",
     "output_type": "stream",
     "text": [
      "2022-03-29\n",
      "[*********************100%***********************]  1 of 1 completed\n",
      "2022-03-29 12:42:00-04:00 2022-03-29 09:30:00-04:00\n",
      "58 58 64.0\n",
      "2022-03-29 12:43:55 - Running  2022-03-29 12:24:00  Analysis on Watchlist.\n",
      "2022-03-29 12:43:55 - Running  2022-03-29 12:24:00  Analysis on Ticker Symbol:  MSFT\n",
      "[*********************100%***********************]  1 of 1 completed\n",
      "Running Analysis - TripleEMA Setup\n",
      "Running Analysis - EMA9 + VWAP Crossover Setup\n",
      "Running Analysis - VWAP Retest Setup\n",
      "2022-03-29 12:43:55 - Running  2022-03-29 12:24:00  Analysis on Ticker Symbol:  AAPL\n",
      "[*********************100%***********************]  1 of 1 completed\n",
      "Running Analysis - TripleEMA Setup\n",
      "Running Analysis - EMA9 + VWAP Crossover Setup\n",
      "Running Analysis - VWAP Retest Setup\n",
      "2022-03-29 12:43:55 - Running  2022-03-29 12:24:00  Analysis on Ticker Symbol:  TSLA\n",
      "[*********************100%***********************]  1 of 1 completed\n"
     ]
    },
    {
     "name": "stderr",
     "output_type": "stream",
     "text": [
      "127.0.0.1 - - [30/Mar/2022 00:43:56] \"\u001b[37mPOST /_dash-update-component HTTP/1.1\u001b[0m\" 200 -\n"
     ]
    },
    {
     "name": "stdout",
     "output_type": "stream",
     "text": [
      "Running Analysis - TripleEMA Setup\n",
      "Running Analysis - EMA9 + VWAP Crossover Setup\n",
      "Running Analysis - VWAP Retest Setup\n"
     ]
    },
    {
     "name": "stderr",
     "output_type": "stream",
     "text": [
      "127.0.0.1 - - [30/Mar/2022 00:43:57] \"\u001b[37mPOST /_dash-update-component HTTP/1.1\u001b[0m\" 200 -\n",
      "127.0.0.1 - - [30/Mar/2022 00:43:57] \"\u001b[37mPOST /_dash-update-component HTTP/1.1\u001b[0m\" 200 -\n",
      "127.0.0.1 - - [30/Mar/2022 00:43:59] \"\u001b[37mPOST /_dash-update-component HTTP/1.1\u001b[0m\" 200 -\n",
      "127.0.0.1 - - [30/Mar/2022 00:43:59] \"\u001b[37mPOST /_dash-update-component HTTP/1.1\u001b[0m\" 200 -\n"
     ]
    },
    {
     "name": "stdout",
     "output_type": "stream",
     "text": [
      "2022-03-29\n",
      "[*********************100%***********************]  1 of 1 completed\n",
      "2022-03-29 12:42:00-04:00 2022-03-29 09:30:00-04:00\n",
      "59 59 64.0\n",
      "2022-03-29 12:43:59 - Running  2022-03-29 12:27:00  Analysis on Watchlist.\n",
      "2022-03-29 12:43:59 - Running  2022-03-29 12:27:00  Analysis on Ticker Symbol:  MSFT\n",
      "[*********************100%***********************]  1 of 1 completed\n",
      "Running Analysis - TripleEMA Setup\n",
      "Running Analysis - EMA9 + VWAP Crossover Setup\n",
      "Running Analysis - VWAP Retest Setup\n",
      "2022-03-29 12:43:59 - Running  2022-03-29 12:27:00  Analysis on Ticker Symbol:  AAPL\n",
      "[*********************100%***********************]  1 of 1 completed\n",
      "Running Analysis - TripleEMA Setup\n",
      "Running Analysis - EMA9 + VWAP Crossover Setup\n",
      "Running Analysis - VWAP Retest Setup\n",
      "2022-03-29 12:43:59 - Running  2022-03-29 12:27:00  Analysis on Ticker Symbol:  TSLA\n",
      "[*********************100%***********************]  1 of 1 completed\n"
     ]
    },
    {
     "name": "stderr",
     "output_type": "stream",
     "text": [
      "127.0.0.1 - - [30/Mar/2022 00:44:00] \"\u001b[37mPOST /_dash-update-component HTTP/1.1\u001b[0m\" 200 -\n"
     ]
    },
    {
     "name": "stdout",
     "output_type": "stream",
     "text": [
      "Running Analysis - TripleEMA Setup\n",
      "Running Analysis - EMA9 + VWAP Crossover Setup\n",
      "Running Analysis - VWAP Retest Setup\n"
     ]
    },
    {
     "name": "stderr",
     "output_type": "stream",
     "text": [
      "127.0.0.1 - - [30/Mar/2022 00:44:01] \"\u001b[37mPOST /_dash-update-component HTTP/1.1\u001b[0m\" 200 -\n",
      "127.0.0.1 - - [30/Mar/2022 00:44:01] \"\u001b[37mPOST /_dash-update-component HTTP/1.1\u001b[0m\" 200 -\n",
      "127.0.0.1 - - [30/Mar/2022 00:44:03] \"\u001b[37mPOST /_dash-update-component HTTP/1.1\u001b[0m\" 200 -\n",
      "127.0.0.1 - - [30/Mar/2022 00:44:03] \"\u001b[37mPOST /_dash-update-component HTTP/1.1\u001b[0m\" 200 -\n",
      "127.0.0.1 - - [30/Mar/2022 00:44:05] \"\u001b[37mPOST /_dash-update-component HTTP/1.1\u001b[0m\" 200 -\n",
      "127.0.0.1 - - [30/Mar/2022 00:44:06] \"\u001b[37mPOST /_dash-update-component HTTP/1.1\u001b[0m\" 200 -\n"
     ]
    },
    {
     "name": "stdout",
     "output_type": "stream",
     "text": [
      "2022-03-29\n",
      "[*********************100%***********************]  1 of 1 completed\n",
      "2022-03-29 12:42:00-04:00 2022-03-29 09:30:00-04:00\n",
      "60 60 64.0\n",
      "2022-03-29 12:44:05 - Running  2022-03-29 12:30:00  Analysis on Watchlist.\n",
      "2022-03-29 12:44:05 - Running  2022-03-29 12:30:00  Analysis on Ticker Symbol:  MSFT\n",
      "[*********************100%***********************]  1 of 1 completed\n",
      "Running Analysis - TripleEMA Setup\n",
      "Running Analysis - EMA9 + VWAP Crossover Setup\n",
      "Running Analysis - VWAP Retest Setup\n",
      "2022-03-29 12:44:05 - Running  2022-03-29 12:30:00  Analysis on Ticker Symbol:  AAPL\n",
      "[*********************100%***********************]  1 of 1 completed\n",
      "Running Analysis - TripleEMA Setup\n",
      "Running Analysis - EMA9 + VWAP Crossover Setup\n",
      "Running Analysis - VWAP Retest Setup\n",
      "2022-03-29 12:44:05 - Running  2022-03-29 12:30:00  Analysis on Ticker Symbol:  TSLA\n",
      "[*********************100%***********************]  1 of 1 completed\n"
     ]
    },
    {
     "name": "stderr",
     "output_type": "stream",
     "text": [
      "127.0.0.1 - - [30/Mar/2022 00:44:06] \"\u001b[37mPOST /_dash-update-component HTTP/1.1\u001b[0m\" 200 -\n"
     ]
    },
    {
     "name": "stdout",
     "output_type": "stream",
     "text": [
      "Running Analysis - TripleEMA Setup\n",
      "Running Analysis - EMA9 + VWAP Crossover Setup\n",
      "Running Analysis - VWAP Retest Setup\n"
     ]
    },
    {
     "name": "stderr",
     "output_type": "stream",
     "text": [
      "127.0.0.1 - - [30/Mar/2022 00:44:07] \"\u001b[37mPOST /_dash-update-component HTTP/1.1\u001b[0m\" 200 -\n",
      "127.0.0.1 - - [30/Mar/2022 00:44:07] \"\u001b[37mPOST /_dash-update-component HTTP/1.1\u001b[0m\" 200 -\n",
      "127.0.0.1 - - [30/Mar/2022 00:44:09] \"\u001b[37mPOST /_dash-update-component HTTP/1.1\u001b[0m\" 200 -\n",
      "127.0.0.1 - - [30/Mar/2022 00:44:09] \"\u001b[37mPOST /_dash-update-component HTTP/1.1\u001b[0m\" 200 -\n"
     ]
    },
    {
     "name": "stdout",
     "output_type": "stream",
     "text": [
      "2022-03-29\n",
      "[*********************100%***********************]  1 of 1 completed\n",
      "2022-03-29 12:42:00-04:00 2022-03-29 09:30:00-04:00\n",
      "61 61 64.0\n",
      "2022-03-29 12:44:09 - Running  2022-03-29 12:33:00  Analysis on Watchlist.\n",
      "2022-03-29 12:44:09 - Running  2022-03-29 12:33:00  Analysis on Ticker Symbol:  MSFT\n",
      "[*********************100%***********************]  1 of 1 completed\n",
      "Running Analysis - TripleEMA Setup\n",
      "Running Analysis - EMA9 + VWAP Crossover Setup\n",
      "Running Analysis - VWAP Retest Setup\n",
      "2022-03-29 12:44:09 - Running  2022-03-29 12:33:00  Analysis on Ticker Symbol:  AAPL\n",
      "[*********************100%***********************]  1 of 1 completed\n",
      "Running Analysis - TripleEMA Setup\n",
      "Running Analysis - EMA9 + VWAP Crossover Setup\n",
      "Running Analysis - VWAP Retest Setup\n",
      "2022-03-29 12:44:09 - Running  2022-03-29 12:33:00  Analysis on Ticker Symbol:  TSLA\n",
      "[*********************100%***********************]  1 of 1 completed\n"
     ]
    },
    {
     "name": "stderr",
     "output_type": "stream",
     "text": [
      "127.0.0.1 - - [30/Mar/2022 00:44:10] \"\u001b[37mPOST /_dash-update-component HTTP/1.1\u001b[0m\" 200 -\n"
     ]
    },
    {
     "name": "stdout",
     "output_type": "stream",
     "text": [
      "Running Analysis - TripleEMA Setup\n",
      "Running Analysis - EMA9 + VWAP Crossover Setup\n",
      "Running Analysis - VWAP Retest Setup\n"
     ]
    },
    {
     "name": "stderr",
     "output_type": "stream",
     "text": [
      "127.0.0.1 - - [30/Mar/2022 00:44:11] \"\u001b[37mPOST /_dash-update-component HTTP/1.1\u001b[0m\" 200 -\n",
      "127.0.0.1 - - [30/Mar/2022 00:44:11] \"\u001b[37mPOST /_dash-update-component HTTP/1.1\u001b[0m\" 200 -\n",
      "127.0.0.1 - - [30/Mar/2022 00:44:13] \"\u001b[37mPOST /_dash-update-component HTTP/1.1\u001b[0m\" 200 -\n",
      "127.0.0.1 - - [30/Mar/2022 00:44:13] \"\u001b[37mPOST /_dash-update-component HTTP/1.1\u001b[0m\" 200 -\n",
      "127.0.0.1 - - [30/Mar/2022 00:44:15] \"\u001b[37mPOST /_dash-update-component HTTP/1.1\u001b[0m\" 200 -\n",
      "127.0.0.1 - - [30/Mar/2022 00:44:16] \"\u001b[37mPOST /_dash-update-component HTTP/1.1\u001b[0m\" 200 -\n"
     ]
    },
    {
     "name": "stdout",
     "output_type": "stream",
     "text": [
      "2022-03-29\n",
      "[*********************100%***********************]  1 of 1 completed\n",
      "2022-03-29 12:42:00-04:00 2022-03-29 09:30:00-04:00\n",
      "62 62 64.0\n",
      "2022-03-29 12:44:15 - Running  2022-03-29 12:36:00  Analysis on Watchlist.\n",
      "2022-03-29 12:44:15 - Running  2022-03-29 12:36:00  Analysis on Ticker Symbol:  MSFT\n",
      "[*********************100%***********************]  1 of 1 completed\n",
      "Running Analysis - TripleEMA Setup\n",
      "Running Analysis - EMA9 + VWAP Crossover Setup\n",
      "Running Analysis - VWAP Retest Setup\n",
      "2022-03-29 12:44:15 - Running  2022-03-29 12:36:00  Analysis on Ticker Symbol:  AAPL\n",
      "[*********************100%***********************]  1 of 1 completed\n",
      "Running Analysis - TripleEMA Setup\n",
      "Running Analysis - EMA9 + VWAP Crossover Setup\n",
      "Running Analysis - VWAP Retest Setup\n",
      "2022-03-29 12:44:15 - Running  2022-03-29 12:36:00  Analysis on Ticker Symbol:  TSLA\n",
      "[*********************100%***********************]  1 of 1 completed\n"
     ]
    },
    {
     "name": "stderr",
     "output_type": "stream",
     "text": [
      "127.0.0.1 - - [30/Mar/2022 00:44:16] \"\u001b[37mPOST /_dash-update-component HTTP/1.1\u001b[0m\" 200 -\n"
     ]
    },
    {
     "name": "stdout",
     "output_type": "stream",
     "text": [
      "Running Analysis - TripleEMA Setup\n",
      "Running Analysis - EMA9 + VWAP Crossover Setup\n",
      "Running Analysis - VWAP Retest Setup\n"
     ]
    },
    {
     "name": "stderr",
     "output_type": "stream",
     "text": [
      "127.0.0.1 - - [30/Mar/2022 00:44:17] \"\u001b[37mPOST /_dash-update-component HTTP/1.1\u001b[0m\" 200 -\n",
      "127.0.0.1 - - [30/Mar/2022 00:44:17] \"\u001b[37mPOST /_dash-update-component HTTP/1.1\u001b[0m\" 200 -\n",
      "127.0.0.1 - - [30/Mar/2022 00:44:19] \"\u001b[37mPOST /_dash-update-component HTTP/1.1\u001b[0m\" 200 -\n",
      "127.0.0.1 - - [30/Mar/2022 00:44:19] \"\u001b[37mPOST /_dash-update-component HTTP/1.1\u001b[0m\" 200 -\n"
     ]
    },
    {
     "name": "stdout",
     "output_type": "stream",
     "text": [
      "2022-03-29\n",
      "[*********************100%***********************]  1 of 1 completed\n",
      "2022-03-29 12:42:00-04:00 2022-03-29 09:30:00-04:00\n",
      "63 63 64.0\n",
      "2022-03-29 12:44:19 - Running  2022-03-29 12:39:00  Analysis on Watchlist.\n",
      "2022-03-29 12:44:19 - Running  2022-03-29 12:39:00  Analysis on Ticker Symbol:  MSFT\n",
      "[*********************100%***********************]  1 of 1 completed\n",
      "Running Analysis - TripleEMA Setup\n",
      "Running Analysis - EMA9 + VWAP Crossover Setup\n",
      "Running Analysis - VWAP Retest Setup\n",
      "2022-03-29 12:44:19 - Running  2022-03-29 12:39:00  Analysis on Ticker Symbol:  AAPL\n",
      "[*********************100%***********************]  1 of 1 completed\n",
      "Running Analysis - TripleEMA Setup\n",
      "Running Analysis - EMA9 + VWAP Crossover Setup\n",
      "Running Analysis - VWAP Retest Setup\n",
      "2022-03-29 12:44:19 - Running  2022-03-29 12:39:00  Analysis on Ticker Symbol:  TSLA\n",
      "[*********************100%***********************]  1 of 1 completed\n",
      "Running Analysis - TripleEMA Setup\n"
     ]
    },
    {
     "name": "stderr",
     "output_type": "stream",
     "text": [
      "127.0.0.1 - - [30/Mar/2022 00:44:20] \"\u001b[37mPOST /_dash-update-component HTTP/1.1\u001b[0m\" 200 -\n"
     ]
    },
    {
     "name": "stdout",
     "output_type": "stream",
     "text": [
      "Running Analysis - EMA9 + VWAP Crossover Setup\n",
      "Running Analysis - VWAP Retest Setup\n"
     ]
    },
    {
     "name": "stderr",
     "output_type": "stream",
     "text": [
      "127.0.0.1 - - [30/Mar/2022 00:44:21] \"\u001b[37mPOST /_dash-update-component HTTP/1.1\u001b[0m\" 200 -\n",
      "127.0.0.1 - - [30/Mar/2022 00:44:21] \"\u001b[37mPOST /_dash-update-component HTTP/1.1\u001b[0m\" 200 -\n",
      "127.0.0.1 - - [30/Mar/2022 00:44:23] \"\u001b[37mPOST /_dash-update-component HTTP/1.1\u001b[0m\" 200 -\n",
      "127.0.0.1 - - [30/Mar/2022 00:44:23] \"\u001b[37mPOST /_dash-update-component HTTP/1.1\u001b[0m\" 200 -\n",
      "127.0.0.1 - - [30/Mar/2022 00:44:25] \"\u001b[37mPOST /_dash-update-component HTTP/1.1\u001b[0m\" 200 -\n"
     ]
    },
    {
     "name": "stdout",
     "output_type": "stream",
     "text": [
      "2022-03-29\n",
      "[*********************100%***********************]  1 of 1 completed"
     ]
    },
    {
     "name": "stderr",
     "output_type": "stream",
     "text": [
      "127.0.0.1 - - [30/Mar/2022 00:44:26] \"\u001b[37mPOST /_dash-update-component HTTP/1.1\u001b[0m\" 200 -\n"
     ]
    },
    {
     "name": "stdout",
     "output_type": "stream",
     "text": [
      "\n",
      "2022-03-29 12:42:00-04:00 2022-03-29 09:30:00-04:00\n",
      "64 64 64.0\n",
      "2022-03-29 12:44:25 - Running  2022-03-29 12:42:00  Analysis on Watchlist.\n",
      "2022-03-29 12:44:25 - Running  2022-03-29 12:42:00  Analysis on Ticker Symbol:  MSFT\n",
      "[*********************100%***********************]  1 of 1 completed\n",
      "Running Analysis - TripleEMA Setup\n",
      "Running Analysis - EMA9 + VWAP Crossover Setup\n",
      "Running Analysis - VWAP Retest Setup\n",
      "2022-03-29 12:44:25 - Running  2022-03-29 12:42:00  Analysis on Ticker Symbol:  AAPL\n",
      "[*********************100%***********************]  1 of 1 completed\n",
      "Running Analysis - TripleEMA Setup\n",
      "Running Analysis - EMA9 + VWAP Crossover Setup\n",
      "Running Analysis - VWAP Retest Setup\n",
      "2022-03-29 12:44:25 - Running  2022-03-29 12:42:00  Analysis on Ticker Symbol:  TSLA\n",
      "[*********************100%***********************]  1 of 1 completed\n",
      "Running Analysis - TripleEMA Setup\n",
      "Running Analysis - EMA9 + VWAP Crossover Setup\n",
      "Running Analysis - VWAP Retest Setup\n"
     ]
    },
    {
     "name": "stderr",
     "output_type": "stream",
     "text": [
      "127.0.0.1 - - [30/Mar/2022 00:44:26] \"\u001b[37mPOST /_dash-update-component HTTP/1.1\u001b[0m\" 200 -\n",
      "127.0.0.1 - - [30/Mar/2022 00:44:27] \"\u001b[37mPOST /_dash-update-component HTTP/1.1\u001b[0m\" 200 -\n",
      "127.0.0.1 - - [30/Mar/2022 00:44:27] \"\u001b[37mPOST /_dash-update-component HTTP/1.1\u001b[0m\" 200 -\n",
      "127.0.0.1 - - [30/Mar/2022 00:44:29] \"\u001b[37mPOST /_dash-update-component HTTP/1.1\u001b[0m\" 200 -\n",
      "127.0.0.1 - - [30/Mar/2022 00:44:29] \"\u001b[37mPOST /_dash-update-component HTTP/1.1\u001b[0m\" 200 -\n"
     ]
    },
    {
     "name": "stdout",
     "output_type": "stream",
     "text": [
      "2022-03-29\n",
      "[*********************100%***********************]  1 of 1 completed"
     ]
    },
    {
     "name": "stderr",
     "output_type": "stream",
     "text": [
      "127.0.0.1 - - [30/Mar/2022 00:44:30] \"\u001b[37mPOST /_dash-update-component HTTP/1.1\u001b[0m\" 200 -\n"
     ]
    },
    {
     "name": "stdout",
     "output_type": "stream",
     "text": [
      "\n",
      "2022-03-29 12:42:00-04:00 2022-03-29 09:30:00-04:00\n",
      "2022-03-29 12:44:29 - Waiting for the next  3  minutes interval...\n"
     ]
    },
    {
     "name": "stderr",
     "output_type": "stream",
     "text": [
      "127.0.0.1 - - [30/Mar/2022 00:44:31] \"\u001b[37mPOST /_dash-update-component HTTP/1.1\u001b[0m\" 200 -\n",
      "127.0.0.1 - - [30/Mar/2022 00:44:31] \"\u001b[37mPOST /_dash-update-component HTTP/1.1\u001b[0m\" 200 -\n",
      "127.0.0.1 - - [30/Mar/2022 00:44:33] \"\u001b[37mPOST /_dash-update-component HTTP/1.1\u001b[0m\" 200 -\n",
      "127.0.0.1 - - [30/Mar/2022 00:44:33] \"\u001b[37mPOST /_dash-update-component HTTP/1.1\u001b[0m\" 200 -\n",
      "127.0.0.1 - - [30/Mar/2022 00:44:35] \"\u001b[37mPOST /_dash-update-component HTTP/1.1\u001b[0m\" 200 -\n",
      "127.0.0.1 - - [30/Mar/2022 00:44:36] \"\u001b[37mPOST /_dash-update-component HTTP/1.1\u001b[0m\" 200 -\n"
     ]
    },
    {
     "name": "stdout",
     "output_type": "stream",
     "text": [
      "2022-03-29\n",
      "[*********************100%***********************]  1 of 1 completed"
     ]
    },
    {
     "name": "stderr",
     "output_type": "stream",
     "text": [
      "127.0.0.1 - - [30/Mar/2022 00:44:36] \"\u001b[37mPOST /_dash-update-component HTTP/1.1\u001b[0m\" 200 -\n"
     ]
    },
    {
     "name": "stdout",
     "output_type": "stream",
     "text": [
      "\n",
      "2022-03-29 12:42:00-04:00 2022-03-29 09:30:00-04:00\n",
      "2022-03-29 12:44:35 - Waiting for the next  3  minutes interval...\n"
     ]
    },
    {
     "name": "stderr",
     "output_type": "stream",
     "text": [
      "127.0.0.1 - - [30/Mar/2022 00:44:37] \"\u001b[37mPOST /_dash-update-component HTTP/1.1\u001b[0m\" 200 -\n",
      "127.0.0.1 - - [30/Mar/2022 00:44:37] \"\u001b[37mPOST /_dash-update-component HTTP/1.1\u001b[0m\" 200 -\n",
      "127.0.0.1 - - [30/Mar/2022 00:44:39] \"\u001b[37mPOST /_dash-update-component HTTP/1.1\u001b[0m\" 200 -\n",
      "127.0.0.1 - - [30/Mar/2022 00:44:39] \"\u001b[37mPOST /_dash-update-component HTTP/1.1\u001b[0m\" 200 -\n"
     ]
    },
    {
     "name": "stdout",
     "output_type": "stream",
     "text": [
      "2022-03-29\n",
      "[*********************100%***********************]  1 of 1 completed"
     ]
    },
    {
     "name": "stderr",
     "output_type": "stream",
     "text": [
      "127.0.0.1 - - [30/Mar/2022 00:44:40] \"\u001b[37mPOST /_dash-update-component HTTP/1.1\u001b[0m\" 200 -\n"
     ]
    },
    {
     "name": "stdout",
     "output_type": "stream",
     "text": [
      "\n",
      "2022-03-29 12:42:00-04:00 2022-03-29 09:30:00-04:00\n",
      "2022-03-29 12:44:39 - Waiting for the next  3  minutes interval...\n"
     ]
    },
    {
     "name": "stderr",
     "output_type": "stream",
     "text": [
      "127.0.0.1 - - [30/Mar/2022 00:44:41] \"\u001b[37mPOST /_dash-update-component HTTP/1.1\u001b[0m\" 200 -\n",
      "127.0.0.1 - - [30/Mar/2022 00:44:41] \"\u001b[37mPOST /_dash-update-component HTTP/1.1\u001b[0m\" 200 -\n",
      "127.0.0.1 - - [30/Mar/2022 00:44:43] \"\u001b[37mPOST /_dash-update-component HTTP/1.1\u001b[0m\" 200 -\n",
      "127.0.0.1 - - [30/Mar/2022 00:44:43] \"\u001b[37mPOST /_dash-update-component HTTP/1.1\u001b[0m\" 200 -\n",
      "127.0.0.1 - - [30/Mar/2022 00:44:45] \"\u001b[37mPOST /_dash-update-component HTTP/1.1\u001b[0m\" 200 -\n",
      "127.0.0.1 - - [30/Mar/2022 00:44:46] \"\u001b[37mPOST /_dash-update-component HTTP/1.1\u001b[0m\" 200 -\n"
     ]
    },
    {
     "name": "stdout",
     "output_type": "stream",
     "text": [
      "2022-03-29\n",
      "[*********************100%***********************]  1 of 1 completed"
     ]
    },
    {
     "name": "stderr",
     "output_type": "stream",
     "text": [
      "127.0.0.1 - - [30/Mar/2022 00:44:46] \"\u001b[37mPOST /_dash-update-component HTTP/1.1\u001b[0m\" 200 -\n"
     ]
    },
    {
     "name": "stdout",
     "output_type": "stream",
     "text": [
      "\n",
      "2022-03-29 12:42:00-04:00 2022-03-29 09:30:00-04:00\n",
      "2022-03-29 12:44:45 - Waiting for the next  3  minutes interval...\n"
     ]
    },
    {
     "name": "stderr",
     "output_type": "stream",
     "text": [
      "127.0.0.1 - - [30/Mar/2022 00:44:47] \"\u001b[37mPOST /_dash-update-component HTTP/1.1\u001b[0m\" 200 -\n",
      "127.0.0.1 - - [30/Mar/2022 00:44:47] \"\u001b[37mPOST /_dash-update-component HTTP/1.1\u001b[0m\" 200 -\n",
      "127.0.0.1 - - [30/Mar/2022 00:44:49] \"\u001b[37mPOST /_dash-update-component HTTP/1.1\u001b[0m\" 200 -\n",
      "127.0.0.1 - - [30/Mar/2022 00:44:49] \"\u001b[37mPOST /_dash-update-component HTTP/1.1\u001b[0m\" 200 -\n"
     ]
    },
    {
     "name": "stdout",
     "output_type": "stream",
     "text": [
      "2022-03-29\n",
      "[*********************100%***********************]  1 of 1 completed"
     ]
    },
    {
     "name": "stderr",
     "output_type": "stream",
     "text": [
      "127.0.0.1 - - [30/Mar/2022 00:44:50] \"\u001b[37mPOST /_dash-update-component HTTP/1.1\u001b[0m\" 200 -\n"
     ]
    },
    {
     "name": "stdout",
     "output_type": "stream",
     "text": [
      "\n",
      "2022-03-29 12:42:00-04:00 2022-03-29 09:30:00-04:00\n",
      "2022-03-29 12:44:49 - Waiting for the next  3  minutes interval...\n"
     ]
    },
    {
     "name": "stderr",
     "output_type": "stream",
     "text": [
      "127.0.0.1 - - [30/Mar/2022 00:44:51] \"\u001b[37mPOST /_dash-update-component HTTP/1.1\u001b[0m\" 200 -\n",
      "127.0.0.1 - - [30/Mar/2022 00:44:51] \"\u001b[37mPOST /_dash-update-component HTTP/1.1\u001b[0m\" 200 -\n",
      "127.0.0.1 - - [30/Mar/2022 00:44:53] \"\u001b[37mPOST /_dash-update-component HTTP/1.1\u001b[0m\" 200 -\n",
      "127.0.0.1 - - [30/Mar/2022 00:44:53] \"\u001b[37mPOST /_dash-update-component HTTP/1.1\u001b[0m\" 200 -\n",
      "127.0.0.1 - - [30/Mar/2022 00:44:55] \"\u001b[37mPOST /_dash-update-component HTTP/1.1\u001b[0m\" 200 -\n",
      "127.0.0.1 - - [30/Mar/2022 00:44:56] \"\u001b[37mPOST /_dash-update-component HTTP/1.1\u001b[0m\" 200 -\n"
     ]
    },
    {
     "name": "stdout",
     "output_type": "stream",
     "text": [
      "2022-03-29\n",
      "[*********************100%***********************]  1 of 1 completed"
     ]
    },
    {
     "name": "stderr",
     "output_type": "stream",
     "text": [
      "127.0.0.1 - - [30/Mar/2022 00:44:56] \"\u001b[37mPOST /_dash-update-component HTTP/1.1\u001b[0m\" 200 -\n"
     ]
    },
    {
     "name": "stdout",
     "output_type": "stream",
     "text": [
      "\n",
      "2022-03-29 12:42:00-04:00 2022-03-29 09:30:00-04:00\n",
      "2022-03-29 12:44:55 - Waiting for the next  3  minutes interval...\n"
     ]
    },
    {
     "name": "stderr",
     "output_type": "stream",
     "text": [
      "127.0.0.1 - - [30/Mar/2022 00:44:57] \"\u001b[37mPOST /_dash-update-component HTTP/1.1\u001b[0m\" 200 -\n",
      "127.0.0.1 - - [30/Mar/2022 00:44:57] \"\u001b[37mPOST /_dash-update-component HTTP/1.1\u001b[0m\" 200 -\n",
      "127.0.0.1 - - [30/Mar/2022 00:44:59] \"\u001b[37mPOST /_dash-update-component HTTP/1.1\u001b[0m\" 200 -\n",
      "127.0.0.1 - - [30/Mar/2022 00:44:59] \"\u001b[37mPOST /_dash-update-component HTTP/1.1\u001b[0m\" 200 -\n"
     ]
    },
    {
     "name": "stdout",
     "output_type": "stream",
     "text": [
      "2022-03-29\n",
      "[*********************100%***********************]  1 of 1 completed"
     ]
    },
    {
     "name": "stderr",
     "output_type": "stream",
     "text": [
      "127.0.0.1 - - [30/Mar/2022 00:45:00] \"\u001b[37mPOST /_dash-update-component HTTP/1.1\u001b[0m\" 200 -\n"
     ]
    },
    {
     "name": "stdout",
     "output_type": "stream",
     "text": [
      "\n",
      "2022-03-29 12:42:00-04:00 2022-03-29 09:30:00-04:00\n",
      "2022-03-29 12:44:59 - Waiting for the next  3  minutes interval...\n"
     ]
    },
    {
     "name": "stderr",
     "output_type": "stream",
     "text": [
      "127.0.0.1 - - [30/Mar/2022 00:45:01] \"\u001b[37mPOST /_dash-update-component HTTP/1.1\u001b[0m\" 200 -\n",
      "127.0.0.1 - - [30/Mar/2022 00:45:01] \"\u001b[37mPOST /_dash-update-component HTTP/1.1\u001b[0m\" 200 -\n",
      "127.0.0.1 - - [30/Mar/2022 00:45:03] \"\u001b[37mPOST /_dash-update-component HTTP/1.1\u001b[0m\" 200 -\n",
      "127.0.0.1 - - [30/Mar/2022 00:45:03] \"\u001b[37mPOST /_dash-update-component HTTP/1.1\u001b[0m\" 200 -\n",
      "127.0.0.1 - - [30/Mar/2022 00:45:05] \"\u001b[37mPOST /_dash-update-component HTTP/1.1\u001b[0m\" 200 -\n",
      "127.0.0.1 - - [30/Mar/2022 00:45:06] \"\u001b[37mPOST /_dash-update-component HTTP/1.1\u001b[0m\" 200 -\n"
     ]
    },
    {
     "name": "stdout",
     "output_type": "stream",
     "text": [
      "2022-03-29\n",
      "[*********************100%***********************]  1 of 1 completed\n",
      "2022-03-29 12:45:00-04:00 2022-03-29 09:30:00-04:00\n",
      "72 65 65.0\n",
      "2022-03-29 12:45:05 - Running  2022-03-29 12:45:00  Analysis on Watchlist.\n",
      "2022-03-29 12:45:05 - Running  2022-03-29 12:45:00  Analysis on Ticker Symbol:  MSFT\n",
      "[*********************100%***********************]  1 of 1 completed\n",
      "Running Analysis - TripleEMA Setup\n",
      "Running Analysis - EMA9 + VWAP Crossover Setup\n",
      "Running Analysis - VWAP Retest Setup\n",
      "2022-03-29 12:45:05 - Running  2022-03-29 12:45:00  Analysis on Ticker Symbol:  AAPL\n",
      "[*********************100%***********************]  1 of 1 completed\n",
      "Running Analysis - TripleEMA Setup\n",
      "Running Analysis - EMA9 + VWAP Crossover Setup\n",
      "Running Analysis - VWAP Retest Setup\n",
      "2022-03-29 12:45:05 - Running  2022-03-29 12:45:00  Analysis on Ticker Symbol:  TSLA\n",
      "[*********************100%***********************]  1 of 1 completed\n",
      "Running Analysis - TripleEMA Setup\n",
      "Running Analysis - EMA9 + VWAP Crossover Setup\n",
      "Running Analysis - VWAP Retest Setup\n"
     ]
    },
    {
     "name": "stderr",
     "output_type": "stream",
     "text": [
      "127.0.0.1 - - [30/Mar/2022 00:45:06] \"\u001b[37mPOST /_dash-update-component HTTP/1.1\u001b[0m\" 200 -\n",
      "127.0.0.1 - - [30/Mar/2022 00:45:07] \"\u001b[37mPOST /_dash-update-component HTTP/1.1\u001b[0m\" 200 -\n",
      "127.0.0.1 - - [30/Mar/2022 00:45:07] \"\u001b[37mPOST /_dash-update-component HTTP/1.1\u001b[0m\" 200 -\n",
      "127.0.0.1 - - [30/Mar/2022 00:45:09] \"\u001b[37mPOST /_dash-update-component HTTP/1.1\u001b[0m\" 200 -\n",
      "127.0.0.1 - - [30/Mar/2022 00:45:09] \"\u001b[37mPOST /_dash-update-component HTTP/1.1\u001b[0m\" 200 -\n"
     ]
    },
    {
     "name": "stdout",
     "output_type": "stream",
     "text": [
      "2022-03-29\n",
      "[*********************100%***********************]  1 of 1 completed\n"
     ]
    },
    {
     "name": "stderr",
     "output_type": "stream",
     "text": [
      "127.0.0.1 - - [30/Mar/2022 00:45:10] \"\u001b[37mPOST /_dash-update-component HTTP/1.1\u001b[0m\" 200 -\n"
     ]
    },
    {
     "name": "stdout",
     "output_type": "stream",
     "text": [
      "2022-03-29 12:45:00-04:00 2022-03-29 09:30:00-04:00\n",
      "2022-03-29 12:45:09 - Waiting for the next  3  minutes interval...\n"
     ]
    },
    {
     "name": "stderr",
     "output_type": "stream",
     "text": [
      "127.0.0.1 - - [30/Mar/2022 00:45:11] \"\u001b[37mPOST /_dash-update-component HTTP/1.1\u001b[0m\" 200 -\n",
      "127.0.0.1 - - [30/Mar/2022 00:45:11] \"\u001b[37mPOST /_dash-update-component HTTP/1.1\u001b[0m\" 200 -\n",
      "127.0.0.1 - - [30/Mar/2022 00:45:13] \"\u001b[37mPOST /_dash-update-component HTTP/1.1\u001b[0m\" 200 -\n",
      "127.0.0.1 - - [30/Mar/2022 00:45:13] \"\u001b[37mPOST /_dash-update-component HTTP/1.1\u001b[0m\" 200 -\n",
      "127.0.0.1 - - [30/Mar/2022 00:45:15] \"\u001b[37mPOST /_dash-update-component HTTP/1.1\u001b[0m\" 200 -\n"
     ]
    },
    {
     "name": "stdout",
     "output_type": "stream",
     "text": [
      "2022-03-29\n",
      "[*********************100%***********************]  1 of 1 completed"
     ]
    },
    {
     "name": "stderr",
     "output_type": "stream",
     "text": [
      "127.0.0.1 - - [30/Mar/2022 00:45:16] \"\u001b[37mPOST /_dash-update-component HTTP/1.1\u001b[0m\" 200 -\n",
      "127.0.0.1 - - [30/Mar/2022 00:45:16] \"\u001b[37mPOST /_dash-update-component HTTP/1.1\u001b[0m\" 200 -\n"
     ]
    },
    {
     "name": "stdout",
     "output_type": "stream",
     "text": [
      "\n",
      "2022-03-29 12:45:00-04:00 2022-03-29 09:30:00-04:00\n",
      "2022-03-29 12:45:15 - Waiting for the next  3  minutes interval...\n"
     ]
    },
    {
     "name": "stderr",
     "output_type": "stream",
     "text": [
      "127.0.0.1 - - [30/Mar/2022 00:45:17] \"\u001b[37mPOST /_dash-update-component HTTP/1.1\u001b[0m\" 200 -\n",
      "127.0.0.1 - - [30/Mar/2022 00:45:17] \"\u001b[37mPOST /_dash-update-component HTTP/1.1\u001b[0m\" 200 -\n",
      "127.0.0.1 - - [30/Mar/2022 00:45:19] \"\u001b[37mPOST /_dash-update-component HTTP/1.1\u001b[0m\" 200 -\n",
      "127.0.0.1 - - [30/Mar/2022 00:45:19] \"\u001b[37mPOST /_dash-update-component HTTP/1.1\u001b[0m\" 200 -\n"
     ]
    },
    {
     "name": "stdout",
     "output_type": "stream",
     "text": [
      "2022-03-29\n",
      "[*********************100%***********************]  1 of 1 completed"
     ]
    },
    {
     "name": "stderr",
     "output_type": "stream",
     "text": [
      "127.0.0.1 - - [30/Mar/2022 00:45:20] \"\u001b[37mPOST /_dash-update-component HTTP/1.1\u001b[0m\" 200 -\n"
     ]
    },
    {
     "name": "stdout",
     "output_type": "stream",
     "text": [
      "\n",
      "2022-03-29 12:45:00-04:00 2022-03-29 09:30:00-04:00\n",
      "2022-03-29 12:45:19 - Waiting for the next  3  minutes interval...\n"
     ]
    },
    {
     "name": "stderr",
     "output_type": "stream",
     "text": [
      "127.0.0.1 - - [30/Mar/2022 00:45:21] \"\u001b[37mPOST /_dash-update-component HTTP/1.1\u001b[0m\" 200 -\n",
      "127.0.0.1 - - [30/Mar/2022 00:45:21] \"\u001b[37mPOST /_dash-update-component HTTP/1.1\u001b[0m\" 200 -\n",
      "127.0.0.1 - - [30/Mar/2022 00:45:23] \"\u001b[37mPOST /_dash-update-component HTTP/1.1\u001b[0m\" 200 -\n",
      "127.0.0.1 - - [30/Mar/2022 00:45:23] \"\u001b[37mPOST /_dash-update-component HTTP/1.1\u001b[0m\" 200 -\n",
      "127.0.0.1 - - [30/Mar/2022 00:45:25] \"\u001b[37mPOST /_dash-update-component HTTP/1.1\u001b[0m\" 200 -\n",
      "127.0.0.1 - - [30/Mar/2022 00:45:26] \"\u001b[37mPOST /_dash-update-component HTTP/1.1\u001b[0m\" 200 -\n"
     ]
    },
    {
     "name": "stdout",
     "output_type": "stream",
     "text": [
      "2022-03-29\n",
      "[*********************100%***********************]  1 of 1 completed"
     ]
    },
    {
     "name": "stderr",
     "output_type": "stream",
     "text": [
      "127.0.0.1 - - [30/Mar/2022 00:45:26] \"\u001b[37mPOST /_dash-update-component HTTP/1.1\u001b[0m\" 200 -\n"
     ]
    },
    {
     "name": "stdout",
     "output_type": "stream",
     "text": [
      "\n",
      "2022-03-29 12:45:00-04:00 2022-03-29 09:30:00-04:00\n",
      "2022-03-29 12:45:25 - Waiting for the next  3  minutes interval...\n"
     ]
    },
    {
     "name": "stderr",
     "output_type": "stream",
     "text": [
      "127.0.0.1 - - [30/Mar/2022 00:45:27] \"\u001b[37mPOST /_dash-update-component HTTP/1.1\u001b[0m\" 200 -\n",
      "127.0.0.1 - - [30/Mar/2022 00:45:27] \"\u001b[37mPOST /_dash-update-component HTTP/1.1\u001b[0m\" 200 -\n",
      "127.0.0.1 - - [30/Mar/2022 00:45:29] \"\u001b[37mPOST /_dash-update-component HTTP/1.1\u001b[0m\" 200 -\n",
      "127.0.0.1 - - [30/Mar/2022 00:45:29] \"\u001b[37mPOST /_dash-update-component HTTP/1.1\u001b[0m\" 200 -\n"
     ]
    },
    {
     "name": "stdout",
     "output_type": "stream",
     "text": [
      "2022-03-29\n",
      "[*********************100%***********************]  1 of 1 completed"
     ]
    },
    {
     "name": "stderr",
     "output_type": "stream",
     "text": [
      "127.0.0.1 - - [30/Mar/2022 00:45:30] \"\u001b[37mPOST /_dash-update-component HTTP/1.1\u001b[0m\" 200 -\n"
     ]
    },
    {
     "name": "stdout",
     "output_type": "stream",
     "text": [
      "\n",
      "2022-03-29 12:45:00-04:00 2022-03-29 09:30:00-04:00\n",
      "2022-03-29 12:45:29 - Waiting for the next  3  minutes interval...\n"
     ]
    },
    {
     "name": "stderr",
     "output_type": "stream",
     "text": [
      "127.0.0.1 - - [30/Mar/2022 00:45:31] \"\u001b[37mPOST /_dash-update-component HTTP/1.1\u001b[0m\" 200 -\n",
      "127.0.0.1 - - [30/Mar/2022 00:45:31] \"\u001b[37mPOST /_dash-update-component HTTP/1.1\u001b[0m\" 200 -\n",
      "127.0.0.1 - - [30/Mar/2022 00:46:13] \"\u001b[37mPOST /_dash-update-component HTTP/1.1\u001b[0m\" 200 -\n",
      "127.0.0.1 - - [30/Mar/2022 00:46:13] \"\u001b[37mPOST /_dash-update-component HTTP/1.1\u001b[0m\" 200 -\n",
      "127.0.0.1 - - [30/Mar/2022 00:46:13] \"\u001b[37mPOST /_dash-update-component HTTP/1.1\u001b[0m\" 200 -\n",
      "127.0.0.1 - - [30/Mar/2022 00:46:13] \"\u001b[37mPOST /_dash-update-component HTTP/1.1\u001b[0m\" 200 -\n"
     ]
    },
    {
     "name": "stdout",
     "output_type": "stream",
     "text": [
      "2022-03-29\n",
      "2022-03-29\n",
      "[*********************100%***********************]  1 of 1 completed\n",
      "[*********************100%***********************]  1 of 1 completed"
     ]
    },
    {
     "name": "stderr",
     "output_type": "stream",
     "text": [
      "127.0.0.1 - - [30/Mar/2022 00:46:13] \"\u001b[37mPOST /_dash-update-component HTTP/1.1\u001b[0m\" 200 -\n"
     ]
    },
    {
     "name": "stdout",
     "output_type": "stream",
     "text": [
      "\n"
     ]
    },
    {
     "name": "stderr",
     "output_type": "stream",
     "text": [
      "<ipython-input-3-7936d20f5126>:23: SettingWithCopyWarning:\n",
      "\n",
      "\n",
      "A value is trying to be set on a copy of a slice from a DataFrame.\n",
      "Try using .loc[row_indexer,col_indexer] = value instead\n",
      "\n",
      "See the caveats in the documentation: https://pandas.pydata.org/pandas-docs/stable/user_guide/indexing.html#returning-a-view-versus-a-copy\n",
      "\n",
      "127.0.0.1 - - [30/Mar/2022 00:46:14] \"\u001b[37mPOST /_dash-update-component HTTP/1.1\u001b[0m\" 200 -\n",
      "127.0.0.1 - - [30/Mar/2022 00:46:14] \"\u001b[37mPOST /_dash-update-component HTTP/1.1\u001b[0m\" 200 -\n"
     ]
    },
    {
     "name": "stdout",
     "output_type": "stream",
     "text": [
      "2022-03-29 12:45:00-04:00 2022-03-29 09:30:00-04:00\n",
      "2022-03-29 12:46:13 - Waiting for the next  3  minutes interval...\n",
      "2022-03-29 12:45:00-04:00 2022-03-29 09:30:00-04:00\n",
      "2022-03-29 12:46:13 - Waiting for the next  3  minutes interval...\n"
     ]
    },
    {
     "name": "stderr",
     "output_type": "stream",
     "text": [
      "127.0.0.1 - - [30/Mar/2022 00:46:14] \"\u001b[37mPOST /_dash-update-component HTTP/1.1\u001b[0m\" 200 -\n"
     ]
    },
    {
     "name": "stdout",
     "output_type": "stream",
     "text": [
      "2022-03-29\n",
      "[*********************100%***********************]  1 of 1 completed"
     ]
    },
    {
     "name": "stderr",
     "output_type": "stream",
     "text": [
      "127.0.0.1 - - [30/Mar/2022 00:46:14] \"\u001b[37mPOST /_dash-update-component HTTP/1.1\u001b[0m\" 200 -\n"
     ]
    },
    {
     "name": "stdout",
     "output_type": "stream",
     "text": [
      "\n",
      "2022-03-29 12:45:00-04:00 2022-03-29 09:30:00-04:00\n",
      "2022-03-29 12:46:14 - Waiting for the next  3  minutes interval...\n"
     ]
    },
    {
     "name": "stderr",
     "output_type": "stream",
     "text": [
      "127.0.0.1 - - [30/Mar/2022 00:46:15] \"\u001b[37mPOST /_dash-update-component HTTP/1.1\u001b[0m\" 200 -\n",
      "127.0.0.1 - - [30/Mar/2022 00:46:16] \"\u001b[37mPOST /_dash-update-component HTTP/1.1\u001b[0m\" 200 -\n",
      "127.0.0.1 - - [30/Mar/2022 00:46:17] \"\u001b[37mPOST /_dash-update-component HTTP/1.1\u001b[0m\" 200 -\n",
      "127.0.0.1 - - [30/Mar/2022 00:46:18] \"\u001b[37mPOST /_dash-update-component HTTP/1.1\u001b[0m\" 200 -\n",
      "127.0.0.1 - - [30/Mar/2022 00:46:19] \"\u001b[37mPOST /_dash-update-component HTTP/1.1\u001b[0m\" 200 -\n"
     ]
    },
    {
     "name": "stdout",
     "output_type": "stream",
     "text": [
      "2022-03-29\n",
      "[*********************100%***********************]  1 of 1 completed"
     ]
    },
    {
     "name": "stderr",
     "output_type": "stream",
     "text": [
      "127.0.0.1 - - [30/Mar/2022 00:46:19] \"\u001b[37mPOST /_dash-update-component HTTP/1.1\u001b[0m\" 200 -\n"
     ]
    },
    {
     "name": "stdout",
     "output_type": "stream",
     "text": [
      "\n",
      "2022-03-29 12:45:00-04:00 2022-03-29 09:30:00-04:00\n",
      "2022-03-29 12:46:19 - Waiting for the next  3  minutes interval...\n"
     ]
    },
    {
     "name": "stderr",
     "output_type": "stream",
     "text": [
      "127.0.0.1 - - [30/Mar/2022 00:46:20] \"\u001b[37mPOST /_dash-update-component HTTP/1.1\u001b[0m\" 200 -\n",
      "127.0.0.1 - - [30/Mar/2022 00:46:21] \"\u001b[37mPOST /_dash-update-component HTTP/1.1\u001b[0m\" 200 -\n",
      "127.0.0.1 - - [30/Mar/2022 00:46:22] \"\u001b[37mPOST /_dash-update-component HTTP/1.1\u001b[0m\" 200 -\n",
      "127.0.0.1 - - [30/Mar/2022 00:46:23] \"\u001b[37mPOST /_dash-update-component HTTP/1.1\u001b[0m\" 200 -\n",
      "127.0.0.1 - - [30/Mar/2022 00:46:24] \"\u001b[37mPOST /_dash-update-component HTTP/1.1\u001b[0m\" 200 -\n"
     ]
    },
    {
     "name": "stdout",
     "output_type": "stream",
     "text": [
      "2022-03-29\n",
      "[*********************100%***********************]  1 of 1 completed"
     ]
    },
    {
     "name": "stderr",
     "output_type": "stream",
     "text": [
      "127.0.0.1 - - [30/Mar/2022 00:46:24] \"\u001b[37mPOST /_dash-update-component HTTP/1.1\u001b[0m\" 200 -\n"
     ]
    },
    {
     "name": "stdout",
     "output_type": "stream",
     "text": [
      "\n",
      "2022-03-29 12:45:00-04:00 2022-03-29 09:30:00-04:00\n",
      "2022-03-29 12:46:24 - Waiting for the next  3  minutes interval...\n"
     ]
    },
    {
     "name": "stderr",
     "output_type": "stream",
     "text": [
      "127.0.0.1 - - [30/Mar/2022 00:46:25] \"\u001b[37mPOST /_dash-update-component HTTP/1.1\u001b[0m\" 200 -\n",
      "127.0.0.1 - - [30/Mar/2022 00:46:26] \"\u001b[37mPOST /_dash-update-component HTTP/1.1\u001b[0m\" 200 -\n",
      "127.0.0.1 - - [30/Mar/2022 00:46:27] \"\u001b[37mPOST /_dash-update-component HTTP/1.1\u001b[0m\" 200 -\n",
      "127.0.0.1 - - [30/Mar/2022 00:46:28] \"\u001b[37mPOST /_dash-update-component HTTP/1.1\u001b[0m\" 200 -\n",
      "127.0.0.1 - - [30/Mar/2022 00:46:29] \"\u001b[37mPOST /_dash-update-component HTTP/1.1\u001b[0m\" 200 -\n"
     ]
    },
    {
     "name": "stdout",
     "output_type": "stream",
     "text": [
      "2022-03-29\n",
      "[*********************100%***********************]  1 of 1 completed"
     ]
    },
    {
     "name": "stderr",
     "output_type": "stream",
     "text": [
      "127.0.0.1 - - [30/Mar/2022 00:46:29] \"\u001b[37mPOST /_dash-update-component HTTP/1.1\u001b[0m\" 200 -\n"
     ]
    },
    {
     "name": "stdout",
     "output_type": "stream",
     "text": [
      "\n",
      "2022-03-29 12:45:00-04:00 2022-03-29 09:30:00-04:00\n",
      "2022-03-29 12:46:29 - Waiting for the next  3  minutes interval...\n"
     ]
    },
    {
     "name": "stderr",
     "output_type": "stream",
     "text": [
      "127.0.0.1 - - [30/Mar/2022 00:46:30] \"\u001b[37mPOST /_dash-update-component HTTP/1.1\u001b[0m\" 200 -\n",
      "127.0.0.1 - - [30/Mar/2022 00:46:31] \"\u001b[37mPOST /_dash-update-component HTTP/1.1\u001b[0m\" 200 -\n",
      "127.0.0.1 - - [30/Mar/2022 00:46:32] \"\u001b[37mPOST /_dash-update-component HTTP/1.1\u001b[0m\" 200 -\n",
      "127.0.0.1 - - [30/Mar/2022 00:46:33] \"\u001b[37mPOST /_dash-update-component HTTP/1.1\u001b[0m\" 200 -\n",
      "127.0.0.1 - - [30/Mar/2022 00:46:34] \"\u001b[37mPOST /_dash-update-component HTTP/1.1\u001b[0m\" 200 -\n"
     ]
    },
    {
     "name": "stdout",
     "output_type": "stream",
     "text": [
      "2022-03-29\n",
      "[*********************100%***********************]  1 of 1 completed"
     ]
    },
    {
     "name": "stderr",
     "output_type": "stream",
     "text": [
      "127.0.0.1 - - [30/Mar/2022 00:46:34] \"\u001b[37mPOST /_dash-update-component HTTP/1.1\u001b[0m\" 200 -\n"
     ]
    },
    {
     "name": "stdout",
     "output_type": "stream",
     "text": [
      "\n",
      "2022-03-29 12:45:00-04:00 2022-03-29 09:30:00-04:00\n",
      "2022-03-29 12:46:34 - Waiting for the next  3  minutes interval...\n"
     ]
    },
    {
     "name": "stderr",
     "output_type": "stream",
     "text": [
      "127.0.0.1 - - [30/Mar/2022 00:46:35] \"\u001b[37mPOST /_dash-update-component HTTP/1.1\u001b[0m\" 200 -\n",
      "127.0.0.1 - - [30/Mar/2022 00:46:36] \"\u001b[37mPOST /_dash-update-component HTTP/1.1\u001b[0m\" 200 -\n",
      "127.0.0.1 - - [30/Mar/2022 00:46:37] \"\u001b[37mPOST /_dash-update-component HTTP/1.1\u001b[0m\" 200 -\n",
      "127.0.0.1 - - [30/Mar/2022 00:46:38] \"\u001b[37mPOST /_dash-update-component HTTP/1.1\u001b[0m\" 200 -\n",
      "127.0.0.1 - - [30/Mar/2022 00:46:39] \"\u001b[37mPOST /_dash-update-component HTTP/1.1\u001b[0m\" 200 -\n"
     ]
    },
    {
     "name": "stdout",
     "output_type": "stream",
     "text": [
      "2022-03-29\n",
      "[*********************100%***********************]  1 of 1 completed"
     ]
    },
    {
     "name": "stderr",
     "output_type": "stream",
     "text": [
      "127.0.0.1 - - [30/Mar/2022 00:46:39] \"\u001b[37mPOST /_dash-update-component HTTP/1.1\u001b[0m\" 200 -\n"
     ]
    },
    {
     "name": "stdout",
     "output_type": "stream",
     "text": [
      "\n",
      "2022-03-29 12:45:00-04:00 2022-03-29 09:30:00-04:00\n",
      "2022-03-29 12:46:39 - Waiting for the next  3  minutes interval...\n"
     ]
    },
    {
     "name": "stderr",
     "output_type": "stream",
     "text": [
      "127.0.0.1 - - [30/Mar/2022 00:46:40] \"\u001b[37mPOST /_dash-update-component HTTP/1.1\u001b[0m\" 200 -\n",
      "127.0.0.1 - - [30/Mar/2022 00:46:41] \"\u001b[37mPOST /_dash-update-component HTTP/1.1\u001b[0m\" 200 -\n",
      "127.0.0.1 - - [30/Mar/2022 00:46:42] \"\u001b[37mPOST /_dash-update-component HTTP/1.1\u001b[0m\" 200 -\n",
      "127.0.0.1 - - [30/Mar/2022 00:46:43] \"\u001b[37mPOST /_dash-update-component HTTP/1.1\u001b[0m\" 200 -\n",
      "127.0.0.1 - - [30/Mar/2022 00:46:44] \"\u001b[37mPOST /_dash-update-component HTTP/1.1\u001b[0m\" 200 -\n"
     ]
    },
    {
     "name": "stdout",
     "output_type": "stream",
     "text": [
      "2022-03-29\n",
      "[*********************100%***********************]  1 of 1 completed"
     ]
    },
    {
     "name": "stderr",
     "output_type": "stream",
     "text": [
      "127.0.0.1 - - [30/Mar/2022 00:46:44] \"\u001b[37mPOST /_dash-update-component HTTP/1.1\u001b[0m\" 200 -\n"
     ]
    },
    {
     "name": "stdout",
     "output_type": "stream",
     "text": [
      "\n",
      "2022-03-29 12:45:00-04:00 2022-03-29 09:30:00-04:00\n",
      "2022-03-29 12:46:44 - Waiting for the next  3  minutes interval...\n"
     ]
    },
    {
     "name": "stderr",
     "output_type": "stream",
     "text": [
      "127.0.0.1 - - [30/Mar/2022 00:46:45] \"\u001b[37mPOST /_dash-update-component HTTP/1.1\u001b[0m\" 200 -\n",
      "127.0.0.1 - - [30/Mar/2022 00:46:46] \"\u001b[37mPOST /_dash-update-component HTTP/1.1\u001b[0m\" 200 -\n",
      "127.0.0.1 - - [30/Mar/2022 00:46:47] \"\u001b[37mPOST /_dash-update-component HTTP/1.1\u001b[0m\" 200 -\n",
      "127.0.0.1 - - [30/Mar/2022 00:46:48] \"\u001b[37mPOST /_dash-update-component HTTP/1.1\u001b[0m\" 200 -\n",
      "127.0.0.1 - - [30/Mar/2022 00:46:49] \"\u001b[37mPOST /_dash-update-component HTTP/1.1\u001b[0m\" 200 -\n"
     ]
    },
    {
     "name": "stdout",
     "output_type": "stream",
     "text": [
      "2022-03-29\n",
      "[*********************100%***********************]  1 of 1 completed"
     ]
    },
    {
     "name": "stderr",
     "output_type": "stream",
     "text": [
      "127.0.0.1 - - [30/Mar/2022 00:46:49] \"\u001b[37mPOST /_dash-update-component HTTP/1.1\u001b[0m\" 200 -\n"
     ]
    },
    {
     "name": "stdout",
     "output_type": "stream",
     "text": [
      "\n",
      "2022-03-29 12:45:00-04:00 2022-03-29 09:30:00-04:00\n",
      "2022-03-29 12:46:49 - Waiting for the next  3  minutes interval...\n"
     ]
    },
    {
     "name": "stderr",
     "output_type": "stream",
     "text": [
      "127.0.0.1 - - [30/Mar/2022 00:46:50] \"\u001b[37mPOST /_dash-update-component HTTP/1.1\u001b[0m\" 200 -\n",
      "127.0.0.1 - - [30/Mar/2022 00:46:51] \"\u001b[37mPOST /_dash-update-component HTTP/1.1\u001b[0m\" 200 -\n",
      "127.0.0.1 - - [30/Mar/2022 00:46:52] \"\u001b[37mPOST /_dash-update-component HTTP/1.1\u001b[0m\" 200 -\n",
      "127.0.0.1 - - [30/Mar/2022 00:46:53] \"\u001b[37mPOST /_dash-update-component HTTP/1.1\u001b[0m\" 200 -\n",
      "127.0.0.1 - - [30/Mar/2022 00:46:54] \"\u001b[37mPOST /_dash-update-component HTTP/1.1\u001b[0m\" 200 -\n"
     ]
    },
    {
     "name": "stdout",
     "output_type": "stream",
     "text": [
      "2022-03-29\n",
      "[*********************100%***********************]  1 of 1 completed"
     ]
    },
    {
     "name": "stderr",
     "output_type": "stream",
     "text": [
      "127.0.0.1 - - [30/Mar/2022 00:46:54] \"\u001b[37mPOST /_dash-update-component HTTP/1.1\u001b[0m\" 200 -\n"
     ]
    },
    {
     "name": "stdout",
     "output_type": "stream",
     "text": [
      "\n",
      "2022-03-29 12:45:00-04:00 2022-03-29 09:30:00-04:00\n",
      "2022-03-29 12:46:54 - Waiting for the next  3  minutes interval...\n"
     ]
    },
    {
     "name": "stderr",
     "output_type": "stream",
     "text": [
      "127.0.0.1 - - [30/Mar/2022 00:46:55] \"\u001b[37mPOST /_dash-update-component HTTP/1.1\u001b[0m\" 200 -\n",
      "127.0.0.1 - - [30/Mar/2022 00:46:56] \"\u001b[37mPOST /_dash-update-component HTTP/1.1\u001b[0m\" 200 -\n",
      "127.0.0.1 - - [30/Mar/2022 00:46:57] \"\u001b[37mPOST /_dash-update-component HTTP/1.1\u001b[0m\" 200 -\n",
      "127.0.0.1 - - [30/Mar/2022 00:46:58] \"\u001b[37mPOST /_dash-update-component HTTP/1.1\u001b[0m\" 200 -\n",
      "127.0.0.1 - - [30/Mar/2022 00:46:59] \"\u001b[37mPOST /_dash-update-component HTTP/1.1\u001b[0m\" 200 -\n"
     ]
    },
    {
     "name": "stdout",
     "output_type": "stream",
     "text": [
      "2022-03-29\n",
      "[*********************100%***********************]  1 of 1 completed"
     ]
    },
    {
     "name": "stderr",
     "output_type": "stream",
     "text": [
      "127.0.0.1 - - [30/Mar/2022 00:46:59] \"\u001b[37mPOST /_dash-update-component HTTP/1.1\u001b[0m\" 200 -\n"
     ]
    },
    {
     "name": "stdout",
     "output_type": "stream",
     "text": [
      "\n",
      "2022-03-29 12:45:00-04:00 2022-03-29 09:30:00-04:00\n",
      "2022-03-29 12:46:59 - Waiting for the next  3  minutes interval...\n"
     ]
    },
    {
     "name": "stderr",
     "output_type": "stream",
     "text": [
      "127.0.0.1 - - [30/Mar/2022 00:47:00] \"\u001b[37mPOST /_dash-update-component HTTP/1.1\u001b[0m\" 200 -\n",
      "127.0.0.1 - - [30/Mar/2022 00:47:01] \"\u001b[37mPOST /_dash-update-component HTTP/1.1\u001b[0m\" 200 -\n",
      "127.0.0.1 - - [30/Mar/2022 00:47:02] \"\u001b[37mPOST /_dash-update-component HTTP/1.1\u001b[0m\" 200 -\n",
      "127.0.0.1 - - [30/Mar/2022 00:47:03] \"\u001b[37mPOST /_dash-update-component HTTP/1.1\u001b[0m\" 200 -\n",
      "127.0.0.1 - - [30/Mar/2022 00:47:04] \"\u001b[37mPOST /_dash-update-component HTTP/1.1\u001b[0m\" 200 -\n"
     ]
    },
    {
     "name": "stdout",
     "output_type": "stream",
     "text": [
      "2022-03-29\n",
      "[*********************100%***********************]  1 of 1 completed"
     ]
    },
    {
     "name": "stderr",
     "output_type": "stream",
     "text": [
      "127.0.0.1 - - [30/Mar/2022 00:47:04] \"\u001b[37mPOST /_dash-update-component HTTP/1.1\u001b[0m\" 200 -\n"
     ]
    },
    {
     "name": "stdout",
     "output_type": "stream",
     "text": [
      "\n",
      "2022-03-29 12:45:00-04:00 2022-03-29 09:30:00-04:00\n",
      "2022-03-29 12:47:04 - Waiting for the next  3  minutes interval...\n"
     ]
    },
    {
     "name": "stderr",
     "output_type": "stream",
     "text": [
      "127.0.0.1 - - [30/Mar/2022 00:47:05] \"\u001b[37mPOST /_dash-update-component HTTP/1.1\u001b[0m\" 200 -\n",
      "127.0.0.1 - - [30/Mar/2022 00:47:06] \"\u001b[37mPOST /_dash-update-component HTTP/1.1\u001b[0m\" 200 -\n",
      "127.0.0.1 - - [30/Mar/2022 00:47:07] \"\u001b[37mPOST /_dash-update-component HTTP/1.1\u001b[0m\" 200 -\n",
      "127.0.0.1 - - [30/Mar/2022 00:47:08] \"\u001b[37mPOST /_dash-update-component HTTP/1.1\u001b[0m\" 200 -\n",
      "127.0.0.1 - - [30/Mar/2022 00:47:09] \"\u001b[37mPOST /_dash-update-component HTTP/1.1\u001b[0m\" 200 -\n"
     ]
    },
    {
     "name": "stdout",
     "output_type": "stream",
     "text": [
      "2022-03-29\n",
      "[*********************100%***********************]  1 of 1 completed"
     ]
    },
    {
     "name": "stderr",
     "output_type": "stream",
     "text": [
      "127.0.0.1 - - [30/Mar/2022 00:47:09] \"\u001b[37mPOST /_dash-update-component HTTP/1.1\u001b[0m\" 200 -\n"
     ]
    },
    {
     "name": "stdout",
     "output_type": "stream",
     "text": [
      "\n",
      "2022-03-29 12:45:00-04:00 2022-03-29 09:30:00-04:00\n",
      "2022-03-29 12:47:09 - Waiting for the next  3  minutes interval...\n"
     ]
    },
    {
     "name": "stderr",
     "output_type": "stream",
     "text": [
      "127.0.0.1 - - [30/Mar/2022 00:47:10] \"\u001b[37mPOST /_dash-update-component HTTP/1.1\u001b[0m\" 200 -\n",
      "127.0.0.1 - - [30/Mar/2022 00:47:11] \"\u001b[37mPOST /_dash-update-component HTTP/1.1\u001b[0m\" 200 -\n",
      "127.0.0.1 - - [30/Mar/2022 00:47:12] \"\u001b[37mPOST /_dash-update-component HTTP/1.1\u001b[0m\" 200 -\n",
      "127.0.0.1 - - [30/Mar/2022 00:47:13] \"\u001b[37mPOST /_dash-update-component HTTP/1.1\u001b[0m\" 200 -\n",
      "127.0.0.1 - - [30/Mar/2022 00:47:14] \"\u001b[37mPOST /_dash-update-component HTTP/1.1\u001b[0m\" 200 -\n"
     ]
    },
    {
     "name": "stdout",
     "output_type": "stream",
     "text": [
      "2022-03-29\n",
      "[*********************100%***********************]  1 of 1 completed"
     ]
    },
    {
     "name": "stderr",
     "output_type": "stream",
     "text": [
      "127.0.0.1 - - [30/Mar/2022 00:47:14] \"\u001b[37mPOST /_dash-update-component HTTP/1.1\u001b[0m\" 200 -\n"
     ]
    },
    {
     "name": "stdout",
     "output_type": "stream",
     "text": [
      "\n",
      "2022-03-29 12:45:00-04:00 2022-03-29 09:30:00-04:00\n",
      "2022-03-29 12:47:14 - Waiting for the next  3  minutes interval...\n"
     ]
    },
    {
     "name": "stderr",
     "output_type": "stream",
     "text": [
      "127.0.0.1 - - [30/Mar/2022 00:47:15] \"\u001b[37mPOST /_dash-update-component HTTP/1.1\u001b[0m\" 200 -\n",
      "127.0.0.1 - - [30/Mar/2022 00:47:16] \"\u001b[37mPOST /_dash-update-component HTTP/1.1\u001b[0m\" 200 -\n",
      "127.0.0.1 - - [30/Mar/2022 00:47:17] \"\u001b[37mPOST /_dash-update-component HTTP/1.1\u001b[0m\" 200 -\n",
      "127.0.0.1 - - [30/Mar/2022 00:47:18] \"\u001b[37mPOST /_dash-update-component HTTP/1.1\u001b[0m\" 200 -\n",
      "127.0.0.1 - - [30/Mar/2022 00:47:19] \"\u001b[37mPOST /_dash-update-component HTTP/1.1\u001b[0m\" 200 -\n"
     ]
    },
    {
     "name": "stdout",
     "output_type": "stream",
     "text": [
      "2022-03-29\n",
      "[*********************100%***********************]  1 of 1 completed"
     ]
    },
    {
     "name": "stderr",
     "output_type": "stream",
     "text": [
      "127.0.0.1 - - [30/Mar/2022 00:47:19] \"\u001b[37mPOST /_dash-update-component HTTP/1.1\u001b[0m\" 200 -\n"
     ]
    },
    {
     "name": "stdout",
     "output_type": "stream",
     "text": [
      "\n",
      "2022-03-29 12:45:00-04:00 2022-03-29 09:30:00-04:00\n",
      "2022-03-29 12:47:19 - Waiting for the next  3  minutes interval...\n"
     ]
    },
    {
     "name": "stderr",
     "output_type": "stream",
     "text": [
      "127.0.0.1 - - [30/Mar/2022 00:47:20] \"\u001b[37mPOST /_dash-update-component HTTP/1.1\u001b[0m\" 200 -\n",
      "127.0.0.1 - - [30/Mar/2022 00:47:21] \"\u001b[37mPOST /_dash-update-component HTTP/1.1\u001b[0m\" 200 -\n",
      "127.0.0.1 - - [30/Mar/2022 00:47:22] \"\u001b[37mPOST /_dash-update-component HTTP/1.1\u001b[0m\" 200 -\n",
      "127.0.0.1 - - [30/Mar/2022 00:47:23] \"\u001b[37mPOST /_dash-update-component HTTP/1.1\u001b[0m\" 200 -\n",
      "127.0.0.1 - - [30/Mar/2022 00:47:23] \"\u001b[37mPOST /_dash-update-component HTTP/1.1\u001b[0m\" 200 -\n",
      "127.0.0.1 - - [30/Mar/2022 00:47:24] \"\u001b[37mPOST /_dash-update-component HTTP/1.1\u001b[0m\" 200 -\n"
     ]
    },
    {
     "name": "stdout",
     "output_type": "stream",
     "text": [
      "2022-03-29\n",
      "[*********************100%***********************]  1 of 1 completed"
     ]
    },
    {
     "name": "stderr",
     "output_type": "stream",
     "text": [
      "127.0.0.1 - - [30/Mar/2022 00:47:24] \"\u001b[37mPOST /_dash-update-component HTTP/1.1\u001b[0m\" 200 -\n"
     ]
    },
    {
     "name": "stdout",
     "output_type": "stream",
     "text": [
      "\n",
      "2022-03-29 12:45:00-04:00 2022-03-29 09:30:00-04:00\n",
      "2022-03-29 12:47:24 - Waiting for the next  3  minutes interval...\n"
     ]
    },
    {
     "name": "stderr",
     "output_type": "stream",
     "text": [
      "127.0.0.1 - - [30/Mar/2022 00:47:25] \"\u001b[37mPOST /_dash-update-component HTTP/1.1\u001b[0m\" 200 -\n",
      "127.0.0.1 - - [30/Mar/2022 00:47:26] \"\u001b[37mPOST /_dash-update-component HTTP/1.1\u001b[0m\" 200 -\n",
      "127.0.0.1 - - [30/Mar/2022 00:47:26] \"\u001b[37mPOST /_dash-update-component HTTP/1.1\u001b[0m\" 200 -\n",
      "127.0.0.1 - - [30/Mar/2022 00:47:27] \"\u001b[37mPOST /_dash-update-component HTTP/1.1\u001b[0m\" 200 -\n",
      "127.0.0.1 - - [30/Mar/2022 00:47:28] \"\u001b[37mPOST /_dash-update-component HTTP/1.1\u001b[0m\" 200 -\n",
      "127.0.0.1 - - [30/Mar/2022 00:47:29] \"\u001b[37mPOST /_dash-update-component HTTP/1.1\u001b[0m\" 200 -\n"
     ]
    },
    {
     "name": "stdout",
     "output_type": "stream",
     "text": [
      "2022-03-29\n",
      "[*********************100%***********************]  1 of 1 completed"
     ]
    },
    {
     "name": "stderr",
     "output_type": "stream",
     "text": [
      "127.0.0.1 - - [30/Mar/2022 00:47:29] \"\u001b[37mPOST /_dash-update-component HTTP/1.1\u001b[0m\" 200 -\n"
     ]
    },
    {
     "name": "stdout",
     "output_type": "stream",
     "text": [
      "\n",
      "2022-03-29 12:45:00-04:00 2022-03-29 09:30:00-04:00\n",
      "2022-03-29 12:47:29 - Waiting for the next  3  minutes interval...\n"
     ]
    },
    {
     "name": "stderr",
     "output_type": "stream",
     "text": [
      "127.0.0.1 - - [30/Mar/2022 00:47:30] \"\u001b[37mPOST /_dash-update-component HTTP/1.1\u001b[0m\" 200 -\n",
      "127.0.0.1 - - [30/Mar/2022 00:47:31] \"\u001b[37mPOST /_dash-update-component HTTP/1.1\u001b[0m\" 200 -\n",
      "127.0.0.1 - - [30/Mar/2022 00:47:32] \"\u001b[37mPOST /_dash-update-component HTTP/1.1\u001b[0m\" 200 -\n",
      "127.0.0.1 - - [30/Mar/2022 00:47:33] \"\u001b[37mPOST /_dash-update-component HTTP/1.1\u001b[0m\" 200 -\n",
      "127.0.0.1 - - [30/Mar/2022 00:47:34] \"\u001b[37mPOST /_dash-update-component HTTP/1.1\u001b[0m\" 200 -\n"
     ]
    },
    {
     "name": "stdout",
     "output_type": "stream",
     "text": [
      "2022-03-29\n",
      "[*********************100%***********************]  1 of 1 completed"
     ]
    },
    {
     "name": "stderr",
     "output_type": "stream",
     "text": [
      "127.0.0.1 - - [30/Mar/2022 00:47:34] \"\u001b[37mPOST /_dash-update-component HTTP/1.1\u001b[0m\" 200 -\n"
     ]
    },
    {
     "name": "stdout",
     "output_type": "stream",
     "text": [
      "\n",
      "2022-03-29 12:45:00-04:00 2022-03-29 09:30:00-04:00\n",
      "2022-03-29 12:47:34 - Waiting for the next  3  minutes interval...\n"
     ]
    },
    {
     "name": "stderr",
     "output_type": "stream",
     "text": [
      "127.0.0.1 - - [30/Mar/2022 00:47:35] \"\u001b[37mPOST /_dash-update-component HTTP/1.1\u001b[0m\" 200 -\n",
      "127.0.0.1 - - [30/Mar/2022 00:47:36] \"\u001b[37mPOST /_dash-update-component HTTP/1.1\u001b[0m\" 200 -\n",
      "127.0.0.1 - - [30/Mar/2022 00:47:37] \"\u001b[37mPOST /_dash-update-component HTTP/1.1\u001b[0m\" 200 -\n",
      "127.0.0.1 - - [30/Mar/2022 00:47:38] \"\u001b[37mPOST /_dash-update-component HTTP/1.1\u001b[0m\" 200 -\n",
      "127.0.0.1 - - [30/Mar/2022 00:47:39] \"\u001b[37mPOST /_dash-update-component HTTP/1.1\u001b[0m\" 200 -\n"
     ]
    },
    {
     "name": "stdout",
     "output_type": "stream",
     "text": [
      "2022-03-29\n",
      "[*********************100%***********************]  1 of 1 completed"
     ]
    },
    {
     "name": "stderr",
     "output_type": "stream",
     "text": [
      "127.0.0.1 - - [30/Mar/2022 00:47:39] \"\u001b[37mPOST /_dash-update-component HTTP/1.1\u001b[0m\" 200 -\n"
     ]
    },
    {
     "name": "stdout",
     "output_type": "stream",
     "text": [
      "\n",
      "2022-03-29 12:45:00-04:00 2022-03-29 09:30:00-04:00\n",
      "2022-03-29 12:47:39 - Waiting for the next  3  minutes interval...\n"
     ]
    },
    {
     "name": "stderr",
     "output_type": "stream",
     "text": [
      "127.0.0.1 - - [30/Mar/2022 00:47:40] \"\u001b[37mPOST /_dash-update-component HTTP/1.1\u001b[0m\" 200 -\n",
      "127.0.0.1 - - [30/Mar/2022 00:47:41] \"\u001b[37mPOST /_dash-update-component HTTP/1.1\u001b[0m\" 200 -\n",
      "127.0.0.1 - - [30/Mar/2022 00:47:42] \"\u001b[37mPOST /_dash-update-component HTTP/1.1\u001b[0m\" 200 -\n",
      "127.0.0.1 - - [30/Mar/2022 00:47:43] \"\u001b[37mPOST /_dash-update-component HTTP/1.1\u001b[0m\" 200 -\n",
      "127.0.0.1 - - [30/Mar/2022 00:47:44] \"\u001b[37mPOST /_dash-update-component HTTP/1.1\u001b[0m\" 200 -\n"
     ]
    },
    {
     "name": "stdout",
     "output_type": "stream",
     "text": [
      "2022-03-29\n",
      "[*********************100%***********************]  1 of 1 completed\n",
      "2022-03-29 12:45:00-04:00 2022-03-29 09:30:00-04:00\n",
      "2022-03-29 12:47:44 - Waiting for the next  3  minutes interval...\n"
     ]
    },
    {
     "name": "stderr",
     "output_type": "stream",
     "text": [
      "127.0.0.1 - - [30/Mar/2022 00:47:44] \"\u001b[37mPOST /_dash-update-component HTTP/1.1\u001b[0m\" 200 -\n",
      "127.0.0.1 - - [30/Mar/2022 00:47:45] \"\u001b[37mPOST /_dash-update-component HTTP/1.1\u001b[0m\" 200 -\n",
      "127.0.0.1 - - [30/Mar/2022 00:47:46] \"\u001b[37mPOST /_dash-update-component HTTP/1.1\u001b[0m\" 200 -\n",
      "127.0.0.1 - - [30/Mar/2022 00:47:47] \"\u001b[37mPOST /_dash-update-component HTTP/1.1\u001b[0m\" 200 -\n",
      "127.0.0.1 - - [30/Mar/2022 00:47:48] \"\u001b[37mPOST /_dash-update-component HTTP/1.1\u001b[0m\" 200 -\n",
      "127.0.0.1 - - [30/Mar/2022 00:47:49] \"\u001b[37mPOST /_dash-update-component HTTP/1.1\u001b[0m\" 200 -\n"
     ]
    },
    {
     "name": "stdout",
     "output_type": "stream",
     "text": [
      "2022-03-29\n",
      "[*********************100%***********************]  1 of 1 completed"
     ]
    },
    {
     "name": "stderr",
     "output_type": "stream",
     "text": [
      "127.0.0.1 - - [30/Mar/2022 00:47:49] \"\u001b[37mPOST /_dash-update-component HTTP/1.1\u001b[0m\" 200 -\n"
     ]
    },
    {
     "name": "stdout",
     "output_type": "stream",
     "text": [
      "\n",
      "2022-03-29 12:45:00-04:00 2022-03-29 09:30:00-04:00\n",
      "2022-03-29 12:47:49 - Waiting for the next  3  minutes interval...\n"
     ]
    },
    {
     "name": "stderr",
     "output_type": "stream",
     "text": [
      "127.0.0.1 - - [30/Mar/2022 00:47:50] \"\u001b[37mPOST /_dash-update-component HTTP/1.1\u001b[0m\" 200 -\n",
      "127.0.0.1 - - [30/Mar/2022 00:47:51] \"\u001b[37mPOST /_dash-update-component HTTP/1.1\u001b[0m\" 200 -\n",
      "127.0.0.1 - - [30/Mar/2022 00:47:52] \"\u001b[37mPOST /_dash-update-component HTTP/1.1\u001b[0m\" 200 -\n",
      "127.0.0.1 - - [30/Mar/2022 00:47:53] \"\u001b[37mPOST /_dash-update-component HTTP/1.1\u001b[0m\" 200 -\n",
      "127.0.0.1 - - [30/Mar/2022 00:47:54] \"\u001b[37mPOST /_dash-update-component HTTP/1.1\u001b[0m\" 200 -\n"
     ]
    },
    {
     "name": "stdout",
     "output_type": "stream",
     "text": [
      "2022-03-29\n",
      "[*********************100%***********************]  1 of 1 completed"
     ]
    },
    {
     "name": "stderr",
     "output_type": "stream",
     "text": [
      "127.0.0.1 - - [30/Mar/2022 00:47:54] \"\u001b[37mPOST /_dash-update-component HTTP/1.1\u001b[0m\" 200 -\n"
     ]
    },
    {
     "name": "stdout",
     "output_type": "stream",
     "text": [
      "\n",
      "2022-03-29 12:45:00-04:00 2022-03-29 09:30:00-04:00\n",
      "2022-03-29 12:47:54 - Waiting for the next  3  minutes interval...\n"
     ]
    },
    {
     "name": "stderr",
     "output_type": "stream",
     "text": [
      "127.0.0.1 - - [30/Mar/2022 00:47:55] \"\u001b[37mPOST /_dash-update-component HTTP/1.1\u001b[0m\" 200 -\n",
      "127.0.0.1 - - [30/Mar/2022 00:47:56] \"\u001b[37mPOST /_dash-update-component HTTP/1.1\u001b[0m\" 200 -\n",
      "127.0.0.1 - - [30/Mar/2022 00:47:57] \"\u001b[37mPOST /_dash-update-component HTTP/1.1\u001b[0m\" 200 -\n",
      "127.0.0.1 - - [30/Mar/2022 00:47:58] \"\u001b[37mPOST /_dash-update-component HTTP/1.1\u001b[0m\" 200 -\n",
      "127.0.0.1 - - [30/Mar/2022 00:47:59] \"\u001b[37mPOST /_dash-update-component HTTP/1.1\u001b[0m\" 200 -\n"
     ]
    },
    {
     "name": "stdout",
     "output_type": "stream",
     "text": [
      "2022-03-29\n",
      "[*********************100%***********************]  1 of 1 completed"
     ]
    },
    {
     "name": "stderr",
     "output_type": "stream",
     "text": [
      "127.0.0.1 - - [30/Mar/2022 00:47:59] \"\u001b[37mPOST /_dash-update-component HTTP/1.1\u001b[0m\" 200 -\n"
     ]
    },
    {
     "name": "stdout",
     "output_type": "stream",
     "text": [
      "\n",
      "2022-03-29 12:45:00-04:00 2022-03-29 09:30:00-04:00\n",
      "2022-03-29 12:47:59 - Waiting for the next  3  minutes interval...\n"
     ]
    },
    {
     "name": "stderr",
     "output_type": "stream",
     "text": [
      "127.0.0.1 - - [30/Mar/2022 00:48:00] \"\u001b[37mPOST /_dash-update-component HTTP/1.1\u001b[0m\" 200 -\n",
      "127.0.0.1 - - [30/Mar/2022 00:48:01] \"\u001b[37mPOST /_dash-update-component HTTP/1.1\u001b[0m\" 200 -\n",
      "127.0.0.1 - - [30/Mar/2022 00:48:02] \"\u001b[37mPOST /_dash-update-component HTTP/1.1\u001b[0m\" 200 -\n",
      "127.0.0.1 - - [30/Mar/2022 00:48:03] \"\u001b[37mPOST /_dash-update-component HTTP/1.1\u001b[0m\" 200 -\n",
      "127.0.0.1 - - [30/Mar/2022 00:48:04] \"\u001b[37mPOST /_dash-update-component HTTP/1.1\u001b[0m\" 200 -\n"
     ]
    },
    {
     "name": "stdout",
     "output_type": "stream",
     "text": [
      "2022-03-29\n",
      "[*********************100%***********************]  1 of 1 completed\n",
      "2022-03-29 12:48:00-04:00 2022-03-29 09:30:00-04:00\n",
      "102 66 66.0\n",
      "2022-03-29 12:48:04 - Running  2022-03-29 12:48:00  Analysis on Watchlist.\n",
      "2022-03-29 12:48:04 - Running  2022-03-29 12:48:00  Analysis on Ticker Symbol:  MSFT\n",
      "[*********************100%***********************]  1 of 1 completed\n",
      "Running Analysis - TripleEMA Setup\n",
      "Running Analysis - EMA9 + VWAP Crossover Setup\n",
      "Running Analysis - VWAP Retest Setup\n",
      "2022-03-29 12:48:04 - Running  2022-03-29 12:48:00  Analysis on Ticker Symbol:  AAPL\n",
      "[*********************100%***********************]  1 of 1 completed\n",
      "Running Analysis - TripleEMA Setup\n",
      "Running Analysis - EMA9 + VWAP Crossover Setup\n",
      "Running Analysis - VWAP Retest Setup\n",
      "2022-03-29 12:48:04 - Running  2022-03-29 12:48:00  Analysis on Ticker Symbol:  TSLA\n",
      "[*********************100%***********************]  1 of 1 completed\n",
      "Running Analysis - TripleEMA Setup\n"
     ]
    },
    {
     "name": "stderr",
     "output_type": "stream",
     "text": [
      "127.0.0.1 - - [30/Mar/2022 00:48:05] \"\u001b[37mPOST /_dash-update-component HTTP/1.1\u001b[0m\" 200 -\n"
     ]
    },
    {
     "name": "stdout",
     "output_type": "stream",
     "text": [
      "Running Analysis - EMA9 + VWAP Crossover Setup\n",
      "Running Analysis - VWAP Retest Setup\n"
     ]
    },
    {
     "name": "stderr",
     "output_type": "stream",
     "text": [
      "127.0.0.1 - - [30/Mar/2022 00:48:05] \"\u001b[37mPOST /_dash-update-component HTTP/1.1\u001b[0m\" 200 -\n",
      "127.0.0.1 - - [30/Mar/2022 00:48:06] \"\u001b[37mPOST /_dash-update-component HTTP/1.1\u001b[0m\" 200 -\n",
      "127.0.0.1 - - [30/Mar/2022 00:48:07] \"\u001b[37mPOST /_dash-update-component HTTP/1.1\u001b[0m\" 200 -\n",
      "127.0.0.1 - - [30/Mar/2022 00:48:08] \"\u001b[37mPOST /_dash-update-component HTTP/1.1\u001b[0m\" 200 -\n",
      "127.0.0.1 - - [30/Mar/2022 00:48:09] \"\u001b[37mPOST /_dash-update-component HTTP/1.1\u001b[0m\" 200 -\n"
     ]
    },
    {
     "name": "stdout",
     "output_type": "stream",
     "text": [
      "2022-03-29\n",
      "[*********************100%***********************]  1 of 1 completed"
     ]
    },
    {
     "name": "stderr",
     "output_type": "stream",
     "text": [
      "127.0.0.1 - - [30/Mar/2022 00:48:09] \"\u001b[37mPOST /_dash-update-component HTTP/1.1\u001b[0m\" 200 -\n"
     ]
    },
    {
     "name": "stdout",
     "output_type": "stream",
     "text": [
      "\n",
      "2022-03-29 12:48:00-04:00 2022-03-29 09:30:00-04:00\n",
      "2022-03-29 12:48:09 - Waiting for the next  3  minutes interval...\n"
     ]
    },
    {
     "name": "stderr",
     "output_type": "stream",
     "text": [
      "127.0.0.1 - - [30/Mar/2022 00:48:10] \"\u001b[37mPOST /_dash-update-component HTTP/1.1\u001b[0m\" 200 -\n",
      "127.0.0.1 - - [30/Mar/2022 00:48:11] \"\u001b[37mPOST /_dash-update-component HTTP/1.1\u001b[0m\" 200 -\n",
      "127.0.0.1 - - [30/Mar/2022 00:48:12] \"\u001b[37mPOST /_dash-update-component HTTP/1.1\u001b[0m\" 200 -\n",
      "127.0.0.1 - - [30/Mar/2022 00:48:13] \"\u001b[37mPOST /_dash-update-component HTTP/1.1\u001b[0m\" 200 -\n",
      "127.0.0.1 - - [30/Mar/2022 00:48:14] \"\u001b[37mPOST /_dash-update-component HTTP/1.1\u001b[0m\" 200 -\n"
     ]
    },
    {
     "name": "stdout",
     "output_type": "stream",
     "text": [
      "2022-03-29\n",
      "[*********************100%***********************]  1 of 1 completed"
     ]
    },
    {
     "name": "stderr",
     "output_type": "stream",
     "text": [
      "127.0.0.1 - - [30/Mar/2022 00:48:14] \"\u001b[37mPOST /_dash-update-component HTTP/1.1\u001b[0m\" 200 -\n"
     ]
    },
    {
     "name": "stdout",
     "output_type": "stream",
     "text": [
      "\n",
      "2022-03-29 12:48:00-04:00 2022-03-29 09:30:00-04:00\n",
      "2022-03-29 12:48:14 - Waiting for the next  3  minutes interval...\n"
     ]
    },
    {
     "name": "stderr",
     "output_type": "stream",
     "text": [
      "127.0.0.1 - - [30/Mar/2022 00:48:15] \"\u001b[37mPOST /_dash-update-component HTTP/1.1\u001b[0m\" 200 -\n",
      "127.0.0.1 - - [30/Mar/2022 00:48:15] \"\u001b[37mPOST /_dash-update-component HTTP/1.1\u001b[0m\" 200 -\n",
      "127.0.0.1 - - [30/Mar/2022 00:48:16] \"\u001b[37mPOST /_dash-update-component HTTP/1.1\u001b[0m\" 200 -\n",
      "127.0.0.1 - - [30/Mar/2022 00:48:17] \"\u001b[37mPOST /_dash-update-component HTTP/1.1\u001b[0m\" 200 -\n",
      "127.0.0.1 - - [30/Mar/2022 00:48:17] \"\u001b[37mPOST /_dash-update-component HTTP/1.1\u001b[0m\" 200 -\n",
      "127.0.0.1 - - [30/Mar/2022 00:48:18] \"\u001b[37mPOST /_dash-update-component HTTP/1.1\u001b[0m\" 200 -\n",
      "127.0.0.1 - - [30/Mar/2022 00:48:18] \"\u001b[37mPOST /_dash-update-component HTTP/1.1\u001b[0m\" 200 -\n",
      "127.0.0.1 - - [30/Mar/2022 00:48:19] \"\u001b[37mPOST /_dash-update-component HTTP/1.1\u001b[0m\" 200 -\n"
     ]
    },
    {
     "name": "stdout",
     "output_type": "stream",
     "text": [
      "2022-03-29\n",
      "[*********************100%***********************]  1 of 1 completed"
     ]
    },
    {
     "name": "stderr",
     "output_type": "stream",
     "text": [
      "127.0.0.1 - - [30/Mar/2022 00:48:19] \"\u001b[37mPOST /_dash-update-component HTTP/1.1\u001b[0m\" 200 -\n"
     ]
    },
    {
     "name": "stdout",
     "output_type": "stream",
     "text": [
      "\n",
      "2022-03-29 12:48:00-04:00 2022-03-29 09:30:00-04:00\n",
      "2022-03-29 12:48:19 - Waiting for the next  3  minutes interval...\n"
     ]
    },
    {
     "name": "stderr",
     "output_type": "stream",
     "text": [
      "127.0.0.1 - - [30/Mar/2022 00:48:20] \"\u001b[37mPOST /_dash-update-component HTTP/1.1\u001b[0m\" 200 -\n",
      "127.0.0.1 - - [30/Mar/2022 00:48:21] \"\u001b[37mPOST /_dash-update-component HTTP/1.1\u001b[0m\" 200 -\n",
      "127.0.0.1 - - [30/Mar/2022 00:48:22] \"\u001b[37mPOST /_dash-update-component HTTP/1.1\u001b[0m\" 200 -\n",
      "127.0.0.1 - - [30/Mar/2022 00:48:23] \"\u001b[37mPOST /_dash-update-component HTTP/1.1\u001b[0m\" 200 -\n",
      "127.0.0.1 - - [30/Mar/2022 00:48:24] \"\u001b[37mPOST /_dash-update-component HTTP/1.1\u001b[0m\" 200 -\n"
     ]
    },
    {
     "name": "stdout",
     "output_type": "stream",
     "text": [
      "2022-03-29\n",
      "[*********************100%***********************]  1 of 1 completed"
     ]
    },
    {
     "name": "stderr",
     "output_type": "stream",
     "text": [
      "127.0.0.1 - - [30/Mar/2022 00:48:24] \"\u001b[37mPOST /_dash-update-component HTTP/1.1\u001b[0m\" 200 -\n"
     ]
    },
    {
     "name": "stdout",
     "output_type": "stream",
     "text": [
      "\n",
      "2022-03-29 12:48:00-04:00 2022-03-29 09:30:00-04:00\n",
      "2022-03-29 12:48:24 - Waiting for the next  3  minutes interval...\n"
     ]
    },
    {
     "name": "stderr",
     "output_type": "stream",
     "text": [
      "127.0.0.1 - - [30/Mar/2022 00:48:25] \"\u001b[37mPOST /_dash-update-component HTTP/1.1\u001b[0m\" 200 -\n",
      "127.0.0.1 - - [30/Mar/2022 00:48:26] \"\u001b[37mPOST /_dash-update-component HTTP/1.1\u001b[0m\" 200 -\n",
      "127.0.0.1 - - [30/Mar/2022 00:48:27] \"\u001b[37mPOST /_dash-update-component HTTP/1.1\u001b[0m\" 200 -\n",
      "127.0.0.1 - - [30/Mar/2022 00:48:27] \"\u001b[37mPOST /_dash-update-component HTTP/1.1\u001b[0m\" 200 -\n",
      "127.0.0.1 - - [30/Mar/2022 00:48:28] \"\u001b[37mPOST /_dash-update-component HTTP/1.1\u001b[0m\" 200 -\n",
      "127.0.0.1 - - [30/Mar/2022 00:48:29] \"\u001b[37mPOST /_dash-update-component HTTP/1.1\u001b[0m\" 200 -\n"
     ]
    },
    {
     "name": "stdout",
     "output_type": "stream",
     "text": [
      "2022-03-29\n",
      "[*********************100%***********************]  1 of 1 completed"
     ]
    },
    {
     "name": "stderr",
     "output_type": "stream",
     "text": [
      "127.0.0.1 - - [30/Mar/2022 00:48:29] \"\u001b[37mPOST /_dash-update-component HTTP/1.1\u001b[0m\" 200 -\n"
     ]
    },
    {
     "name": "stdout",
     "output_type": "stream",
     "text": [
      "\n",
      "2022-03-29 12:48:00-04:00 2022-03-29 09:30:00-04:00\n",
      "2022-03-29 12:48:29 - Waiting for the next  3  minutes interval...\n"
     ]
    },
    {
     "name": "stderr",
     "output_type": "stream",
     "text": [
      "127.0.0.1 - - [30/Mar/2022 00:48:30] \"\u001b[37mPOST /_dash-update-component HTTP/1.1\u001b[0m\" 200 -\n",
      "127.0.0.1 - - [30/Mar/2022 00:48:31] \"\u001b[37mPOST /_dash-update-component HTTP/1.1\u001b[0m\" 200 -\n",
      "127.0.0.1 - - [30/Mar/2022 00:48:32] \"\u001b[37mPOST /_dash-update-component HTTP/1.1\u001b[0m\" 200 -\n",
      "127.0.0.1 - - [30/Mar/2022 00:48:33] \"\u001b[37mPOST /_dash-update-component HTTP/1.1\u001b[0m\" 200 -\n",
      "127.0.0.1 - - [30/Mar/2022 00:48:34] \"\u001b[37mPOST /_dash-update-component HTTP/1.1\u001b[0m\" 200 -\n"
     ]
    },
    {
     "name": "stdout",
     "output_type": "stream",
     "text": [
      "2022-03-29\n",
      "[*********************100%***********************]  1 of 1 completed"
     ]
    },
    {
     "name": "stderr",
     "output_type": "stream",
     "text": [
      "127.0.0.1 - - [30/Mar/2022 00:48:34] \"\u001b[37mPOST /_dash-update-component HTTP/1.1\u001b[0m\" 200 -\n"
     ]
    },
    {
     "name": "stdout",
     "output_type": "stream",
     "text": [
      "\n",
      "2022-03-29 12:48:00-04:00 2022-03-29 09:30:00-04:00\n",
      "2022-03-29 12:48:34 - Waiting for the next  3  minutes interval...\n"
     ]
    },
    {
     "name": "stderr",
     "output_type": "stream",
     "text": [
      "127.0.0.1 - - [30/Mar/2022 00:48:35] \"\u001b[37mPOST /_dash-update-component HTTP/1.1\u001b[0m\" 200 -\n",
      "127.0.0.1 - - [30/Mar/2022 00:48:36] \"\u001b[37mPOST /_dash-update-component HTTP/1.1\u001b[0m\" 200 -\n",
      "127.0.0.1 - - [30/Mar/2022 00:48:37] \"\u001b[37mPOST /_dash-update-component HTTP/1.1\u001b[0m\" 200 -\n",
      "127.0.0.1 - - [30/Mar/2022 00:48:38] \"\u001b[37mPOST /_dash-update-component HTTP/1.1\u001b[0m\" 200 -\n",
      "127.0.0.1 - - [30/Mar/2022 00:48:39] \"\u001b[37mPOST /_dash-update-component HTTP/1.1\u001b[0m\" 200 -\n"
     ]
    },
    {
     "name": "stdout",
     "output_type": "stream",
     "text": [
      "2022-03-29\n",
      "[*********************100%***********************]  1 of 1 completed"
     ]
    },
    {
     "name": "stderr",
     "output_type": "stream",
     "text": [
      "127.0.0.1 - - [30/Mar/2022 00:48:39] \"\u001b[37mPOST /_dash-update-component HTTP/1.1\u001b[0m\" 200 -\n"
     ]
    },
    {
     "name": "stdout",
     "output_type": "stream",
     "text": [
      "\n",
      "2022-03-29 12:48:00-04:00 2022-03-29 09:30:00-04:00\n",
      "2022-03-29 12:48:39 - Waiting for the next  3  minutes interval...\n"
     ]
    },
    {
     "name": "stderr",
     "output_type": "stream",
     "text": [
      "127.0.0.1 - - [30/Mar/2022 00:48:40] \"\u001b[37mPOST /_dash-update-component HTTP/1.1\u001b[0m\" 200 -\n",
      "127.0.0.1 - - [30/Mar/2022 00:48:41] \"\u001b[37mPOST /_dash-update-component HTTP/1.1\u001b[0m\" 200 -\n",
      "127.0.0.1 - - [30/Mar/2022 00:48:42] \"\u001b[37mPOST /_dash-update-component HTTP/1.1\u001b[0m\" 200 -\n",
      "127.0.0.1 - - [30/Mar/2022 00:48:43] \"\u001b[37mPOST /_dash-update-component HTTP/1.1\u001b[0m\" 200 -\n",
      "127.0.0.1 - - [30/Mar/2022 00:48:44] \"\u001b[37mPOST /_dash-update-component HTTP/1.1\u001b[0m\" 200 -\n"
     ]
    },
    {
     "name": "stdout",
     "output_type": "stream",
     "text": [
      "2022-03-29\n",
      "[*********************100%***********************]  1 of 1 completed"
     ]
    },
    {
     "name": "stderr",
     "output_type": "stream",
     "text": [
      "127.0.0.1 - - [30/Mar/2022 00:48:44] \"\u001b[37mPOST /_dash-update-component HTTP/1.1\u001b[0m\" 200 -\n"
     ]
    },
    {
     "name": "stdout",
     "output_type": "stream",
     "text": [
      "\n",
      "2022-03-29 12:48:00-04:00 2022-03-29 09:30:00-04:00\n",
      "2022-03-29 12:48:44 - Waiting for the next  3  minutes interval...\n"
     ]
    },
    {
     "name": "stderr",
     "output_type": "stream",
     "text": [
      "127.0.0.1 - - [30/Mar/2022 00:48:45] \"\u001b[37mPOST /_dash-update-component HTTP/1.1\u001b[0m\" 200 -\n",
      "127.0.0.1 - - [30/Mar/2022 00:48:46] \"\u001b[37mPOST /_dash-update-component HTTP/1.1\u001b[0m\" 200 -\n",
      "127.0.0.1 - - [30/Mar/2022 00:48:47] \"\u001b[37mPOST /_dash-update-component HTTP/1.1\u001b[0m\" 200 -\n",
      "127.0.0.1 - - [30/Mar/2022 00:48:48] \"\u001b[37mPOST /_dash-update-component HTTP/1.1\u001b[0m\" 200 -\n",
      "127.0.0.1 - - [30/Mar/2022 00:48:49] \"\u001b[37mPOST /_dash-update-component HTTP/1.1\u001b[0m\" 200 -\n"
     ]
    },
    {
     "name": "stdout",
     "output_type": "stream",
     "text": [
      "2022-03-29\n",
      "[*********************100%***********************]  1 of 1 completed"
     ]
    },
    {
     "name": "stderr",
     "output_type": "stream",
     "text": [
      "127.0.0.1 - - [30/Mar/2022 00:48:49] \"\u001b[37mPOST /_dash-update-component HTTP/1.1\u001b[0m\" 200 -\n"
     ]
    },
    {
     "name": "stdout",
     "output_type": "stream",
     "text": [
      "\n",
      "2022-03-29 12:48:00-04:00 2022-03-29 09:30:00-04:00\n",
      "2022-03-29 12:48:49 - Waiting for the next  3  minutes interval...\n"
     ]
    },
    {
     "name": "stderr",
     "output_type": "stream",
     "text": [
      "127.0.0.1 - - [30/Mar/2022 00:48:50] \"\u001b[37mPOST /_dash-update-component HTTP/1.1\u001b[0m\" 200 -\n",
      "127.0.0.1 - - [30/Mar/2022 00:48:51] \"\u001b[37mPOST /_dash-update-component HTTP/1.1\u001b[0m\" 200 -\n",
      "127.0.0.1 - - [30/Mar/2022 00:48:52] \"\u001b[37mPOST /_dash-update-component HTTP/1.1\u001b[0m\" 200 -\n",
      "127.0.0.1 - - [30/Mar/2022 00:48:53] \"\u001b[37mPOST /_dash-update-component HTTP/1.1\u001b[0m\" 200 -\n",
      "127.0.0.1 - - [30/Mar/2022 00:48:54] \"\u001b[37mPOST /_dash-update-component HTTP/1.1\u001b[0m\" 200 -\n"
     ]
    },
    {
     "name": "stdout",
     "output_type": "stream",
     "text": [
      "2022-03-29\n",
      "[*********************100%***********************]  1 of 1 completed"
     ]
    },
    {
     "name": "stderr",
     "output_type": "stream",
     "text": [
      "127.0.0.1 - - [30/Mar/2022 00:48:54] \"\u001b[37mPOST /_dash-update-component HTTP/1.1\u001b[0m\" 200 -\n"
     ]
    },
    {
     "name": "stdout",
     "output_type": "stream",
     "text": [
      "\n",
      "2022-03-29 12:48:00-04:00 2022-03-29 09:30:00-04:00\n",
      "2022-03-29 12:48:54 - Waiting for the next  3  minutes interval...\n"
     ]
    },
    {
     "name": "stderr",
     "output_type": "stream",
     "text": [
      "127.0.0.1 - - [30/Mar/2022 00:48:55] \"\u001b[37mPOST /_dash-update-component HTTP/1.1\u001b[0m\" 200 -\n",
      "127.0.0.1 - - [30/Mar/2022 00:48:56] \"\u001b[37mPOST /_dash-update-component HTTP/1.1\u001b[0m\" 200 -\n",
      "127.0.0.1 - - [30/Mar/2022 00:48:57] \"\u001b[37mPOST /_dash-update-component HTTP/1.1\u001b[0m\" 200 -\n",
      "127.0.0.1 - - [30/Mar/2022 00:48:58] \"\u001b[37mPOST /_dash-update-component HTTP/1.1\u001b[0m\" 200 -\n",
      "127.0.0.1 - - [30/Mar/2022 00:48:59] \"\u001b[37mPOST /_dash-update-component HTTP/1.1\u001b[0m\" 200 -\n"
     ]
    },
    {
     "name": "stdout",
     "output_type": "stream",
     "text": [
      "2022-03-29\n",
      "[*********************100%***********************]  1 of 1 completed\n",
      "2022-03-29 12:48:00-04:00"
     ]
    },
    {
     "name": "stderr",
     "output_type": "stream",
     "text": [
      "127.0.0.1 - - [30/Mar/2022 00:48:59] \"\u001b[37mPOST /_dash-update-component HTTP/1.1\u001b[0m\" 200 -\n"
     ]
    },
    {
     "name": "stdout",
     "output_type": "stream",
     "text": [
      " 2022-03-29 09:30:00-04:00\n",
      "2022-03-29 12:48:59 - Waiting for the next  3  minutes interval...\n"
     ]
    },
    {
     "name": "stderr",
     "output_type": "stream",
     "text": [
      "127.0.0.1 - - [30/Mar/2022 00:49:00] \"\u001b[37mPOST /_dash-update-component HTTP/1.1\u001b[0m\" 200 -\n",
      "127.0.0.1 - - [30/Mar/2022 00:49:01] \"\u001b[37mPOST /_dash-update-component HTTP/1.1\u001b[0m\" 200 -\n",
      "127.0.0.1 - - [30/Mar/2022 00:49:02] \"\u001b[37mPOST /_dash-update-component HTTP/1.1\u001b[0m\" 200 -\n",
      "127.0.0.1 - - [30/Mar/2022 00:49:03] \"\u001b[37mPOST /_dash-update-component HTTP/1.1\u001b[0m\" 200 -\n",
      "127.0.0.1 - - [30/Mar/2022 00:49:04] \"\u001b[37mPOST /_dash-update-component HTTP/1.1\u001b[0m\" 200 -\n"
     ]
    },
    {
     "name": "stdout",
     "output_type": "stream",
     "text": [
      "2022-03-29\n",
      "[*********************100%***********************]  1 of 1 completed"
     ]
    },
    {
     "name": "stderr",
     "output_type": "stream",
     "text": [
      "127.0.0.1 - - [30/Mar/2022 00:49:04] \"\u001b[37mPOST /_dash-update-component HTTP/1.1\u001b[0m\" 200 -\n"
     ]
    },
    {
     "name": "stdout",
     "output_type": "stream",
     "text": [
      "\n",
      "2022-03-29 12:48:00-04:00 2022-03-29 09:30:00-04:00\n",
      "2022-03-29 12:49:04 - Waiting for the next  3  minutes interval...\n"
     ]
    },
    {
     "name": "stderr",
     "output_type": "stream",
     "text": [
      "127.0.0.1 - - [30/Mar/2022 00:49:05] \"\u001b[37mPOST /_dash-update-component HTTP/1.1\u001b[0m\" 200 -\n",
      "127.0.0.1 - - [30/Mar/2022 00:49:06] \"\u001b[37mPOST /_dash-update-component HTTP/1.1\u001b[0m\" 200 -\n",
      "127.0.0.1 - - [30/Mar/2022 00:49:07] \"\u001b[37mPOST /_dash-update-component HTTP/1.1\u001b[0m\" 200 -\n",
      "127.0.0.1 - - [30/Mar/2022 00:49:08] \"\u001b[37mPOST /_dash-update-component HTTP/1.1\u001b[0m\" 200 -\n",
      "127.0.0.1 - - [30/Mar/2022 00:49:09] \"\u001b[37mPOST /_dash-update-component HTTP/1.1\u001b[0m\" 200 -\n"
     ]
    },
    {
     "name": "stdout",
     "output_type": "stream",
     "text": [
      "2022-03-29\n",
      "[*********************100%***********************]  1 of 1 completed"
     ]
    },
    {
     "name": "stderr",
     "output_type": "stream",
     "text": [
      "127.0.0.1 - - [30/Mar/2022 00:49:09] \"\u001b[37mPOST /_dash-update-component HTTP/1.1\u001b[0m\" 200 -\n"
     ]
    },
    {
     "name": "stdout",
     "output_type": "stream",
     "text": [
      "\n",
      "2022-03-29 12:48:00-04:00 2022-03-29 09:30:00-04:00\n",
      "2022-03-29 12:49:09 - Waiting for the next  3  minutes interval...\n"
     ]
    },
    {
     "name": "stderr",
     "output_type": "stream",
     "text": [
      "127.0.0.1 - - [30/Mar/2022 00:49:10] \"\u001b[37mPOST /_dash-update-component HTTP/1.1\u001b[0m\" 200 -\n",
      "127.0.0.1 - - [30/Mar/2022 00:49:10] \"\u001b[37mPOST /_dash-update-component HTTP/1.1\u001b[0m\" 200 -\n",
      "127.0.0.1 - - [30/Mar/2022 00:49:11] \"\u001b[37mPOST /_dash-update-component HTTP/1.1\u001b[0m\" 200 -\n",
      "127.0.0.1 - - [30/Mar/2022 00:49:12] \"\u001b[37mPOST /_dash-update-component HTTP/1.1\u001b[0m\" 200 -\n",
      "127.0.0.1 - - [30/Mar/2022 00:49:13] \"\u001b[37mPOST /_dash-update-component HTTP/1.1\u001b[0m\" 200 -\n",
      "127.0.0.1 - - [30/Mar/2022 00:49:14] \"\u001b[37mPOST /_dash-update-component HTTP/1.1\u001b[0m\" 200 -\n"
     ]
    },
    {
     "name": "stdout",
     "output_type": "stream",
     "text": [
      "2022-03-29\n",
      "[*********************100%***********************]  1 of 1 completed"
     ]
    },
    {
     "name": "stderr",
     "output_type": "stream",
     "text": [
      "127.0.0.1 - - [30/Mar/2022 00:49:14] \"\u001b[37mPOST /_dash-update-component HTTP/1.1\u001b[0m\" 200 -\n"
     ]
    },
    {
     "name": "stdout",
     "output_type": "stream",
     "text": [
      "\n",
      "2022-03-29 12:48:00-04:00 2022-03-29 09:30:00-04:00\n",
      "2022-03-29 12:49:14 - Waiting for the next  3  minutes interval...\n"
     ]
    },
    {
     "name": "stderr",
     "output_type": "stream",
     "text": [
      "127.0.0.1 - - [30/Mar/2022 00:49:15] \"\u001b[37mPOST /_dash-update-component HTTP/1.1\u001b[0m\" 200 -\n",
      "127.0.0.1 - - [30/Mar/2022 00:49:16] \"\u001b[37mPOST /_dash-update-component HTTP/1.1\u001b[0m\" 200 -\n",
      "127.0.0.1 - - [30/Mar/2022 00:49:17] \"\u001b[37mPOST /_dash-update-component HTTP/1.1\u001b[0m\" 200 -\n",
      "127.0.0.1 - - [30/Mar/2022 00:49:18] \"\u001b[37mPOST /_dash-update-component HTTP/1.1\u001b[0m\" 200 -\n",
      "127.0.0.1 - - [30/Mar/2022 00:49:19] \"\u001b[37mPOST /_dash-update-component HTTP/1.1\u001b[0m\" 200 -\n"
     ]
    },
    {
     "name": "stdout",
     "output_type": "stream",
     "text": [
      "2022-03-29\n",
      "[*********************100%***********************]  1 of 1 completed"
     ]
    },
    {
     "name": "stderr",
     "output_type": "stream",
     "text": [
      "127.0.0.1 - - [30/Mar/2022 00:49:19] \"\u001b[37mPOST /_dash-update-component HTTP/1.1\u001b[0m\" 200 -\n"
     ]
    },
    {
     "name": "stdout",
     "output_type": "stream",
     "text": [
      "\n",
      "2022-03-29 12:48:00-04:00 2022-03-29 09:30:00-04:00\n",
      "2022-03-29 12:49:19 - Waiting for the next  3  minutes interval...\n"
     ]
    },
    {
     "name": "stderr",
     "output_type": "stream",
     "text": [
      "127.0.0.1 - - [30/Mar/2022 00:49:20] \"\u001b[37mPOST /_dash-update-component HTTP/1.1\u001b[0m\" 200 -\n",
      "127.0.0.1 - - [30/Mar/2022 00:49:21] \"\u001b[37mPOST /_dash-update-component HTTP/1.1\u001b[0m\" 200 -\n",
      "127.0.0.1 - - [30/Mar/2022 00:49:22] \"\u001b[37mPOST /_dash-update-component HTTP/1.1\u001b[0m\" 200 -\n",
      "127.0.0.1 - - [30/Mar/2022 00:49:23] \"\u001b[37mPOST /_dash-update-component HTTP/1.1\u001b[0m\" 200 -\n",
      "127.0.0.1 - - [30/Mar/2022 00:49:24] \"\u001b[37mPOST /_dash-update-component HTTP/1.1\u001b[0m\" 200 -\n"
     ]
    },
    {
     "name": "stdout",
     "output_type": "stream",
     "text": [
      "2022-03-29\n",
      "[*********************100%***********************]  1 of 1 completed"
     ]
    },
    {
     "name": "stderr",
     "output_type": "stream",
     "text": [
      "127.0.0.1 - - [30/Mar/2022 00:49:24] \"\u001b[37mPOST /_dash-update-component HTTP/1.1\u001b[0m\" 200 -\n"
     ]
    },
    {
     "name": "stdout",
     "output_type": "stream",
     "text": [
      "\n",
      "2022-03-29 12:48:00-04:00 2022-03-29 09:30:00-04:00\n",
      "2022-03-29 12:49:24 - Waiting for the next  3  minutes interval...\n"
     ]
    },
    {
     "name": "stderr",
     "output_type": "stream",
     "text": [
      "127.0.0.1 - - [30/Mar/2022 00:49:25] \"\u001b[37mPOST /_dash-update-component HTTP/1.1\u001b[0m\" 200 -\n",
      "127.0.0.1 - - [30/Mar/2022 00:49:26] \"\u001b[37mPOST /_dash-update-component HTTP/1.1\u001b[0m\" 200 -\n",
      "127.0.0.1 - - [30/Mar/2022 00:49:27] \"\u001b[37mPOST /_dash-update-component HTTP/1.1\u001b[0m\" 200 -\n",
      "127.0.0.1 - - [30/Mar/2022 00:49:28] \"\u001b[37mPOST /_dash-update-component HTTP/1.1\u001b[0m\" 200 -\n",
      "127.0.0.1 - - [30/Mar/2022 00:49:28] \"\u001b[37mPOST /_dash-update-component HTTP/1.1\u001b[0m\" 200 -\n",
      "127.0.0.1 - - [30/Mar/2022 00:49:29] \"\u001b[37mPOST /_dash-update-component HTTP/1.1\u001b[0m\" 200 -\n"
     ]
    },
    {
     "name": "stdout",
     "output_type": "stream",
     "text": [
      "2022-03-29\n",
      "[*********************100%***********************]  1 of 1 completed"
     ]
    },
    {
     "name": "stderr",
     "output_type": "stream",
     "text": [
      "127.0.0.1 - - [30/Mar/2022 00:49:29] \"\u001b[37mPOST /_dash-update-component HTTP/1.1\u001b[0m\" 200 -\n"
     ]
    },
    {
     "name": "stdout",
     "output_type": "stream",
     "text": [
      "\n",
      "2022-03-29 12:48:00-04:00 2022-03-29 09:30:00-04:00\n",
      "2022-03-29 12:49:29 - Waiting for the next  3  minutes interval...\n"
     ]
    },
    {
     "name": "stderr",
     "output_type": "stream",
     "text": [
      "127.0.0.1 - - [30/Mar/2022 00:49:30] \"\u001b[37mPOST /_dash-update-component HTTP/1.1\u001b[0m\" 200 -\n",
      "127.0.0.1 - - [30/Mar/2022 00:49:31] \"\u001b[37mPOST /_dash-update-component HTTP/1.1\u001b[0m\" 200 -\n",
      "127.0.0.1 - - [30/Mar/2022 00:49:32] \"\u001b[37mPOST /_dash-update-component HTTP/1.1\u001b[0m\" 200 -\n",
      "127.0.0.1 - - [30/Mar/2022 00:49:33] \"\u001b[37mPOST /_dash-update-component HTTP/1.1\u001b[0m\" 200 -\n",
      "127.0.0.1 - - [30/Mar/2022 00:49:34] \"\u001b[37mPOST /_dash-update-component HTTP/1.1\u001b[0m\" 200 -\n"
     ]
    },
    {
     "name": "stdout",
     "output_type": "stream",
     "text": [
      "2022-03-29\n",
      "[*********************100%***********************]  1 of 1 completed"
     ]
    },
    {
     "name": "stderr",
     "output_type": "stream",
     "text": [
      "127.0.0.1 - - [30/Mar/2022 00:49:35] \"\u001b[37mPOST /_dash-update-component HTTP/1.1\u001b[0m\" 200 -\n"
     ]
    },
    {
     "name": "stdout",
     "output_type": "stream",
     "text": [
      "\n",
      "2022-03-29 12:48:00-04:00 2022-03-29 09:30:00-04:00\n",
      "2022-03-29 12:49:34 - Waiting for the next  3  minutes interval...\n"
     ]
    },
    {
     "name": "stderr",
     "output_type": "stream",
     "text": [
      "127.0.0.1 - - [30/Mar/2022 00:49:35] \"\u001b[37mPOST /_dash-update-component HTTP/1.1\u001b[0m\" 200 -\n",
      "127.0.0.1 - - [30/Mar/2022 00:49:36] \"\u001b[37mPOST /_dash-update-component HTTP/1.1\u001b[0m\" 200 -\n",
      "127.0.0.1 - - [30/Mar/2022 00:49:37] \"\u001b[37mPOST /_dash-update-component HTTP/1.1\u001b[0m\" 200 -\n",
      "127.0.0.1 - - [30/Mar/2022 00:49:38] \"\u001b[37mPOST /_dash-update-component HTTP/1.1\u001b[0m\" 200 -\n",
      "127.0.0.1 - - [30/Mar/2022 00:49:39] \"\u001b[37mPOST /_dash-update-component HTTP/1.1\u001b[0m\" 200 -\n"
     ]
    },
    {
     "name": "stdout",
     "output_type": "stream",
     "text": [
      "2022-03-29\n",
      "[*********************100%***********************]  1 of 1 completed"
     ]
    },
    {
     "name": "stderr",
     "output_type": "stream",
     "text": [
      "127.0.0.1 - - [30/Mar/2022 00:49:39] \"\u001b[37mPOST /_dash-update-component HTTP/1.1\u001b[0m\" 200 -\n"
     ]
    },
    {
     "name": "stdout",
     "output_type": "stream",
     "text": [
      "\n",
      "2022-03-29 12:48:00-04:00 2022-03-29 09:30:00-04:00\n",
      "2022-03-29 12:49:39 - Waiting for the next  3  minutes interval...\n"
     ]
    },
    {
     "name": "stderr",
     "output_type": "stream",
     "text": [
      "127.0.0.1 - - [30/Mar/2022 00:49:40] \"\u001b[37mPOST /_dash-update-component HTTP/1.1\u001b[0m\" 200 -\n",
      "127.0.0.1 - - [30/Mar/2022 00:49:41] \"\u001b[37mPOST /_dash-update-component HTTP/1.1\u001b[0m\" 200 -\n",
      "127.0.0.1 - - [30/Mar/2022 00:49:42] \"\u001b[37mPOST /_dash-update-component HTTP/1.1\u001b[0m\" 200 -\n",
      "127.0.0.1 - - [30/Mar/2022 00:49:43] \"\u001b[37mPOST /_dash-update-component HTTP/1.1\u001b[0m\" 200 -\n",
      "127.0.0.1 - - [30/Mar/2022 00:49:44] \"\u001b[37mPOST /_dash-update-component HTTP/1.1\u001b[0m\" 200 -\n"
     ]
    },
    {
     "name": "stdout",
     "output_type": "stream",
     "text": [
      "2022-03-29\n",
      "[*********************100%***********************]  1 of 1 completed"
     ]
    },
    {
     "name": "stderr",
     "output_type": "stream",
     "text": [
      "127.0.0.1 - - [30/Mar/2022 00:49:44] \"\u001b[37mPOST /_dash-update-component HTTP/1.1\u001b[0m\" 200 -\n"
     ]
    },
    {
     "name": "stdout",
     "output_type": "stream",
     "text": [
      "\n",
      "2022-03-29 12:48:00-04:00 2022-03-29 09:30:00-04:00\n",
      "2022-03-29 12:49:44 - Waiting for the next  3  minutes interval...\n"
     ]
    },
    {
     "name": "stderr",
     "output_type": "stream",
     "text": [
      "127.0.0.1 - - [30/Mar/2022 00:49:45] \"\u001b[37mPOST /_dash-update-component HTTP/1.1\u001b[0m\" 200 -\n",
      "127.0.0.1 - - [30/Mar/2022 00:49:46] \"\u001b[37mPOST /_dash-update-component HTTP/1.1\u001b[0m\" 200 -\n",
      "127.0.0.1 - - [30/Mar/2022 00:49:47] \"\u001b[37mPOST /_dash-update-component HTTP/1.1\u001b[0m\" 200 -\n",
      "127.0.0.1 - - [30/Mar/2022 00:49:48] \"\u001b[37mPOST /_dash-update-component HTTP/1.1\u001b[0m\" 200 -\n",
      "127.0.0.1 - - [30/Mar/2022 00:49:49] \"\u001b[37mPOST /_dash-update-component HTTP/1.1\u001b[0m\" 200 -\n"
     ]
    },
    {
     "name": "stdout",
     "output_type": "stream",
     "text": [
      "2022-03-29\n",
      "[*********************100%***********************]  1 of 1 completed"
     ]
    },
    {
     "name": "stderr",
     "output_type": "stream",
     "text": [
      "127.0.0.1 - - [30/Mar/2022 00:49:49] \"\u001b[37mPOST /_dash-update-component HTTP/1.1\u001b[0m\" 200 -\n"
     ]
    },
    {
     "name": "stdout",
     "output_type": "stream",
     "text": [
      "\n",
      "2022-03-29 12:48:00-04:00 2022-03-29 09:30:00-04:00\n",
      "2022-03-29 12:49:49 - Waiting for the next  3  minutes interval...\n"
     ]
    },
    {
     "name": "stderr",
     "output_type": "stream",
     "text": [
      "127.0.0.1 - - [30/Mar/2022 00:49:50] \"\u001b[37mPOST /_dash-update-component HTTP/1.1\u001b[0m\" 200 -\n",
      "127.0.0.1 - - [30/Mar/2022 00:49:51] \"\u001b[37mPOST /_dash-update-component HTTP/1.1\u001b[0m\" 200 -\n",
      "127.0.0.1 - - [30/Mar/2022 00:49:52] \"\u001b[37mPOST /_dash-update-component HTTP/1.1\u001b[0m\" 200 -\n",
      "127.0.0.1 - - [30/Mar/2022 00:49:53] \"\u001b[37mPOST /_dash-update-component HTTP/1.1\u001b[0m\" 200 -\n",
      "127.0.0.1 - - [30/Mar/2022 00:49:54] \"\u001b[37mPOST /_dash-update-component HTTP/1.1\u001b[0m\" 200 -\n"
     ]
    },
    {
     "name": "stdout",
     "output_type": "stream",
     "text": [
      "2022-03-29\n",
      "[*********************100%***********************]  1 of 1 completed"
     ]
    },
    {
     "name": "stderr",
     "output_type": "stream",
     "text": [
      "127.0.0.1 - - [30/Mar/2022 00:49:54] \"\u001b[37mPOST /_dash-update-component HTTP/1.1\u001b[0m\" 200 -\n"
     ]
    },
    {
     "name": "stdout",
     "output_type": "stream",
     "text": [
      "\n",
      "2022-03-29 12:48:00-04:00 2022-03-29 09:30:00-04:00\n",
      "2022-03-29 12:49:54 - Waiting for the next  3  minutes interval...\n"
     ]
    },
    {
     "name": "stderr",
     "output_type": "stream",
     "text": [
      "127.0.0.1 - - [30/Mar/2022 00:49:55] \"\u001b[37mPOST /_dash-update-component HTTP/1.1\u001b[0m\" 200 -\n",
      "127.0.0.1 - - [30/Mar/2022 00:49:56] \"\u001b[37mPOST /_dash-update-component HTTP/1.1\u001b[0m\" 200 -\n",
      "127.0.0.1 - - [30/Mar/2022 00:49:57] \"\u001b[37mPOST /_dash-update-component HTTP/1.1\u001b[0m\" 200 -\n",
      "127.0.0.1 - - [30/Mar/2022 00:49:58] \"\u001b[37mPOST /_dash-update-component HTTP/1.1\u001b[0m\" 200 -\n",
      "127.0.0.1 - - [30/Mar/2022 00:49:59] \"\u001b[37mPOST /_dash-update-component HTTP/1.1\u001b[0m\" 200 -\n"
     ]
    },
    {
     "name": "stdout",
     "output_type": "stream",
     "text": [
      "2022-03-29\n",
      "[*********************100%***********************]  1 of 1 completed"
     ]
    },
    {
     "name": "stderr",
     "output_type": "stream",
     "text": [
      "127.0.0.1 - - [30/Mar/2022 00:49:59] \"\u001b[37mPOST /_dash-update-component HTTP/1.1\u001b[0m\" 200 -\n"
     ]
    },
    {
     "name": "stdout",
     "output_type": "stream",
     "text": [
      "\n",
      "2022-03-29 12:48:00-04:00 2022-03-29 09:30:00-04:00\n",
      "2022-03-29 12:49:59 - Waiting for the next  3  minutes interval...\n"
     ]
    },
    {
     "name": "stderr",
     "output_type": "stream",
     "text": [
      "127.0.0.1 - - [30/Mar/2022 00:50:00] \"\u001b[37mPOST /_dash-update-component HTTP/1.1\u001b[0m\" 200 -\n",
      "127.0.0.1 - - [30/Mar/2022 00:50:01] \"\u001b[37mPOST /_dash-update-component HTTP/1.1\u001b[0m\" 200 -\n",
      "127.0.0.1 - - [30/Mar/2022 00:50:02] \"\u001b[37mPOST /_dash-update-component HTTP/1.1\u001b[0m\" 200 -\n",
      "127.0.0.1 - - [30/Mar/2022 00:50:03] \"\u001b[37mPOST /_dash-update-component HTTP/1.1\u001b[0m\" 200 -\n",
      "127.0.0.1 - - [30/Mar/2022 00:50:04] \"\u001b[37mPOST /_dash-update-component HTTP/1.1\u001b[0m\" 200 -\n"
     ]
    },
    {
     "name": "stdout",
     "output_type": "stream",
     "text": [
      "2022-03-29\n",
      "[*********************100%***********************]  1 of 1 completed"
     ]
    },
    {
     "name": "stderr",
     "output_type": "stream",
     "text": [
      "127.0.0.1 - - [30/Mar/2022 00:50:04] \"\u001b[37mPOST /_dash-update-component HTTP/1.1\u001b[0m\" 200 -\n"
     ]
    },
    {
     "name": "stdout",
     "output_type": "stream",
     "text": [
      "\n",
      "2022-03-29 12:48:00-04:00 2022-03-29 09:30:00-04:00\n",
      "2022-03-29 12:50:04 - Waiting for the next  3  minutes interval...\n"
     ]
    },
    {
     "name": "stderr",
     "output_type": "stream",
     "text": [
      "127.0.0.1 - - [30/Mar/2022 00:50:05] \"\u001b[37mPOST /_dash-update-component HTTP/1.1\u001b[0m\" 200 -\n",
      "127.0.0.1 - - [30/Mar/2022 00:50:06] \"\u001b[37mPOST /_dash-update-component HTTP/1.1\u001b[0m\" 200 -\n",
      "127.0.0.1 - - [30/Mar/2022 00:50:07] \"\u001b[37mPOST /_dash-update-component HTTP/1.1\u001b[0m\" 200 -\n",
      "127.0.0.1 - - [30/Mar/2022 00:50:08] \"\u001b[37mPOST /_dash-update-component HTTP/1.1\u001b[0m\" 200 -\n",
      "127.0.0.1 - - [30/Mar/2022 00:50:09] \"\u001b[37mPOST /_dash-update-component HTTP/1.1\u001b[0m\" 200 -\n"
     ]
    },
    {
     "name": "stdout",
     "output_type": "stream",
     "text": [
      "2022-03-29\n",
      "[*********************100%***********************]  1 of 1 completed"
     ]
    },
    {
     "name": "stderr",
     "output_type": "stream",
     "text": [
      "127.0.0.1 - - [30/Mar/2022 00:50:09] \"\u001b[37mPOST /_dash-update-component HTTP/1.1\u001b[0m\" 200 -\n"
     ]
    },
    {
     "name": "stdout",
     "output_type": "stream",
     "text": [
      "\n",
      "2022-03-29 12:48:00-04:00 2022-03-29 09:30:00-04:00\n",
      "2022-03-29 12:50:09 - Waiting for the next  3  minutes interval...\n"
     ]
    },
    {
     "name": "stderr",
     "output_type": "stream",
     "text": [
      "127.0.0.1 - - [30/Mar/2022 00:50:10] \"\u001b[37mPOST /_dash-update-component HTTP/1.1\u001b[0m\" 200 -\n",
      "127.0.0.1 - - [30/Mar/2022 00:50:11] \"\u001b[37mPOST /_dash-update-component HTTP/1.1\u001b[0m\" 200 -\n",
      "127.0.0.1 - - [30/Mar/2022 00:50:12] \"\u001b[37mPOST /_dash-update-component HTTP/1.1\u001b[0m\" 200 -\n",
      "127.0.0.1 - - [30/Mar/2022 00:50:13] \"\u001b[37mPOST /_dash-update-component HTTP/1.1\u001b[0m\" 200 -\n",
      "127.0.0.1 - - [30/Mar/2022 00:50:14] \"\u001b[37mPOST /_dash-update-component HTTP/1.1\u001b[0m\" 200 -\n"
     ]
    },
    {
     "name": "stdout",
     "output_type": "stream",
     "text": [
      "2022-03-29\n",
      "[*********************100%***********************]  1 of 1 completed"
     ]
    },
    {
     "name": "stderr",
     "output_type": "stream",
     "text": [
      "127.0.0.1 - - [30/Mar/2022 00:50:14] \"\u001b[37mPOST /_dash-update-component HTTP/1.1\u001b[0m\" 200 -\n"
     ]
    },
    {
     "name": "stdout",
     "output_type": "stream",
     "text": [
      "\n",
      "2022-03-29 12:48:00-04:00 2022-03-29 09:30:00-04:00\n",
      "2022-03-29 12:50:14 - Waiting for the next  3  minutes interval...\n"
     ]
    },
    {
     "name": "stderr",
     "output_type": "stream",
     "text": [
      "127.0.0.1 - - [30/Mar/2022 00:50:15] \"\u001b[37mPOST /_dash-update-component HTTP/1.1\u001b[0m\" 200 -\n",
      "127.0.0.1 - - [30/Mar/2022 00:50:16] \"\u001b[37mPOST /_dash-update-component HTTP/1.1\u001b[0m\" 200 -\n",
      "127.0.0.1 - - [30/Mar/2022 00:50:17] \"\u001b[37mPOST /_dash-update-component HTTP/1.1\u001b[0m\" 200 -\n",
      "127.0.0.1 - - [30/Mar/2022 00:50:17] \"\u001b[37mPOST /_dash-update-component HTTP/1.1\u001b[0m\" 200 -\n",
      "127.0.0.1 - - [30/Mar/2022 00:50:18] \"\u001b[37mPOST /_dash-update-component HTTP/1.1\u001b[0m\" 200 -\n",
      "127.0.0.1 - - [30/Mar/2022 00:50:18] \"\u001b[37mPOST /_dash-update-component HTTP/1.1\u001b[0m\" 200 -\n",
      "127.0.0.1 - - [30/Mar/2022 00:50:19] \"\u001b[37mPOST /_dash-update-component HTTP/1.1\u001b[0m\" 200 -\n"
     ]
    },
    {
     "name": "stdout",
     "output_type": "stream",
     "text": [
      "2022-03-29\n",
      "[*********************100%***********************]  1 of 1 completed"
     ]
    },
    {
     "name": "stderr",
     "output_type": "stream",
     "text": [
      "127.0.0.1 - - [30/Mar/2022 00:50:19] \"\u001b[37mPOST /_dash-update-component HTTP/1.1\u001b[0m\" 200 -\n"
     ]
    },
    {
     "name": "stdout",
     "output_type": "stream",
     "text": [
      "\n",
      "2022-03-29 12:48:00-04:00 2022-03-29 09:30:00-04:00\n",
      "2022-03-29 12:50:19 - Waiting for the next  3  minutes interval...\n"
     ]
    },
    {
     "name": "stderr",
     "output_type": "stream",
     "text": [
      "127.0.0.1 - - [30/Mar/2022 00:50:20] \"\u001b[37mPOST /_dash-update-component HTTP/1.1\u001b[0m\" 200 -\n",
      "127.0.0.1 - - [30/Mar/2022 00:50:21] \"\u001b[37mPOST /_dash-update-component HTTP/1.1\u001b[0m\" 200 -\n",
      "127.0.0.1 - - [30/Mar/2022 00:50:22] \"\u001b[37mPOST /_dash-update-component HTTP/1.1\u001b[0m\" 200 -\n",
      "127.0.0.1 - - [30/Mar/2022 00:50:23] \"\u001b[37mPOST /_dash-update-component HTTP/1.1\u001b[0m\" 200 -\n",
      "127.0.0.1 - - [30/Mar/2022 00:50:24] \"\u001b[37mPOST /_dash-update-component HTTP/1.1\u001b[0m\" 200 -\n"
     ]
    },
    {
     "name": "stdout",
     "output_type": "stream",
     "text": [
      "2022-03-29\n",
      "[*********************100%***********************]  1 of 1 completed"
     ]
    },
    {
     "name": "stderr",
     "output_type": "stream",
     "text": [
      "127.0.0.1 - - [30/Mar/2022 00:50:24] \"\u001b[37mPOST /_dash-update-component HTTP/1.1\u001b[0m\" 200 -\n"
     ]
    },
    {
     "name": "stdout",
     "output_type": "stream",
     "text": [
      "\n",
      "2022-03-29 12:48:00-04:00 2022-03-29 09:30:00-04:00\n",
      "2022-03-29 12:50:24 - Waiting for the next  3  minutes interval...\n"
     ]
    },
    {
     "name": "stderr",
     "output_type": "stream",
     "text": [
      "127.0.0.1 - - [30/Mar/2022 00:50:25] \"\u001b[37mPOST /_dash-update-component HTTP/1.1\u001b[0m\" 200 -\n",
      "127.0.0.1 - - [30/Mar/2022 00:50:26] \"\u001b[37mPOST /_dash-update-component HTTP/1.1\u001b[0m\" 200 -\n",
      "127.0.0.1 - - [30/Mar/2022 00:50:27] \"\u001b[37mPOST /_dash-update-component HTTP/1.1\u001b[0m\" 200 -\n",
      "127.0.0.1 - - [30/Mar/2022 00:50:28] \"\u001b[37mPOST /_dash-update-component HTTP/1.1\u001b[0m\" 200 -\n",
      "127.0.0.1 - - [30/Mar/2022 00:50:29] \"\u001b[37mPOST /_dash-update-component HTTP/1.1\u001b[0m\" 200 -\n"
     ]
    },
    {
     "name": "stdout",
     "output_type": "stream",
     "text": [
      "2022-03-29\n",
      "[*********************100%***********************]  1 of 1 completed"
     ]
    },
    {
     "name": "stderr",
     "output_type": "stream",
     "text": [
      "127.0.0.1 - - [30/Mar/2022 00:50:29] \"\u001b[37mPOST /_dash-update-component HTTP/1.1\u001b[0m\" 200 -\n"
     ]
    },
    {
     "name": "stdout",
     "output_type": "stream",
     "text": [
      "\n",
      "2022-03-29 12:48:00-04:00 2022-03-29 09:30:00-04:00\n",
      "2022-03-29 12:50:29 - Waiting for the next  3  minutes interval...\n"
     ]
    },
    {
     "name": "stderr",
     "output_type": "stream",
     "text": [
      "127.0.0.1 - - [30/Mar/2022 00:50:30] \"\u001b[37mPOST /_dash-update-component HTTP/1.1\u001b[0m\" 200 -\n",
      "127.0.0.1 - - [30/Mar/2022 00:50:31] \"\u001b[37mPOST /_dash-update-component HTTP/1.1\u001b[0m\" 200 -\n",
      "127.0.0.1 - - [30/Mar/2022 00:50:32] \"\u001b[37mPOST /_dash-update-component HTTP/1.1\u001b[0m\" 200 -\n",
      "127.0.0.1 - - [30/Mar/2022 00:50:33] \"\u001b[37mPOST /_dash-update-component HTTP/1.1\u001b[0m\" 200 -\n",
      "127.0.0.1 - - [30/Mar/2022 00:50:34] \"\u001b[37mPOST /_dash-update-component HTTP/1.1\u001b[0m\" 200 -\n"
     ]
    },
    {
     "name": "stdout",
     "output_type": "stream",
     "text": [
      "2022-03-29\n",
      "[*********************100%***********************]  1 of 1 completed"
     ]
    },
    {
     "name": "stderr",
     "output_type": "stream",
     "text": [
      "127.0.0.1 - - [30/Mar/2022 00:50:34] \"\u001b[37mPOST /_dash-update-component HTTP/1.1\u001b[0m\" 200 -\n"
     ]
    },
    {
     "name": "stdout",
     "output_type": "stream",
     "text": [
      "\n",
      "2022-03-29 12:48:00-04:00 2022-03-29 09:30:00-04:00\n",
      "2022-03-29 12:50:34 - Waiting for the next  3  minutes interval...\n"
     ]
    },
    {
     "name": "stderr",
     "output_type": "stream",
     "text": [
      "127.0.0.1 - - [30/Mar/2022 00:50:35] \"\u001b[37mPOST /_dash-update-component HTTP/1.1\u001b[0m\" 200 -\n",
      "127.0.0.1 - - [30/Mar/2022 00:50:36] \"\u001b[37mPOST /_dash-update-component HTTP/1.1\u001b[0m\" 200 -\n",
      "127.0.0.1 - - [30/Mar/2022 00:50:37] \"\u001b[37mPOST /_dash-update-component HTTP/1.1\u001b[0m\" 200 -\n",
      "127.0.0.1 - - [30/Mar/2022 00:50:38] \"\u001b[37mPOST /_dash-update-component HTTP/1.1\u001b[0m\" 200 -\n",
      "127.0.0.1 - - [30/Mar/2022 00:50:39] \"\u001b[37mPOST /_dash-update-component HTTP/1.1\u001b[0m\" 200 -\n"
     ]
    },
    {
     "name": "stdout",
     "output_type": "stream",
     "text": [
      "2022-03-29\n",
      "[*********************100%***********************]  1 of 1 completed"
     ]
    },
    {
     "name": "stderr",
     "output_type": "stream",
     "text": [
      "127.0.0.1 - - [30/Mar/2022 00:50:39] \"\u001b[37mPOST /_dash-update-component HTTP/1.1\u001b[0m\" 200 -\n"
     ]
    },
    {
     "name": "stdout",
     "output_type": "stream",
     "text": [
      "\n",
      "2022-03-29 12:48:00-04:00 2022-03-29 09:30:00-04:00\n",
      "2022-03-29 12:50:39 - Waiting for the next  3  minutes interval...\n"
     ]
    },
    {
     "name": "stderr",
     "output_type": "stream",
     "text": [
      "127.0.0.1 - - [30/Mar/2022 00:50:40] \"\u001b[37mPOST /_dash-update-component HTTP/1.1\u001b[0m\" 200 -\n",
      "127.0.0.1 - - [30/Mar/2022 00:50:41] \"\u001b[37mPOST /_dash-update-component HTTP/1.1\u001b[0m\" 200 -\n",
      "127.0.0.1 - - [30/Mar/2022 00:50:42] \"\u001b[37mPOST /_dash-update-component HTTP/1.1\u001b[0m\" 200 -\n",
      "127.0.0.1 - - [30/Mar/2022 00:50:43] \"\u001b[37mPOST /_dash-update-component HTTP/1.1\u001b[0m\" 200 -\n",
      "127.0.0.1 - - [30/Mar/2022 00:50:44] \"\u001b[37mPOST /_dash-update-component HTTP/1.1\u001b[0m\" 200 -\n"
     ]
    },
    {
     "name": "stdout",
     "output_type": "stream",
     "text": [
      "2022-03-29\n",
      "[*********************100%***********************]  1 of 1 completed"
     ]
    },
    {
     "name": "stderr",
     "output_type": "stream",
     "text": [
      "127.0.0.1 - - [30/Mar/2022 00:50:44] \"\u001b[37mPOST /_dash-update-component HTTP/1.1\u001b[0m\" 200 -\n"
     ]
    },
    {
     "name": "stdout",
     "output_type": "stream",
     "text": [
      "\n",
      "2022-03-29 12:48:00-04:00 2022-03-29 09:30:00-04:00\n",
      "2022-03-29 12:50:44 - Waiting for the next  3  minutes interval...\n"
     ]
    },
    {
     "name": "stderr",
     "output_type": "stream",
     "text": [
      "127.0.0.1 - - [30/Mar/2022 00:50:45] \"\u001b[37mPOST /_dash-update-component HTTP/1.1\u001b[0m\" 200 -\n",
      "127.0.0.1 - - [30/Mar/2022 00:50:46] \"\u001b[37mPOST /_dash-update-component HTTP/1.1\u001b[0m\" 200 -\n",
      "127.0.0.1 - - [30/Mar/2022 00:50:47] \"\u001b[37mPOST /_dash-update-component HTTP/1.1\u001b[0m\" 200 -\n",
      "127.0.0.1 - - [30/Mar/2022 00:50:48] \"\u001b[37mPOST /_dash-update-component HTTP/1.1\u001b[0m\" 200 -\n",
      "127.0.0.1 - - [30/Mar/2022 00:50:49] \"\u001b[37mPOST /_dash-update-component HTTP/1.1\u001b[0m\" 200 -\n"
     ]
    },
    {
     "name": "stdout",
     "output_type": "stream",
     "text": [
      "2022-03-29\n",
      "[*********************100%***********************]  1 of 1 completed"
     ]
    },
    {
     "name": "stderr",
     "output_type": "stream",
     "text": [
      "127.0.0.1 - - [30/Mar/2022 00:50:49] \"\u001b[37mPOST /_dash-update-component HTTP/1.1\u001b[0m\" 200 -\n"
     ]
    },
    {
     "name": "stdout",
     "output_type": "stream",
     "text": [
      "\n",
      "2022-03-29 12:48:00-04:00 2022-03-29 09:30:00-04:00\n",
      "2022-03-29 12:50:49 - Waiting for the next  3  minutes interval...\n"
     ]
    }
   ],
   "source": [
    "import dash\n",
    "from dash import dcc, html\n",
    "import plotly\n",
    "from dash import Dash, html, Input, Output, State, dash_table\n",
    "import pandas as pd\n",
    "import plotly.graph_objects as go\n",
    "\n",
    "# Read and Create Watchlist Dictionary\n",
    "watchlist_dict = create_watchlist_dict(\"./Watchlist_test.csv\")\n",
    "eastern_tzinfo = pytz.timezone(\"US/Eastern\")\n",
    "\n",
    "# Initialize Dashboard Data Dataframe\n",
    "headings =  [\"TIME\", \"TICKER\", \"POSITION TYPE\", \"STRATEGY TYPE\", \"ADDITIONAL INFO\"]\n",
    "df_data = pd.DataFrame(columns=headings)\n",
    "\n",
    "#df_data.loc[len(df_data)] = [\"24/02/2022 9:33PM\", \"MSFT\", \"LONG\", \"Triple EMA\", \"5 candles above\"]\n",
    "#df_data.loc[len(df_data)] = [\"24/02/2022 9:33PM\", \"TSLA\", \"SHORT\", \"EMA9 VWAP Crossover\", None]\n",
    "#print(df_data.to_dict('records'))    \n",
    "app = dash.Dash(__name__)\n",
    "\n",
    "app.layout = html.Div([\n",
    "    html.Div(id='live-time-update-text',\n",
    "             style={'font-size': '50px', 'textAlign': 'center'}),\n",
    "    html.H4('Stocks Scanner Live Feed Table - 3 Minutes Interval'),\n",
    "    #html.P(id='data_table'),\n",
    "    dash_table.DataTable(\n",
    "        id='data_table',\n",
    "        columns=[{\"name\": i, \"id\": i} \n",
    "                 for i in headings],\n",
    "        data= df_data.to_dict('records'),\n",
    "        #data=df.to_dict('records'),\n",
    "        style_cell=dict(textAlign='left'),\n",
    "        style_header={\n",
    "            'backgroundColor': '#191970',\n",
    "            'color': 'white'},\n",
    "        style_data=dict(backgroundColor=\"#FF8C00\"),\n",
    "        fixed_rows={'headers': True},\n",
    "        style_table={'height': '300px', 'overflowY': 'auto'},\n",
    "        style_data_conditional=[]\n",
    "    ),\n",
    "    dcc.Interval(\n",
    "        id='interval-component',\n",
    "        interval=5*1000, # in milliseconds\n",
    "        n_intervals=0\n",
    "    ),\n",
    "    dcc.Interval(\n",
    "        id='live-time-interval-component',\n",
    "        interval=1000 # in milliseconds\n",
    "    ),\n",
    "    dcc.Store(id='store_local', storage_type='session'),\n",
    "    dcc.Graph(id='live-candlestick-graph'),\n",
    "    html.Div(id='output_div')\n",
    "])\n",
    "\n",
    "# Get Active Cell Click\n",
    "@app.callback(\n",
    "    [Output('output_div', 'children'),\n",
    "    Output('live-candlestick-graph', 'figure')],\n",
    "    Input('data_table', 'active_cell'),\n",
    "    State('data_table', 'data')\n",
    ")\n",
    "def getActiveCell(active_cell, data):\n",
    "    if active_cell:\n",
    "        col = active_cell['column_id']\n",
    "        row = active_cell['row']\n",
    "        cellData = data[row][col]\n",
    "        timestmap = data[row]['TIME']\n",
    "        ticker = data[row]['TICKER']\n",
    "        \n",
    "        # Extract Dataframe with watchlist dictionary\n",
    "        result_df = watchlist_dict[ticker]\n",
    "        \n",
    "        # Narrow to active cell's timestamp\n",
    "        _narrow_result_df = result_df.loc[:timestmap]\n",
    "        \n",
    "        fig = go.Figure(go.Candlestick(\n",
    "            x=_narrow_result_df.index,\n",
    "            open=_narrow_result_df['Open'],\n",
    "            high=_narrow_result_df['High'],\n",
    "            low=_narrow_result_df['Low'],\n",
    "            close=_narrow_result_df['Close'],\n",
    "            name = ticker\n",
    "        ))\n",
    "        \n",
    "        fig.add_trace(go.Scatter(x=_narrow_result_df.index, y=_narrow_result_df['vwap'], mode='lines', name = 'VWAP', \n",
    "                  line=dict(color='teal')))\n",
    "        fig.add_trace(go.Scatter(x=_narrow_result_df.index, y=_narrow_result_df['ema_nine'], mode='lines', name = 'EMA9', \n",
    "                  line=dict(color='blue')))\n",
    "        fig.add_trace(go.Scatter(x=_narrow_result_df.index, y=_narrow_result_df['ema_thirteen'], mode='lines', name = 'EMA13', \n",
    "                  line=dict(color='purple')))\n",
    "        \n",
    "        fig.update_xaxes(\n",
    "            rangeslider_visible=True,\n",
    "            rangebreaks=[\n",
    "                # NOTE: Below values are bound (not single values), ie. hide x to y\n",
    "                dict(bounds=[\"sat\", \"mon\"]),  # hide weekends, eg. hide sat to before mon\n",
    "                dict(bounds=[16, 9.5], pattern=\"hour\"),  # hide hours outside of 9.30am-4pm\n",
    "                # dict(values=[\"2020-12-25\", \"2021-01-01\"])  # hide holidays (Christmas and New Year's, etc)\n",
    "            ]\n",
    "        )\n",
    "        \n",
    "        return html.P(f'row: {row}, col: {col}, value: {cellData}, timestamp: {timestmap}, ticker: {ticker}'), fig\n",
    "    return html.P('no cell selected')\n",
    "\n",
    "# Live Time Update\n",
    "@app.callback(Output('live-time-update-text', 'children'),\n",
    "              [Input('live-time-interval-component', 'n_intervals')])\n",
    "def update_date(n_int):\n",
    "      return [html.P(datetime.datetime.now(eastern_tzinfo).strftime('%Y-%m-%d %H:%M:%S'))]\n",
    "\n",
    "# Run Strategy    \n",
    "@app.callback(\n",
    "    [Output('data_table', 'data'),\n",
    "    Output('data_table', 'style_data_conditional'),\n",
    "    Output('store_local', 'data')],\n",
    "    Input('interval-component', 'n_intervals'),\n",
    "    [State('data_table', 'data'),\n",
    "    State('store_local', 'data')]\n",
    ")\n",
    "def updateData(n, data, live_counter):\n",
    "    #if n > -1:\n",
    "    # Run Strategy\n",
    "    #data = run_strategy(n, data, watchlist_dict)\n",
    "    data, live_counter = live_run_strategy(n, data, watchlist_dict, live_counter)\n",
    "    #data.append({'TIME': \"24/02/2022 9:36PM\", 'TICKER': \"TSLA\", 'POSITION TYPE': \"SHORT\", 'STRATEGY TYPE':\"EMA9 VWAP Crossover\", 'ADDITIONAL INFO':None})\n",
    "    #data.append({'TIME': \"24/02/2022 9:36PM\", 'TICKER': \"MSFT\", 'POSITION TYPE': \"LONG\", 'STRATEGY TYPE':\"EMA9 VWAP Crossover\", 'ADDITIONAL INFO':None})\n",
    "    df_data = pd.DataFrame.from_records(data)\n",
    "#     df_data['TIME'] = pd.to_datetime(\n",
    "#                           df_data['TIME'],\n",
    "#                           format='%Y-%m-%d %H:%M:%S%z'\n",
    "#     )\n",
    "    default_cond_style = []\n",
    "    if(df_data.shape[0]>0):\n",
    "        # Update the latest datetime entries with different colour\n",
    "        data_latest_datetime = df_data['TIME'].iloc[-1]\n",
    "        data_latest_datetime_cast = pd.Timestamp(data_latest_datetime)\n",
    "        #print(data_latest_datetime_cast, type(data_latest_datetime_cast))\n",
    "        # Cast to String\n",
    "        date_time_now_str = data_latest_datetime_cast.strftime('%Y-%m-%dT%H:%M:%S%z')\n",
    "        #print(data_latest_datetime_cast, date_time_now_str)\n",
    "        # Refer to https://www.rapidtables.com/web/css/css-color.html#blue for color\n",
    "        default_cond_style = [\n",
    "            {'if': {'filter_query': '{{TIME}} = {}'.format(date_time_now_str)},\n",
    "            'backgroundColor': '#FF8C00',\n",
    "                'color': 'black'},\n",
    "            {'if': {'filter_query': '{{TIME}} < {}'.format(date_time_now_str),},\n",
    "            'backgroundColor': \"#778899\",\n",
    "                'color': 'white'}\n",
    "        ]\n",
    "        \n",
    "    return data, default_cond_style, live_counter\n",
    "\n",
    "if __name__ == '__main__':        \n",
    "    app.run_server(debug=False, use_reloader=False)    \n",
    "    "
   ]
  },
  {
   "cell_type": "code",
   "execution_count": 8,
   "metadata": {
    "scrolled": false
   },
   "outputs": [
    {
     "ename": "NameError",
     "evalue": "name 'result_df' is not defined",
     "output_type": "error",
     "traceback": [
      "\u001b[1;31m---------------------------------------------------------------------------\u001b[0m",
      "\u001b[1;31mNameError\u001b[0m                                 Traceback (most recent call last)",
      "\u001b[1;32m<ipython-input-8-3cbf3a9fcd23>\u001b[0m in \u001b[0;36m<module>\u001b[1;34m\u001b[0m\n\u001b[1;32m----> 1\u001b[1;33m \u001b[0mresult_df\u001b[0m\u001b[1;33m.\u001b[0m\u001b[0mloc\u001b[0m\u001b[1;33m[\u001b[0m\u001b[0mresult_df\u001b[0m\u001b[1;33m[\u001b[0m\u001b[1;34m'crossover_position'\u001b[0m\u001b[1;33m]\u001b[0m \u001b[1;33m==\u001b[0m \u001b[1;36m1\u001b[0m\u001b[1;33m]\u001b[0m\u001b[1;33m\u001b[0m\u001b[1;33m\u001b[0m\u001b[0m\n\u001b[0m",
      "\u001b[1;31mNameError\u001b[0m: name 'result_df' is not defined"
     ]
    }
   ],
   "source": [
    "result_df.loc[result_df['crossover_position'] == 1]"
   ]
  },
  {
   "cell_type": "code",
   "execution_count": null,
   "metadata": {
    "scrolled": true
   },
   "outputs": [],
   "source": [
    "result_df.loc[result_df['crossover_position'] == -1]"
   ]
  },
  {
   "cell_type": "code",
   "execution_count": null,
   "metadata": {
    "scrolled": false
   },
   "outputs": [],
   "source": [
    "result_df.loc[result_df['triple_ema_hold_rule_one'] == -1]"
   ]
  },
  {
   "cell_type": "code",
   "execution_count": null,
   "metadata": {
    "scrolled": false
   },
   "outputs": [],
   "source": [
    "result_df.loc[result_df['triple_ema_retest_rule_two'] == -1]"
   ]
  },
  {
   "cell_type": "code",
   "execution_count": null,
   "metadata": {},
   "outputs": [],
   "source": [
    "from flask import Flask, render_template\n",
    "\n",
    "app = Flask(__name__)\n",
    "headings =  (\"TIME\", \"TICKER\", \"POSITION TYPE\")\n",
    "data = (\n",
    "    (\"24/02/2022 9:33PM\", \"MSFT\", \"LONG\"),\n",
    "    (\"24/02/2022 9:33PM\", \"TSLA\", \"SHORT\")\n",
    ")\n",
    "@app.route(\"/\")\n",
    "def table ():\n",
    "    return render_template(\"table.html\", headings=headings, data=data)\n",
    "\n",
    "if __name__ == \"__main__\":\n",
    "    app.run(debug=False)"
   ]
  },
  {
   "cell_type": "code",
   "execution_count": null,
   "metadata": {
    "scrolled": false
   },
   "outputs": [],
   "source": [
    "# Pull Live Data\n",
    "intraday_data_new = yf.download(tickers='BIDU', period='2d', interval='1m', auto_adjust=True) \n",
    "intraday_data_new.tail()"
   ]
  },
  {
   "cell_type": "code",
   "execution_count": null,
   "metadata": {
    "scrolled": true
   },
   "outputs": [],
   "source": [
    "test_intraday_data = yf.download(tickers='MSFT', period='1d', interval='1m', auto_adjust=True)\n",
    "test_intraday_data.head()\n",
    "datetime_time = datetime.datetime.combine(today_date, datetime.time(9, 30, 0))\n",
    "test_intraday_data.loc[:datetime_time].head(10)"
   ]
  },
  {
   "cell_type": "code",
   "execution_count": null,
   "metadata": {
    "scrolled": true
   },
   "outputs": [],
   "source": [
    "from statistics import mean\n",
    "from matplotlib import pyplot  as plt\n",
    "%matplotlib\n",
    "\n",
    "mean_time_taken = round(mean(time_list),4)\n",
    "\n",
    "fig = plt.figure()\n",
    "plt.plot(time_list,'g', label='All 3 Methods')\n",
    "plt.plot(triple_ema_time_list,'b', label='Triple EMA')\n",
    "plt.plot(ema9_crossover_time_list,'k', label='EMA9 + VWAP Combo')\n",
    "plt.plot(vwap_time_list,'r', label='VWAP Retest')\n",
    "plt.axhline(y = mean_time_taken, color = 'm', linestyle = '--')\n",
    "plt.xlabel('Iterations')\n",
    "plt.ylabel('Time Taken (seconds)')\n",
    "plt.title('Processing time taken for 1 ticker across each iteration')\n",
    "plt.grid(True)\n",
    "plt.legend([\"All 3 Methods\", \"Triple EMA\", \"EMA9 + VWAP Combo\", \"VWAP Retest\", 'Mean Time Taken'], loc=\"upper left\")\n",
    "plt.show()\n",
    "\n",
    "from statistics import mean\n",
    "round(mean(time_list),4)"
   ]
  },
  {
   "cell_type": "code",
   "execution_count": null,
   "metadata": {},
   "outputs": [],
   "source": [
    "today_date = datetime.date(2022, 3, 29) # to be replaced by datetime.now()\n",
    "\n",
    "\n",
    "spy_data_latest_datetime = datetime.datetime.combine(today_date, datetime.time(11, 57, 0))\n",
    "elapsed_time = spy_data_latest_datetime - datetime.datetime.combine(today_date, datetime.time(9, 30, 0))\n",
    "print(elapsed_time)\n",
    "\n",
    "# 3 Minutes\n",
    "interval = 3\n",
    "total_elapsed_interval = elapsed_time.total_seconds()//(interval*60)\n"
   ]
  },
  {
   "cell_type": "code",
   "execution_count": null,
   "metadata": {},
   "outputs": [],
   "source": []
  }
 ],
 "metadata": {
  "kernelspec": {
   "display_name": "Python 3",
   "language": "python",
   "name": "python3"
  },
  "language_info": {
   "codemirror_mode": {
    "name": "ipython",
    "version": 3
   },
   "file_extension": ".py",
   "mimetype": "text/x-python",
   "name": "python",
   "nbconvert_exporter": "python",
   "pygments_lexer": "ipython3",
   "version": "3.8.5"
  }
 },
 "nbformat": 4,
 "nbformat_minor": 4
}
