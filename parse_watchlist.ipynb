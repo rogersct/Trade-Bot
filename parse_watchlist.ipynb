{
 "cells": [
  {
   "cell_type": "code",
   "execution_count": 1,
   "metadata": {},
   "outputs": [],
   "source": [
    "# importing pandas\n",
    "import pandas as pd\n",
    "\n",
    "# Read Text Files export from Trading View\n",
    "# Parse the text and convert into a pandas df\n",
    "\n",
    "watchlist_filename = \"./Watchlist.txt\"\n",
    "\n",
    "# Open .txt file\n",
    "f = open(watchlist_filename, \"r\")\n",
    "\n",
    "# Create empty dataframe with columns exchange and symbol\n",
    "column_names = [\"Exchange\", \"Symbol\"]\n",
    "df = pd.DataFrame(columns = column_names)\n",
    "\n",
    "# Parse Line in .txt file\n",
    "for x in f:\n",
    "    # Split by \",\"\n",
    "    watchlist_list = x.split(\",\")\n",
    "    #print(watchlist_list)\n",
    "    for text in watchlist_list:\n",
    "        split_text = text.split(\":\")\n",
    "        #print(split_text)\n",
    "        \n",
    "        if len(split_text) > 1:\n",
    "            # Consiste of Exchange and Symbol\n",
    "            df = df.append({'Exchange':split_text[0], 'Symbol':split_text[1]}, ignore_index=True)\n",
    "    \n",
    "# Close File    \n",
    "f.close()\n",
    "\n",
    "# Write dataframe to csv file\n",
    "watchlist_filename_csv = watchlist_filename.replace('.txt', '.csv')\n",
    "df.to_csv(watchlist_filename_csv, index=False, header=True)\n"
   ]
  },
  {
   "cell_type": "code",
   "execution_count": 2,
   "metadata": {},
   "outputs": [
    {
     "data": {
      "text/html": [
       "<div>\n",
       "<style scoped>\n",
       "    .dataframe tbody tr th:only-of-type {\n",
       "        vertical-align: middle;\n",
       "    }\n",
       "\n",
       "    .dataframe tbody tr th {\n",
       "        vertical-align: top;\n",
       "    }\n",
       "\n",
       "    .dataframe thead th {\n",
       "        text-align: right;\n",
       "    }\n",
       "</style>\n",
       "<table border=\"1\" class=\"dataframe\">\n",
       "  <thead>\n",
       "    <tr style=\"text-align: right;\">\n",
       "      <th></th>\n",
       "      <th>Exchange</th>\n",
       "      <th>Symbol</th>\n",
       "    </tr>\n",
       "  </thead>\n",
       "  <tbody>\n",
       "    <tr>\n",
       "      <th>0</th>\n",
       "      <td>NASDAQ</td>\n",
       "      <td>AAPL</td>\n",
       "    </tr>\n",
       "    <tr>\n",
       "      <th>1</th>\n",
       "      <td>NASDAQ</td>\n",
       "      <td>ABNB</td>\n",
       "    </tr>\n",
       "    <tr>\n",
       "      <th>2</th>\n",
       "      <td>NASDAQ</td>\n",
       "      <td>ADBE</td>\n",
       "    </tr>\n",
       "    <tr>\n",
       "      <th>3</th>\n",
       "      <td>NASDAQ</td>\n",
       "      <td>AMZN</td>\n",
       "    </tr>\n",
       "    <tr>\n",
       "      <th>4</th>\n",
       "      <td>NYSE</td>\n",
       "      <td>BABA</td>\n",
       "    </tr>\n",
       "  </tbody>\n",
       "</table>\n",
       "</div>"
      ],
      "text/plain": [
       "  Exchange Symbol\n",
       "0   NASDAQ   AAPL\n",
       "1   NASDAQ   ABNB\n",
       "2   NASDAQ   ADBE\n",
       "3   NASDAQ   AMZN\n",
       "4     NYSE   BABA"
      ]
     },
     "execution_count": 2,
     "metadata": {},
     "output_type": "execute_result"
    }
   ],
   "source": [
    "df.head()"
   ]
  },
  {
   "cell_type": "code",
   "execution_count": null,
   "metadata": {},
   "outputs": [],
   "source": []
  }
 ],
 "metadata": {
  "kernelspec": {
   "display_name": "Python 3",
   "language": "python",
   "name": "python3"
  },
  "language_info": {
   "codemirror_mode": {
    "name": "ipython",
    "version": 3
   },
   "file_extension": ".py",
   "mimetype": "text/x-python",
   "name": "python",
   "nbconvert_exporter": "python",
   "pygments_lexer": "ipython3",
   "version": "3.8.5"
  }
 },
 "nbformat": 4,
 "nbformat_minor": 4
}
